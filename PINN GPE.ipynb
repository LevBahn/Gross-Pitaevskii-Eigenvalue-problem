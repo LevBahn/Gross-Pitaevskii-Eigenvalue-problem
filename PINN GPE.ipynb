{
 "cells": [
  {
   "cell_type": "code",
   "execution_count": 171,
   "id": "93e4c1e8",
   "metadata": {},
   "outputs": [],
   "source": [
    "import numpy as np\n",
    "import torch as t\n",
    "import matplotlib.pyplot as plt\n",
    "import tqdm as tq\n",
    "from matplotlib import rc\n",
    "rc('animation', html='jshtml')\n",
    "import matplotlib.animation as animation\n",
    "import winsound\n",
    "Freq = 1500 # Set Frequency To 2500 Hertz\n",
    "Dur = 1000 # Set Duration To 1000 ms == 1 second\n"
   ]
  },
  {
   "cell_type": "code",
   "execution_count": 172,
   "id": "cf04c2ff",
   "metadata": {},
   "outputs": [],
   "source": [
    "l=5"
   ]
  },
  {
   "cell_type": "code",
   "execution_count": 173,
   "id": "eb3239b1",
   "metadata": {},
   "outputs": [],
   "source": [
    "# t.exp(x)\n",
    "# t.sin(x)\n",
    "# t.lop(1+t.exp(x))\n",
    "R=t.pi\n",
    "b=1\n",
    "eta=1\n",
    "\n",
    "\n",
    "def act(x):\n",
    "    return t.sin(x)\n",
    "#t.log(1+t.exp(x))\n",
    "\n",
    "def dact(x):\n",
    "    return t.cos(x)\n",
    "#t.exp(x)/(1+t.exp(x))\n",
    "\n",
    "def ddact(x):\n",
    "    return -t.sin(x)\n",
    "#(t.exp(x)*(1+t.exp(x))-t.exp(x)**2)/(1+t.exp(x))**2\n",
    "\n",
    "def dddact(x):\n",
    "    return -t.cos(x)\n",
    "#(t.exp(x)*(1-t.exp(x)))/(1+t.exp(x))**3\n",
    "\n",
    "def L2(c,w,x):\n",
    "    a=0\n",
    "    n=x.size(0)\n",
    "    for i in range(n):\n",
    "        a=a+net(c,w,x[i])**2\n",
    "    return (R/n)*a\n",
    "\n",
    "def E(x,c,w):\n",
    "    a=0\n",
    "    n=x.size(0)\n",
    "    m=c.size(0)\n",
    "    norm=0\n",
    "    for i in range(n):\n",
    "        e=0\n",
    "        p=0\n",
    "        z=0\n",
    "        norm=norm+0 #(t.matmul(c,act(w*x[i]))**2 -1/t.pi )\n",
    "        for j in range(m):\n",
    "            e=e+c[j]*((w[j]**2)*ddact(w[j]*x[i])+l*act(w[j]*x[i]))\n",
    "            p=p+c[j]*act(w[j]*t.pi)\n",
    "            z=z+c[j]*act(t.zeros(1))\n",
    "        a=a+e**2+p**2+z**2 \n",
    "    return a+((t.pi/n)*norm)**2\n",
    "\n",
    "def net(c,w,x):\n",
    "    return t.matmul(c,act(w*x))\n",
    "\n",
    "def dnet(c,w,x):\n",
    "    return t.matmul(c*w,dact(w*x))\n",
    "\n",
    "def ddnet(c,w,x):\n",
    "    return t.matmul(c*w*w,ddact(w*x))\n",
    "\n",
    "\n",
    "def grad(x,c,w):\n",
    "    m=c.size(0)\n",
    "    n=x.size(0)\n",
    "    c_grad=t.randn(m)\n",
    "    w_grad=t.randn(m)\n",
    "    for i in range(n):\n",
    "        c_1=2*(ddnet(c,w,x[i])-b*net(c,w,x[i])+l*net(c,w,x[i]))*((w**2)*ddact(w*x[i])-b*act(w*x[i])+l*act(w*x[i]))\n",
    "        c_2=2*net(c,w,t.pi)*act(w*t.pi)\n",
    "        c_3=2*net(c,w,t.zeros(1))*act(w*t.zeros(1))\n",
    "        c_n=4*(L2(c,w,x)-1)*net(c,w,x[i])*act(w*x[i])\n",
    "        w_1=2*(ddnet(c,w,x[i])-b*net(c,w,x[i])+l*net(c,w,x[i]))*(c*(2*(w)*ddact(w*x[i])+x[i]*(w**2)*dddact(w*x[i]))-b*c*x[i]*dact(w*x[i])+l*c*x[i]*dact(w*x[i]))\n",
    "        w_2=2*net(c,w,t.pi)*c*t.pi*dact(t.pi*w)\n",
    "        w_3=2*net(c,w,t.zeros(1))*c*t.zeros(1)*dact(w*t.zeros(1))\n",
    "        w_n=4*(L2(c,w,x)-1)*net(c,w,x[i])*c*dact(w*x[i])*x[i]\n",
    "        c_grad=c_grad+c_1+c_2+c_3+c_n\n",
    "        w_grad=w_grad+w_1+w_2+w_3+w_n\n",
    "    return c_grad, w_grad\n",
    "\n",
    "def optimization(n,m,T,r):\n",
    "    print('Optimization started')\n",
    "    x=t.tensor([i*(t.pi/n) for i in range(n)])\n",
    "    w=t.randn(m)\n",
    "    c=t.randn(m)\n",
    "    Error=t.zeros(T)\n",
    "    L2_Error=t.zeros(T)\n",
    "    plots=[]\n",
    "    for k in tq.tqdm(range(T)):\n",
    "        G=grad(x,c,w)\n",
    "        c=c-r*G[0]\n",
    "        w=w-r*G[1]\n",
    "        Error[k]=E(x,c,w)\n",
    "        L2_Error[k]=L2(c,w,x)\n",
    "        if np.isnan(Error[k])==True:\n",
    "            break\n",
    "        a=t.tensor([net(c,w,x[i]) for i in range(n)])\n",
    "        plt.plot(x,a)\n",
    "        plt.plot(x,f(x))\n",
    "        plt.xlabel(k/T)\n",
    "        plt.ylabel()\n",
    "        if k==0:\n",
    "            fig, ax = plt.figure(), plt.axes(xlim=(0, R), ylim=(-1, 1.5))\n",
    "        else:\n",
    "            dummy_fig, ax = plt.figure(), plt.axes(xlim=(0, R), ylim=(-1, 1.5))\n",
    "            ax.set(animated=True)\n",
    "            ax.remove()\n",
    "            ax.figure = fig\n",
    "            fig.add_axes(ax)\n",
    "            plt.close(dummy_fig)\n",
    "        \n",
    "        plots.append([ax])\n",
    "\n",
    "    ani = animation.ArtistAnimation(fig, plots, interval=50, repeat_delay=20000)\n",
    "    ani.save(\"PINN GPE.gif\")\n",
    "    winsound.Beep(Freq,Dur)\n",
    "    winsound.Beep(Freq,Dur)\n",
    "    return c,w,Error, L2_Error\n",
    "\n",
    "def f(x):\n",
    "    return (2/t.pi)*t.sin(t.sqrt((l-1)*t.ones(1))*x)\n",
    "\n",
    "#def f(n,m,T,r):\n",
    " #   a=t.zeros(n)\n",
    "  #  x=t.tensor([i*(t.pi/n) for i in range(n)])\n",
    "   # param=optimization(n,m,T,r)\n",
    "    #print('function is going to be presented')\n",
    "    #for i in tq.tqdm(range(n)):\n",
    "    #    a[i]=t.matmul(param[0],act(param[1]*x[i]))\n",
    "    #return a, param[2]"
   ]
  },
  {
   "cell_type": "code",
   "execution_count": 174,
   "id": "dfc2cd79",
   "metadata": {},
   "outputs": [],
   "source": [
    "n=100\n",
    "m=40\n",
    "T=1000\n",
    "r=0.000001"
   ]
  },
  {
   "cell_type": "code",
   "execution_count": 175,
   "id": "d43b4fa5",
   "metadata": {},
   "outputs": [
    {
     "name": "stdout",
     "output_type": "stream",
     "text": [
      "Optimization started\n"
     ]
    },
    {
     "name": "stderr",
     "output_type": "stream",
     "text": [
      "100%|██████████████████████████████████████████████████████████████████████████████| 1000/1000 [34:12<00:00,  2.05s/it]\n",
      "MovieWriter ffmpeg unavailable; using Pillow instead.\n"
     ]
    },
    {
     "data": {
      "image/png": "[encoded data removed]",
      "text/plain": [
       "<Figure size 432x288 with 1 Axes>"
      ]
     },
     "metadata": {
      "needs_background": "light"
     },
     "output_type": "display_data"
    },
    {
     "data": {
      "image/png": "[encoded data removed]",
      "text/plain": [
       "<Figure size 432x288 with 1000 Axes>"
      ]
     },
     "metadata": {
      "needs_background": "light"
     },
     "output_type": "display_data"
    }
   ],
   "source": [
    "A=optimization(n,m,T,r)"
   ]
  },
  {
   "cell_type": "code",
   "execution_count": 176,
   "id": "ab550368",
   "metadata": {},
   "outputs": [],
   "source": [
    "x=t.tensor([i*(t.pi/n) for i in range(n+1)])"
   ]
  },
  {
   "cell_type": "code",
   "execution_count": 177,
   "id": "dd3eef81",
   "metadata": {},
   "outputs": [
    {
     "name": "stderr",
     "output_type": "stream",
     "text": [
      "100%|█████████████████████████████████████████████████████████████████████████████| 101/101 [00:00<00:00, 24379.87it/s]\n"
     ]
    }
   ],
   "source": [
    "a=t.zeros(n+1)\n",
    "for i in tq.tqdm(range(n+1)):\n",
    "    a[i]=t.matmul(A[0],act(A[1]*x[i]))"
   ]
  },
  {
   "cell_type": "code",
   "execution_count": 178,
   "id": "22882e61",
   "metadata": {},
   "outputs": [],
   "source": [
    "V=t.zeros(n)"
   ]
  },
  {
   "cell_type": "code",
   "execution_count": 190,
   "id": "f23ef248",
   "metadata": {},
   "outputs": [
    {
     "data": {
      "text/plain": [
       "[<matplotlib.lines.Line2D at 0x2ae50288880>]"
      ]
     },
     "execution_count": 190,
     "metadata": {},
     "output_type": "execute_result"
    },
    {
     "data": {
      "image/png": "[encoded data removed]",
      "text/plain": [
       "<Figure size 432x288 with 1 Axes>"
      ]
     },
     "metadata": {
      "needs_background": "light"
     },
     "output_type": "display_data"
    }
   ],
   "source": [
    "plt.plot(x,a)\n",
    "plt.plot(x,(2/t.pi)*t.sin(2*x))"
   ]
  },
  {
   "cell_type": "code",
   "execution_count": 180,
   "id": "51aa3f23",
   "metadata": {},
   "outputs": [
    {
     "data": {
      "text/plain": [
       "(tensor([-0.9371, -0.9512,  1.5726, -0.4679,  0.0999,  1.0875, -2.2261,  0.4537,\n",
       "         -0.4155, -0.8734,  1.2653,  0.9488,  0.0648,  1.0623, -0.3759,  1.0683,\n",
       "          0.8269,  1.0893,  0.2683, -0.3651, -0.8689,  0.9639,  0.9518, -0.0365,\n",
       "          0.7624, -0.4784,  2.4903,  0.6931, -1.9957, -0.4911, -1.4992,  0.5655,\n",
       "          2.1593,  0.4717,  0.1408,  1.2503,  0.5084,  1.5497,  0.8523, -0.2216]),\n",
       " tensor([ 0.5130, -0.5877, -0.7515,  0.2984, -0.8647, -1.0625, -0.2392,  0.7417,\n",
       "          0.9128, -1.4803,  0.5555, -0.0701, -1.8052, -0.5854, -0.7035,  0.6393,\n",
       "         -0.6897, -0.0960, -0.5926, -0.3580,  1.3786,  0.8008, -0.1114, -0.2290,\n",
       "          0.8125, -0.5258, -0.4915,  1.2074,  1.2174, -1.9802, -1.4706, -1.4467,\n",
       "         -0.3606,  1.9645,  0.5105,  0.5446, -2.0715,  0.7363,  0.8984,  0.0766]),\n",
       " tensor([2180.6106, 1420.2618, 1042.8054,  821.3148,  678.0877,  578.9052,\n",
       "          506.4156,  451.0334,  407.1457,  371.2543,  341.1197,  315.2663,\n",
       "          292.6864,  272.6801,  254.7566,  238.5385,  223.7594,  210.2035,\n",
       "          197.6951,  186.1221,  175.3725,  165.3700,  156.0290,  147.2860,\n",
       "          139.1032,  131.4361,  124.2278,  117.4564,  111.0914,  105.0916,\n",
       "           99.4382,   94.1160,   89.0902,   84.3476,   79.8745,   75.6450,\n",
       "           71.6498,   67.8797,   64.3168,   60.9456,   57.7594,   54.7470,\n",
       "           51.9046,   49.2165,   46.6726,   44.2695,   41.9953,   39.8405,\n",
       "           37.8083,   35.8833,   34.0642,   32.3428,   30.7100,   29.1680,\n",
       "           27.7114,   26.3320,   25.0283,   23.7965,   22.6340,   21.5350,\n",
       "           20.4966,   19.5124,   18.5841,   17.7077,   16.8771,   16.0948,\n",
       "           15.3567,   14.6599,   13.9996,   13.3784,   12.7935,   12.2420,\n",
       "           11.7210,   11.2311,   10.7691,   10.3327,    9.9225,    9.5362,\n",
       "            9.1727,    8.8306,    8.5074,    8.2034,    7.9199,    7.6516,\n",
       "            7.4006,    7.1670,    6.9472,    6.7408,    6.5459,    6.3649,\n",
       "            6.1952,    6.0339,    5.8871,    5.7500,    5.6202,    5.5014,\n",
       "            5.3911,    5.2877,    5.1922,    5.1037,    5.0211,    4.9455,\n",
       "            4.8767,    4.8132,    4.7548,    4.7014,    4.6525,    4.6080,\n",
       "            4.5681,    4.5310,    4.4978,    4.4691,    4.4434,    4.4205,\n",
       "            4.4007,    4.3833,    4.3670,    4.3536,    4.3420,    4.3348,\n",
       "            4.3291,    4.3266,    4.3226,    4.3218,    4.3224,    4.3247,\n",
       "            4.3282,    4.3320,    4.3374,    4.3440,    4.3517,    4.3610,\n",
       "            4.3708,    4.3806,    4.3921,    4.4048,    4.4179,    4.4303,\n",
       "            4.4439,    4.4574,    4.4733,    4.4873,    4.5009,    4.5157,\n",
       "            4.5318,    4.5474,    4.5634,    4.5805,    4.5987,    4.6149,\n",
       "            4.6311,    4.6482,    4.6664,    4.6837,    4.7002,    4.7188,\n",
       "            4.7366,    4.7552,    4.7728,    4.7908,    4.8081,    4.8244,\n",
       "            4.8429,    4.8615,    4.8803,    4.8990,    4.9154,    4.9345,\n",
       "            4.9533,    4.9726,    4.9901,    5.0088,    5.0244,    5.0419,\n",
       "            5.0601,    5.0765,    5.0934,    5.1105,    5.1275,    5.1438,\n",
       "            5.1611,    5.1789,    5.1962,    5.2129,    5.2299,    5.2465,\n",
       "            5.2632,    5.2804,    5.2958,    5.3125,    5.3298,    5.3463,\n",
       "            5.3629,    5.3789,    5.3947,    5.4111,    5.4270,    5.4426,\n",
       "            5.4590,    5.4745,    5.4892,    5.5050,    5.5205,    5.5362,\n",
       "            5.5520,    5.5677,    5.5822,    5.5987,    5.6130,    5.6280,\n",
       "            5.6424,    5.6597,    5.6736,    5.6891,    5.7029,    5.7167,\n",
       "            5.7328,    5.7479,    5.7633,    5.7761,    5.7921,    5.8063,\n",
       "            5.8231,    5.8383,    5.8527,    5.8668,    5.8810,    5.8960,\n",
       "            5.9107,    5.9253,    5.9397,    5.9550,    5.9695,    5.9844,\n",
       "            5.9970,    6.0112,    6.0267,    6.0406,    6.0550,    6.0685,\n",
       "            6.0818,    6.0969,    6.1112,    6.1261,    6.1396,    6.1529,\n",
       "            6.1682,    6.1813,    6.1961,    6.2099,    6.2256,    6.2412,\n",
       "            6.2564,    6.2709,    6.2854,    6.3009,    6.3139,    6.3275,\n",
       "            6.3422,    6.3564,    6.3697,    6.3857,    6.4002,    6.4158,\n",
       "            6.4316,    6.4461,    6.4610,    6.4761,    6.4905,    6.5056,\n",
       "            6.5202,    6.5343,    6.5499,    6.5660,    6.5811,    6.5959,\n",
       "            6.6114,    6.6269,    6.6423,    6.6576,    6.6728,    6.6887,\n",
       "            6.7049,    6.7207,    6.7357,    6.7516,    6.7666,    6.7810,\n",
       "            6.7956,    6.8112,    6.8275,    6.8445,    6.8599,    6.8758,\n",
       "            6.8923,    6.9094,    6.9249,    6.9405,    6.9554,    6.9713,\n",
       "            6.9884,    7.0043,    7.0197,    7.0374,    7.0554,    7.0717,\n",
       "            7.0880,    7.1033,    7.1185,    7.1353,    7.1521,    7.1687,\n",
       "            7.1851,    7.2011,    7.2173,    7.2340,    7.2493,    7.2662,\n",
       "            7.2848,    7.3003,    7.3171,    7.3347,    7.3515,    7.3693,\n",
       "            7.3876,    7.4055,    7.4224,    7.4390,    7.4573,    7.4750,\n",
       "            7.4936,    7.5106,    7.5273,    7.5431,    7.5597,    7.5774,\n",
       "            7.5967,    7.6143,    7.6320,    7.6503,    7.6693,    7.6893,\n",
       "            7.7084,    7.7262,    7.7436,    7.7629,    7.7818,    7.8005,\n",
       "            7.8197,    7.8362,    7.8537,    7.8728,    7.8922,    7.9098,\n",
       "            7.9285,    7.9473,    7.9683,    7.9865,    8.0073,    8.0263,\n",
       "            8.0459,    8.0654,    8.0845,    8.1043,    8.1227,    8.1430,\n",
       "            8.1644,    8.1844,    8.2039,    8.2239,    8.2459,    8.2654,\n",
       "            8.2850,    8.3048,    8.3248,    8.3440,    8.3666,    8.3872,\n",
       "            8.4068,    8.4282,    8.4478,    8.4707,    8.4908,    8.5106,\n",
       "            8.5324,    8.5542,    8.5751,    8.5956,    8.6156,    8.6365,\n",
       "            8.6572,    8.6780,    8.6977,    8.7198,    8.7415,    8.7628,\n",
       "            8.7848,    8.8068,    8.8285,    8.8516,    8.8747,    8.8968,\n",
       "            8.9176,    8.9397,    8.9614,    8.9819,    9.0033,    9.0254,\n",
       "            9.0472,    9.0715,    9.0946,    9.1188,    9.1408,    9.1637,\n",
       "            9.1862,    9.2111,    9.2323,    9.2555,    9.2799,    9.3037,\n",
       "            9.3260,    9.3498,    9.3727,    9.3967,    9.4208,    9.4443,\n",
       "            9.4674,    9.4904,    9.5146,    9.5369,    9.5601,    9.5809,\n",
       "            9.6063,    9.6302,    9.6548,    9.6797,    9.7044,    9.7285,\n",
       "            9.7518,    9.7755,    9.8010,    9.8255,    9.8506,    9.8754,\n",
       "            9.8992,    9.9249,    9.9508,    9.9763,   10.0018,   10.0283,\n",
       "           10.0530,   10.0783,   10.1028,   10.1286,   10.1552,   10.1827,\n",
       "           10.2058,   10.2312,   10.2591,   10.2864,   10.3128,   10.3384,\n",
       "           10.3635,   10.3918,   10.4183,   10.4451,   10.4719,   10.4989,\n",
       "           10.5248,   10.5526,   10.5791,   10.6049,   10.6301,   10.6590,\n",
       "           10.6835,   10.7116,   10.7394,   10.7658,   10.7942,   10.8218,\n",
       "           10.8481,   10.8743,   10.9011,   10.9300,   10.9568,   10.9841,\n",
       "           11.0124,   11.0402,   11.0675,   11.0967,   11.1230,   11.1522,\n",
       "           11.1804,   11.2107,   11.2403,   11.2692,   11.2983,   11.3256,\n",
       "           11.3513,   11.3778,   11.4068,   11.4375,   11.4652,   11.4922,\n",
       "           11.5229,   11.5531,   11.5805,   11.6101,   11.6402,   11.6721,\n",
       "           11.7020,   11.7327,   11.7646,   11.7927,   11.8210,   11.8509,\n",
       "           11.8801,   11.9111,   11.9403,   11.9703,   11.9997,   12.0297,\n",
       "           12.0613,   12.0926,   12.1235,   12.1540,   12.1853,   12.2181,\n",
       "           12.2478,   12.2799,   12.3117,   12.3404,   12.3720,   12.4024,\n",
       "           12.4346,   12.4652,   12.4957,   12.5280,   12.5590,   12.5885,\n",
       "           12.6203,   12.6533,   12.6847,   12.7138,   12.7443,   12.7771,\n",
       "           12.8066,   12.8396,   12.8708,   12.9024,   12.9345,   12.9684,\n",
       "           13.0012,   13.0329,   13.0653,   13.0994,   13.1314,   13.1632,\n",
       "           13.1951,   13.2287,   13.2592,   13.2904,   13.3228,   13.3554,\n",
       "           13.3876,   13.4212,   13.4533,   13.4878,   13.5222,   13.5571,\n",
       "           13.5915,   13.6250,   13.6593,   13.6918,   13.7283,   13.7613,\n",
       "           13.7952,   13.8291,   13.8626,   13.8959,   13.9322,   13.9666,\n",
       "           14.0015,   14.0354,   14.0676,   14.1002,   14.1357,   14.1718,\n",
       "           14.2055,   14.2409,   14.2749,   14.3103,   14.3451,   14.3788,\n",
       "           14.4131,   14.4482,   14.4833,   14.5189,   14.5555,   14.5877,\n",
       "           14.6212,   14.6526,   14.6874,   14.7212,   14.7586,   14.7939,\n",
       "           14.8282,   14.8631,   14.9000,   14.9349,   14.9687,   15.0053,\n",
       "           15.0414,   15.0801,   15.1139,   15.1476,   15.1845,   15.2191,\n",
       "           15.2564,   15.2924,   15.3295,   15.3653,   15.3990,   15.4358,\n",
       "           15.4705,   15.5036,   15.5401,   15.5795,   15.6160,   15.6509,\n",
       "           15.6891,   15.7256,   15.7634,   15.7966,   15.8334,   15.8686,\n",
       "           15.9045,   15.9406,   15.9768,   16.0141,   16.0509,   16.0883,\n",
       "           16.1271,   16.1635,   16.2005,   16.2362,   16.2733,   16.3085,\n",
       "           16.3445,   16.3839,   16.4203,   16.4582,   16.4968,   16.5349,\n",
       "           16.5746,   16.6087,   16.6462,   16.6848,   16.7203,   16.7571,\n",
       "           16.7945,   16.8318,   16.8723,   16.9100,   16.9472,   16.9884,\n",
       "           17.0264,   17.0629,   17.1021,   17.1392,   17.1767,   17.2147,\n",
       "           17.2509,   17.2890,   17.3283,   17.3665,   17.4044,   17.4408,\n",
       "           17.4786,   17.5163,   17.5558,   17.5934,   17.6306,   17.6700,\n",
       "           17.7093,   17.7491,   17.7870,   17.8225,   17.8600,   17.8975,\n",
       "           17.9369,   17.9770,   18.0168,   18.0565,   18.0947,   18.1329,\n",
       "           18.1687,   18.2083,   18.2479,   18.2857,   18.3259,   18.3647,\n",
       "           18.4020,   18.4398,   18.4756,   18.5150,   18.5532,   18.5931,\n",
       "           18.6331,   18.6717,   18.7085,   18.7469,   18.7871,   18.8257,\n",
       "           18.8665,   18.9066,   18.9448,   18.9842,   19.0240,   19.0640,\n",
       "           19.1032,   19.1397,   19.1802,   19.2181,   19.2574,   19.2947,\n",
       "           19.3352,   19.3750,   19.4111,   19.4519,   19.4889,   19.5271,\n",
       "           19.5657,   19.6039,   19.6430,   19.6824,   19.7236,   19.7626,\n",
       "           19.8028,   19.8437,   19.8823,   19.9208,   19.9585,   19.9982,\n",
       "           20.0380,   20.0758,   20.1142,   20.1538,   20.1943,   20.2355,\n",
       "           20.2729,   20.3112,   20.3512,   20.3905,   20.4296,   20.4690,\n",
       "           20.5092,   20.5497,   20.5851,   20.6226,   20.6617,   20.7034,\n",
       "           20.7426,   20.7809,   20.8184,   20.8574,   20.8978,   20.9348,\n",
       "           20.9753,   21.0114,   21.0513,   21.0872,   21.1253,   21.1656,\n",
       "           21.2058,   21.2456,   21.2888,   21.3275,   21.3675,   21.4076,\n",
       "           21.4460,   21.4872,   21.5247,   21.5649,   21.6039,   21.6410,\n",
       "           21.6797,   21.7184,   21.7566,   21.7962,   21.8374,   21.8728,\n",
       "           21.9082,   21.9476,   21.9873,   22.0245,   22.0610,   22.1005,\n",
       "           22.1402,   22.1747,   22.2140,   22.2539,   22.2934,   22.3337,\n",
       "           22.3731,   22.4140,   22.4510,   22.4894,   22.5281,   22.5667,\n",
       "           22.6062,   22.6460,   22.6856,   22.7226,   22.7599,   22.7961,\n",
       "           22.8334,   22.8720,   22.9092,   22.9471,   22.9859,   23.0266,\n",
       "           23.0642,   23.1040,   23.1427,   23.1808,   23.2154,   23.2527,\n",
       "           23.2894,   23.3265,   23.3658,   23.4049,   23.4436,   23.4850,\n",
       "           23.5215,   23.5580,   23.5959,   23.6329,   23.6684,   23.7063,\n",
       "           23.7425,   23.7812,   23.8192,   23.8550,   23.8927,   23.9307,\n",
       "           23.9683,   24.0036,   24.0411,   24.0772,   24.1157,   24.1529,\n",
       "           24.1898,   24.2282,   24.2634,   24.2997,   24.3332,   24.3688,\n",
       "           24.4057,   24.4448,   24.4775,   24.5153,   24.5519,   24.5891,\n",
       "           24.6258,   24.6623,   24.6967,   24.7313,   24.7689,   24.8063,\n",
       "           24.8421,   24.8751,   24.9125,   24.9464,   24.9870,   25.0245,\n",
       "           25.0581,   25.0944,   25.1310,   25.1632,   25.2000,   25.2380,\n",
       "           25.2715,   25.3079,   25.3409,   25.3749,   25.4110,   25.4443,\n",
       "           25.4818,   25.5153,   25.5507,   25.5866,   25.6210,   25.6560,\n",
       "           25.6910,   25.7274,   25.7618,   25.7949,   25.8290,   25.8642,\n",
       "           25.8983,   25.9328,   25.9662,   25.9984,   26.0312,   26.0667,\n",
       "           26.0979,   26.1296,   26.1635,   26.1976,   26.2324,   26.2702,\n",
       "           26.3052,   26.3420,   26.3765,   26.4116,   26.4440,   26.4775,\n",
       "           26.5093,   26.5410,   26.5729,   26.6071,   26.6412,   26.6740,\n",
       "           26.7081,   26.7410,   26.7742,   26.8079,   26.8393,   26.8733,\n",
       "           26.9068,   26.9385,   26.9714,   27.0043,   27.0370,   27.0691,\n",
       "           27.0987,   27.1310,   27.1634,   27.1950,   27.2284,   27.2613,\n",
       "           27.2919,   27.3232,   27.3539,   27.3848,   27.4151,   27.4506,\n",
       "           27.4797,   27.5091,   27.5395,   27.5717,   27.6041,   27.6339,\n",
       "           27.6678,   27.6993,   27.7302,   27.7648,   27.7939,   27.8234,\n",
       "           27.8540,   27.8813,   27.9129,   27.9431,   27.9718,   28.0040,\n",
       "           28.0343,   28.0636,   28.0936,   28.1245,   28.1572,   28.1874,\n",
       "           28.2182,   28.2486,   28.2780,   28.3101,   28.3374,   28.3644,\n",
       "           28.3931,   28.4261,   28.4560,   28.4858,   28.5140,   28.5429,\n",
       "           28.5713,   28.5997,   28.6291,   28.6580,   28.6911,   28.7195,\n",
       "           28.7488,   28.7760,   28.8023,   28.8334,   28.8625,   28.8876,\n",
       "           28.9134,   28.9413,   28.9693,   28.9940]),\n",
       " tensor([4.2650, 2.8784, 2.1514, 1.7041, 1.4031, 1.1881, 1.0273, 0.9030, 0.8039,\n",
       "         0.7233, 0.6561, 0.5993, 0.5506, 0.5082, 0.4709, 0.4378, 0.4082, 0.3816,\n",
       "         0.3574, 0.3354, 0.3153, 0.2968, 0.2797, 0.2639, 0.2493, 0.2357, 0.2230,\n",
       "         0.2112, 0.2002, 0.1898, 0.1802, 0.1711, 0.1626, 0.1547, 0.1472, 0.1402,\n",
       "         0.1335, 0.1273, 0.1215, 0.1160, 0.1109, 0.1060, 0.1015, 0.0972, 0.0932,\n",
       "         0.0894, 0.0859, 0.0825, 0.0794, 0.0765, 0.0737, 0.0712, 0.0687, 0.0665,\n",
       "         0.0643, 0.0623, 0.0605, 0.0587, 0.0571, 0.0556, 0.0542, 0.0529, 0.0517,\n",
       "         0.0505, 0.0495, 0.0485, 0.0476, 0.0468, 0.0460, 0.0453, 0.0447, 0.0441,\n",
       "         0.0435, 0.0430, 0.0426, 0.0422, 0.0418, 0.0415, 0.0412, 0.0410, 0.0407,\n",
       "         0.0405, 0.0404, 0.0402, 0.0401, 0.0400, 0.0400, 0.0399, 0.0399, 0.0399,\n",
       "         0.0399, 0.0399, 0.0400, 0.0400, 0.0401, 0.0402, 0.0403, 0.0404, 0.0405,\n",
       "         0.0406, 0.0407, 0.0409, 0.0410, 0.0412, 0.0413, 0.0415, 0.0417, 0.0419,\n",
       "         0.0420, 0.0422, 0.0424, 0.0426, 0.0428, 0.0430, 0.0432, 0.0434, 0.0436,\n",
       "         0.0438, 0.0440, 0.0443, 0.0445, 0.0447, 0.0449, 0.0451, 0.0454, 0.0456,\n",
       "         0.0458, 0.0460, 0.0462, 0.0465, 0.0467, 0.0469, 0.0471, 0.0474, 0.0476,\n",
       "         0.0478, 0.0480, 0.0483, 0.0485, 0.0487, 0.0489, 0.0491, 0.0494, 0.0496,\n",
       "         0.0498, 0.0500, 0.0502, 0.0505, 0.0507, 0.0509, 0.0511, 0.0513, 0.0515,\n",
       "         0.0518, 0.0520, 0.0522, 0.0524, 0.0526, 0.0528, 0.0530, 0.0532, 0.0535,\n",
       "         0.0537, 0.0539, 0.0541, 0.0543, 0.0545, 0.0547, 0.0550, 0.0552, 0.0554,\n",
       "         0.0556, 0.0558, 0.0560, 0.0562, 0.0564, 0.0566, 0.0568, 0.0570, 0.0572,\n",
       "         0.0574, 0.0577, 0.0579, 0.0581, 0.0583, 0.0585, 0.0587, 0.0589, 0.0591,\n",
       "         0.0593, 0.0595, 0.0597, 0.0599, 0.0601, 0.0603, 0.0606, 0.0608, 0.0610,\n",
       "         0.0612, 0.0614, 0.0616, 0.0618, 0.0620, 0.0622, 0.0624, 0.0626, 0.0628,\n",
       "         0.0631, 0.0633, 0.0635, 0.0637, 0.0639, 0.0641, 0.0643, 0.0645, 0.0647,\n",
       "         0.0649, 0.0652, 0.0654, 0.0656, 0.0658, 0.0660, 0.0662, 0.0665, 0.0667,\n",
       "         0.0669, 0.0671, 0.0673, 0.0675, 0.0677, 0.0680, 0.0682, 0.0684, 0.0686,\n",
       "         0.0688, 0.0691, 0.0693, 0.0695, 0.0697, 0.0699, 0.0702, 0.0704, 0.0706,\n",
       "         0.0708, 0.0711, 0.0713, 0.0715, 0.0717, 0.0720, 0.0722, 0.0724, 0.0727,\n",
       "         0.0729, 0.0731, 0.0734, 0.0736, 0.0738, 0.0741, 0.0743, 0.0745, 0.0748,\n",
       "         0.0750, 0.0752, 0.0755, 0.0757, 0.0760, 0.0762, 0.0765, 0.0767, 0.0770,\n",
       "         0.0772, 0.0774, 0.0777, 0.0779, 0.0782, 0.0784, 0.0787, 0.0790, 0.0792,\n",
       "         0.0795, 0.0797, 0.0800, 0.0802, 0.0805, 0.0808, 0.0810, 0.0813, 0.0815,\n",
       "         0.0818, 0.0820, 0.0823, 0.0826, 0.0828, 0.0831, 0.0834, 0.0837, 0.0839,\n",
       "         0.0842, 0.0845, 0.0847, 0.0850, 0.0853, 0.0856, 0.0858, 0.0861, 0.0864,\n",
       "         0.0867, 0.0869, 0.0872, 0.0875, 0.0878, 0.0881, 0.0884, 0.0886, 0.0889,\n",
       "         0.0892, 0.0895, 0.0898, 0.0901, 0.0904, 0.0907, 0.0910, 0.0912, 0.0915,\n",
       "         0.0919, 0.0922, 0.0925, 0.0928, 0.0931, 0.0934, 0.0937, 0.0940, 0.0943,\n",
       "         0.0946, 0.0949, 0.0952, 0.0955, 0.0958, 0.0961, 0.0964, 0.0968, 0.0971,\n",
       "         0.0974, 0.0977, 0.0980, 0.0984, 0.0987, 0.0990, 0.0993, 0.0996, 0.1000,\n",
       "         0.1003, 0.1006, 0.1009, 0.1013, 0.1016, 0.1019, 0.1023, 0.1026, 0.1029,\n",
       "         0.1033, 0.1036, 0.1040, 0.1043, 0.1046, 0.1050, 0.1053, 0.1057, 0.1060,\n",
       "         0.1064, 0.1067, 0.1071, 0.1074, 0.1078, 0.1081, 0.1085, 0.1089, 0.1092,\n",
       "         0.1096, 0.1099, 0.1103, 0.1107, 0.1110, 0.1114, 0.1118, 0.1121, 0.1125,\n",
       "         0.1129, 0.1132, 0.1136, 0.1140, 0.1143, 0.1147, 0.1151, 0.1155, 0.1158,\n",
       "         0.1162, 0.1166, 0.1170, 0.1174, 0.1178, 0.1182, 0.1185, 0.1189, 0.1193,\n",
       "         0.1197, 0.1201, 0.1205, 0.1209, 0.1213, 0.1217, 0.1221, 0.1225, 0.1229,\n",
       "         0.1233, 0.1237, 0.1241, 0.1245, 0.1250, 0.1254, 0.1258, 0.1262, 0.1266,\n",
       "         0.1270, 0.1275, 0.1279, 0.1283, 0.1287, 0.1291, 0.1295, 0.1300, 0.1304,\n",
       "         0.1308, 0.1312, 0.1317, 0.1321, 0.1325, 0.1330, 0.1334, 0.1338, 0.1343,\n",
       "         0.1347, 0.1352, 0.1356, 0.1361, 0.1365, 0.1370, 0.1374, 0.1379, 0.1383,\n",
       "         0.1388, 0.1392, 0.1397, 0.1401, 0.1406, 0.1411, 0.1415, 0.1420, 0.1425,\n",
       "         0.1429, 0.1434, 0.1439, 0.1443, 0.1448, 0.1453, 0.1458, 0.1463, 0.1467,\n",
       "         0.1472, 0.1477, 0.1482, 0.1487, 0.1491, 0.1496, 0.1501, 0.1506, 0.1511,\n",
       "         0.1516, 0.1521, 0.1526, 0.1531, 0.1536, 0.1541, 0.1546, 0.1551, 0.1556,\n",
       "         0.1561, 0.1566, 0.1571, 0.1576, 0.1581, 0.1586, 0.1591, 0.1597, 0.1602,\n",
       "         0.1607, 0.1612, 0.1618, 0.1623, 0.1628, 0.1633, 0.1638, 0.1644, 0.1649,\n",
       "         0.1654, 0.1660, 0.1665, 0.1670, 0.1676, 0.1681, 0.1687, 0.1692, 0.1698,\n",
       "         0.1703, 0.1709, 0.1714, 0.1720, 0.1725, 0.1731, 0.1736, 0.1742, 0.1747,\n",
       "         0.1753, 0.1759, 0.1764, 0.1770, 0.1776, 0.1781, 0.1787, 0.1793, 0.1799,\n",
       "         0.1804, 0.1810, 0.1816, 0.1822, 0.1827, 0.1833, 0.1839, 0.1845, 0.1851,\n",
       "         0.1856, 0.1862, 0.1868, 0.1874, 0.1880, 0.1886, 0.1892, 0.1898, 0.1904,\n",
       "         0.1910, 0.1916, 0.1922, 0.1928, 0.1934, 0.1940, 0.1946, 0.1952, 0.1958,\n",
       "         0.1964, 0.1971, 0.1977, 0.1983, 0.1989, 0.1995, 0.2001, 0.2007, 0.2014,\n",
       "         0.2020, 0.2026, 0.2033, 0.2039, 0.2046, 0.2052, 0.2058, 0.2065, 0.2071,\n",
       "         0.2078, 0.2084, 0.2091, 0.2097, 0.2104, 0.2110, 0.2117, 0.2123, 0.2130,\n",
       "         0.2136, 0.2143, 0.2149, 0.2156, 0.2163, 0.2169, 0.2176, 0.2183, 0.2189,\n",
       "         0.2196, 0.2202, 0.2209, 0.2216, 0.2223, 0.2229, 0.2236, 0.2243, 0.2249,\n",
       "         0.2256, 0.2263, 0.2270, 0.2277, 0.2283, 0.2290, 0.2297, 0.2304, 0.2311,\n",
       "         0.2318, 0.2325, 0.2332, 0.2339, 0.2346, 0.2353, 0.2360, 0.2367, 0.2374,\n",
       "         0.2381, 0.2388, 0.2395, 0.2403, 0.2410, 0.2417, 0.2424, 0.2431, 0.2438,\n",
       "         0.2445, 0.2453, 0.2460, 0.2467, 0.2474, 0.2481, 0.2489, 0.2496, 0.2503,\n",
       "         0.2510, 0.2518, 0.2525, 0.2533, 0.2540, 0.2547, 0.2555, 0.2562, 0.2569,\n",
       "         0.2577, 0.2584, 0.2592, 0.2599, 0.2607, 0.2614, 0.2622, 0.2629, 0.2637,\n",
       "         0.2644, 0.2652, 0.2659, 0.2667, 0.2674, 0.2682, 0.2690, 0.2697, 0.2705,\n",
       "         0.2713, 0.2720, 0.2728, 0.2736, 0.2743, 0.2751, 0.2759, 0.2767, 0.2774,\n",
       "         0.2782, 0.2790, 0.2798, 0.2806, 0.2813, 0.2821, 0.2829, 0.2837, 0.2845,\n",
       "         0.2853, 0.2861, 0.2869, 0.2876, 0.2884, 0.2892, 0.2900, 0.2908, 0.2916,\n",
       "         0.2924, 0.2932, 0.2940, 0.2948, 0.2956, 0.2964, 0.2972, 0.2980, 0.2988,\n",
       "         0.2996, 0.3004, 0.3012, 0.3020, 0.3028, 0.3036, 0.3045, 0.3053, 0.3061,\n",
       "         0.3069, 0.3077, 0.3085, 0.3094, 0.3102, 0.3110, 0.3119, 0.3127, 0.3135,\n",
       "         0.3143, 0.3152, 0.3160, 0.3168, 0.3177, 0.3185, 0.3193, 0.3202, 0.3210,\n",
       "         0.3218, 0.3227, 0.3235, 0.3243, 0.3252, 0.3260, 0.3269, 0.3277, 0.3286,\n",
       "         0.3294, 0.3303, 0.3311, 0.3320, 0.3328, 0.3336, 0.3345, 0.3353, 0.3362,\n",
       "         0.3370, 0.3379, 0.3388, 0.3396, 0.3405, 0.3413, 0.3422, 0.3430, 0.3439,\n",
       "         0.3448, 0.3456, 0.3465, 0.3473, 0.3482, 0.3490, 0.3499, 0.3508, 0.3516,\n",
       "         0.3525, 0.3534, 0.3542, 0.3551, 0.3559, 0.3568, 0.3576, 0.3585, 0.3594,\n",
       "         0.3603, 0.3612, 0.3621, 0.3629, 0.3638, 0.3647, 0.3656, 0.3664, 0.3673,\n",
       "         0.3682, 0.3691, 0.3699, 0.3708, 0.3717, 0.3726, 0.3735, 0.3744, 0.3752,\n",
       "         0.3761, 0.3770, 0.3778, 0.3787, 0.3796, 0.3805, 0.3814, 0.3823, 0.3831,\n",
       "         0.3840, 0.3849, 0.3858, 0.3867, 0.3876, 0.3885, 0.3894, 0.3903, 0.3912,\n",
       "         0.3921, 0.3930, 0.3939, 0.3948, 0.3957, 0.3965, 0.3974, 0.3983, 0.3992,\n",
       "         0.4001, 0.4010, 0.4019, 0.4028, 0.4037, 0.4046, 0.4055, 0.4064, 0.4073,\n",
       "         0.4082, 0.4090, 0.4099, 0.4108, 0.4118, 0.4127, 0.4136, 0.4144, 0.4153,\n",
       "         0.4162, 0.4171, 0.4180, 0.4189, 0.4198, 0.4207, 0.4216, 0.4225, 0.4234,\n",
       "         0.4243, 0.4252, 0.4261, 0.4270, 0.4279, 0.4288, 0.4297, 0.4306, 0.4315,\n",
       "         0.4324, 0.4333, 0.4342, 0.4351, 0.4360, 0.4369, 0.4378, 0.4387, 0.4396,\n",
       "         0.4405, 0.4414, 0.4423, 0.4432, 0.4441, 0.4450, 0.4459, 0.4468, 0.4477,\n",
       "         0.4486, 0.4495, 0.4504, 0.4513, 0.4522, 0.4531, 0.4540, 0.4549, 0.4558,\n",
       "         0.4567, 0.4576, 0.4585, 0.4594, 0.4603, 0.4612, 0.4621, 0.4630, 0.4639,\n",
       "         0.4648, 0.4657, 0.4666, 0.4675, 0.4684, 0.4693, 0.4702, 0.4711, 0.4719,\n",
       "         0.4728, 0.4737, 0.4746, 0.4755, 0.4764, 0.4773, 0.4782, 0.4791, 0.4800,\n",
       "         0.4808, 0.4817, 0.4827, 0.4836, 0.4845, 0.4854, 0.4863, 0.4872, 0.4880,\n",
       "         0.4889, 0.4898, 0.4907, 0.4916, 0.4925, 0.4934, 0.4942, 0.4951, 0.4960,\n",
       "         0.4969, 0.4978, 0.4987, 0.4996, 0.5005, 0.5013, 0.5022, 0.5031, 0.5040,\n",
       "         0.5049, 0.5057, 0.5066, 0.5075, 0.5084, 0.5093, 0.5101, 0.5110, 0.5119,\n",
       "         0.5127, 0.5136, 0.5145, 0.5154, 0.5162, 0.5171, 0.5180, 0.5189, 0.5197,\n",
       "         0.5206, 0.5215, 0.5224, 0.5232, 0.5241, 0.5250, 0.5258, 0.5267, 0.5276,\n",
       "         0.5284, 0.5293, 0.5301, 0.5310, 0.5319, 0.5327, 0.5336, 0.5345, 0.5353,\n",
       "         0.5362, 0.5371, 0.5379, 0.5388, 0.5396, 0.5405, 0.5413, 0.5422, 0.5431,\n",
       "         0.5439, 0.5448, 0.5456, 0.5465, 0.5473, 0.5482, 0.5490, 0.5499, 0.5508,\n",
       "         0.5516, 0.5524, 0.5533, 0.5541, 0.5550, 0.5558, 0.5566, 0.5575, 0.5583,\n",
       "         0.5591]))"
      ]
     },
     "execution_count": 180,
     "metadata": {},
     "output_type": "execute_result"
    }
   ],
   "source": [
    "A"
   ]
  },
  {
   "cell_type": "code",
   "execution_count": 181,
   "id": "3a4cef14",
   "metadata": {},
   "outputs": [
    {
     "data": {
      "text/plain": [
       "([<matplotlib.lines.Line2D at 0x2ae422f2610>], tensor(28.9940))"
      ]
     },
     "execution_count": 181,
     "metadata": {},
     "output_type": "execute_result"
    },
    {
     "data": {
      "image/png": "[encoded data removed]",
      "text/plain": [
       "<Figure size 432x288 with 1 Axes>"
      ]
     },
     "metadata": {
      "needs_background": "light"
     },
     "output_type": "display_data"
    }
   ],
   "source": [
    "plt.plot(A[2]), A[2][-1]"
   ]
  },
  {
   "cell_type": "code",
   "execution_count": 182,
   "id": "d296b2d9",
   "metadata": {},
   "outputs": [
    {
     "data": {
      "text/plain": [
       "tensor(-0.1166)"
      ]
     },
     "execution_count": 182,
     "metadata": {},
     "output_type": "execute_result"
    }
   ],
   "source": [
    "t.matmul(A[0],act(A[1]*t.pi))"
   ]
  },
  {
   "cell_type": "code",
   "execution_count": 189,
   "id": "a6e5a4ba",
   "metadata": {},
   "outputs": [
    {
     "data": {
      "text/plain": [
       "tensor(0.5540)"
      ]
     },
     "execution_count": 189,
     "metadata": {},
     "output_type": "execute_result"
    }
   ],
   "source": [
    "L2(A[0],A[1],x)"
   ]
  },
  {
   "cell_type": "code",
   "execution_count": null,
   "id": "d576de48",
   "metadata": {},
   "outputs": [],
   "source": []
  }
 ],
 "metadata": {
  "kernelspec": {
   "display_name": "Python 3 (ipykernel)",
   "language": "python",
   "name": "python3"
  },
  "language_info": {
   "codemirror_mode": {
    "name": "ipython",
    "version": 3
   },
   "file_extension": ".py",
   "mimetype": "text/x-python",
   "name": "python",
   "nbconvert_exporter": "python",
   "pygments_lexer": "ipython3",
   "version": "3.9.7"
  }
 },
 "nbformat": 4,
 "nbformat_minor": 5
}
