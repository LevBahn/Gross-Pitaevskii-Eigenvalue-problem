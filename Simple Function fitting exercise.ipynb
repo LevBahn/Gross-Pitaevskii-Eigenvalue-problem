{
 "cells": [
  {
   "cell_type": "code",
   "execution_count": 1,
   "id": "6af929cd",
   "metadata": {},
   "outputs": [],
   "source": [
    "import numpy as np\n",
    "import torch as t\n",
    "import matplotlib.pyplot as plt\n",
    "import tqdm as tqdm\n",
    "from matplotlib import rc\n",
    "rc('animation', html='jshtml')\n",
    "import matplotlib.animation as animation\n",
    "import winsound\n",
    "Freq = 1500 # Set Frequency To 2500 Hertz\n",
    "Dur = 1000 # Set Duration To 1000 ms == 1 second\n"
   ]
  },
  {
   "cell_type": "code",
   "execution_count": 2,
   "id": "216a897f",
   "metadata": {},
   "outputs": [],
   "source": [
    "# t.sin(x)\n",
    "# t.exp(x)\n",
    "# 1/(1+t.exp(-x))\n",
    "# t.log(1+t.exp(x))\n",
    "\n",
    "R=t.pi\n",
    "\n",
    "ReLu=t.nn.ReLU()\n",
    "\n",
    "def step(x):\n",
    "    n=x.size(0)\n",
    "    O=t.zeros(n)\n",
    "    for i in range(n):\n",
    "        if x[i]>1:\n",
    "            O[i]=1\n",
    "        else:\n",
    "            O[i]=0\n",
    "    return O\n",
    "\n",
    "def act(x):\n",
    "    return ReLu(x)\n",
    "#t.exp(-x**2)\n",
    "\n",
    "def dact(x):\n",
    "    return step(x)\n",
    "#-2*x*t.exp(-x**2)\n",
    "\n",
    "def ddact(x):\n",
    "    return -t.sin(x)\n",
    "\n",
    "def f(x):\n",
    "    return t.sin(2*x)\n",
    "\n",
    "\n",
    "def Error(c,w,b,x):\n",
    "    a=0\n",
    "    n=x.size(0)\n",
    "    m=w.size(0)\n",
    "    x=t.tensor([(i/n) for i in range(n)])\n",
    "    for i in range(n):\n",
    "        h=0\n",
    "        for j in range(m):\n",
    "            h=h+c[j]*act(w[j]*x[i]+b[j])\n",
    "        a=a+(h-f(x[i]))**2\n",
    "    return a\n",
    "\n",
    "\n",
    "def net(c,w,b,x):\n",
    "    return t.matmul(c,act(w*x+b))\n",
    "\n",
    "\n",
    "def grad(c,w,b,x):\n",
    "    m=w.size(0)\n",
    "    n=x.size(0)\n",
    "    grad_c=t.zeros(m)\n",
    "    grad_w=t.zeros(m)\n",
    "    grad_b=t.zeros(m)\n",
    "    for i in range(n):\n",
    "        N=net(c,w,b,x[i])\n",
    "        grad_c=grad_c+2*(N-f(x[i]))*(act(w*x[i]+b))\n",
    "        grad_w=grad_w+2*(N-f(x[i]))*(c*x[i]*dact(w*x[i]+b))\n",
    "        grad_b=grad_b+2*(N-f(x[i]))*(c*dact(w*x[i]+b))\n",
    "    return grad_c, grad_w, grad_b\n",
    "\n",
    "\n",
    "\n",
    "def optimization(n,m,T,r):\n",
    "    print('Optimization started')\n",
    "    x=t.tensor([R*(i/n) for i in range(n)])\n",
    "    w=t.randn(m)\n",
    "    c=t.randn(m)\n",
    "    b=t.randn(m)\n",
    "    E=t.zeros(T)\n",
    "    plots=[]\n",
    "    for k in tqdm.tqdm(range(T)):\n",
    "        G=grad(c,w,b,x)\n",
    "        c=c-r*G[0]\n",
    "        w=w-r*G[1]\n",
    "        b=b-r*G[2]\n",
    "        E[k]=Error(c,w,b,x)\n",
    "        if np.isnan(E[k])==True:\n",
    "            break\n",
    "        #if (E[k-1]-E[k])/E[k-1] < 0.01:\n",
    "         #   break\n",
    "        a=t.tensor([net(c,w,b,x[i]) for i in range(n)])\n",
    "        plt.plot(x,a)\n",
    "        plt.plot(x,f(x))\n",
    "        plt.xlabel(k/T)\n",
    "        plt.ylabel(\"N=\"+str(n)+\"...\"+\"m=\"+str(m))\n",
    "        if k==0:\n",
    "            fig, ax = plt.figure(), plt.axes(xlim=(0, R), ylim=(-1, 1.5))\n",
    "        else:\n",
    "            dummy_fig, ax = plt.figure(), plt.axes(xlim=(0, R), ylim=(-1, 1.5))\n",
    "            ax.set(animated=True)\n",
    "            ax.remove()\n",
    "            ax.figure = fig\n",
    "            fig.add_axes(ax)\n",
    "            plt.close(dummy_fig)\n",
    "        \n",
    "        plots.append([ax])\n",
    "\n",
    "    ani = animation.ArtistAnimation(fig, plots, interval=100, repeat_delay=20000)\n",
    "    ani.save(\"Fitting.gif\")\n",
    "    winsound.Beep(Freq,Dur)\n",
    "    winsound.Beep(Freq,Dur)\n",
    "    return c,w,b,E\n",
    "\n",
    "\n",
    "def animate(a):\n",
    "    ax.claer()\n",
    "    x=t.tensor([R*(i/n) for i in range(n)])\n",
    "    lns[a].set\n",
    "    "
   ]
  },
  {
   "cell_type": "code",
   "execution_count": 5,
   "id": "22828772",
   "metadata": {},
   "outputs": [],
   "source": [
    "n=100\n",
    "m=10\n",
    "T=10\n",
    "r=0.00001"
   ]
  },
  {
   "cell_type": "code",
   "execution_count": 6,
   "id": "181ba597",
   "metadata": {},
   "outputs": [
    {
     "name": "stdout",
     "output_type": "stream",
     "text": [
      "Optimization started\n"
     ]
    },
    {
     "name": "stderr",
     "output_type": "stream",
     "text": [
      "100%|██████████████████████████████████████████████████████████████████████████████████| 10/10 [00:02<00:00,  3.76it/s]\n",
      "MovieWriter ffmpeg unavailable; using Pillow instead.\n"
     ]
    },
    {
     "data": {
      "image/png": "[encoded data removed]",
      "text/plain": [
       "<Figure size 432x288 with 1 Axes>"
      ]
     },
     "metadata": {
      "needs_background": "light"
     },
     "output_type": "display_data"
    },
    {
     "data": {
      "image/png": "[encoded data removed]",
      "text/plain": [
       "<Figure size 432x288 with 10 Axes>"
      ]
     },
     "metadata": {
      "needs_background": "light"
     },
     "output_type": "display_data"
    }
   ],
   "source": [
    "A=optimization(n,m,T,r)"
   ]
  },
  {
   "cell_type": "code",
   "execution_count": null,
   "id": "0faa98bf",
   "metadata": {},
   "outputs": [],
   "source": [
    "A"
   ]
  },
  {
   "cell_type": "code",
   "execution_count": null,
   "id": "506949e9",
   "metadata": {},
   "outputs": [],
   "source": [
    "x=t.tensor([R*(i/n) for i in range(n+1)])"
   ]
  },
  {
   "cell_type": "code",
   "execution_count": null,
   "id": "8108a732",
   "metadata": {},
   "outputs": [],
   "source": [
    "plt.plot(A[3])"
   ]
  },
  {
   "cell_type": "code",
   "execution_count": null,
   "id": "51564f93",
   "metadata": {},
   "outputs": [],
   "source": [
    "a=t.zeros(n+1)\n",
    "for i in tqdm.tqdm(range(n+1)):\n",
    "    a[i]=t.matmul(A[0],act(A[1]*x[i]+A[2]))"
   ]
  },
  {
   "cell_type": "code",
   "execution_count": null,
   "id": "c0350579",
   "metadata": {},
   "outputs": [],
   "source": [
    "plt.plot(x,a)\n",
    "plt.plot(x,f(x))"
   ]
  },
  {
   "cell_type": "code",
   "execution_count": null,
   "id": "b9413c42",
   "metadata": {},
   "outputs": [],
   "source": [
    "step(10)"
   ]
  },
  {
   "cell_type": "code",
   "execution_count": null,
   "id": "db092515",
   "metadata": {},
   "outputs": [],
   "source": []
  },
  {
   "cell_type": "code",
   "execution_count": null,
   "id": "713b3db5",
   "metadata": {},
   "outputs": [],
   "source": []
  }
 ],
 "metadata": {
  "kernelspec": {
   "display_name": "Python 3 (ipykernel)",
   "language": "python",
   "name": "python3"
  },
  "language_info": {
   "codemirror_mode": {
    "name": "ipython",
    "version": 3
   },
   "file_extension": ".py",
   "mimetype": "text/x-python",
   "name": "python",
   "nbconvert_exporter": "python",
   "pygments_lexer": "ipython3",
   "version": "3.9.7"
  }
 },
 "nbformat": 4,
 "nbformat_minor": 5
}
