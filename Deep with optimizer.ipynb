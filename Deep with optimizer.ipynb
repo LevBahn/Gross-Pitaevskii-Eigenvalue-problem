{
 "cells": [
  {
   "cell_type": "code",
   "execution_count": 3,
   "id": "b5a52f41",
   "metadata": {},
   "outputs": [],
   "source": [
    "import numpy as np\n",
    "import torch as t\n",
    "import matplotlib.pyplot as plt\n",
    "import tqdm as tq\n",
    "import matplotlib.animation as animation\n",
    "from scipy.optimize import fmin_l_bfgs_b\n",
    "from scipy.optimize import minimize"
   ]
  },
  {
   "cell_type": "code",
   "execution_count": 4,
   "id": "9e53a827",
   "metadata": {},
   "outputs": [],
   "source": [
    "eta=1\n",
    "R=t.pi\n",
    "weight=1\n",
    "BW=10"
   ]
  },
  {
   "cell_type": "code",
   "execution_count": 34,
   "id": "e1b092f8",
   "metadata": {},
   "outputs": [],
   "source": [
    "# The number of parameters\n",
    "\n",
    "# Input (dimension)\n",
    "N = 1 \n",
    "\n",
    "# First layer\n",
    "p_w1 = N*100\n",
    "p_b1 = 100\n",
    "\n",
    "# Second layer\n",
    "p_w2 = 100*300\n",
    "p_b2 = 300\n",
    "\n",
    "\n",
    "# Third layer\n",
    "p_w3 = 300*1\n",
    "p_b3 = 1\n",
    "\n",
    "#Total size\n",
    "T=p_w1+p_w2+p_w3+p_b1+p_b2+p_b3\n",
    "\n",
    "#Parameter Transform\n",
    "def t_to_p(theta):\n",
    "    m3=len(theta)\n",
    "    w1=np.reshape(theta[:p_w1],(100,1))\n",
    "    b1=theta[p_w1:p_b1+p_w1]\n",
    "    w2=np.reshape(theta[p_w1+p_b1:p_w1+p_b1+p_w2],(300,100))\n",
    "    b2=theta[p_w1+p_b1+p_w2:p_w1+p_b1+p_w2+p_b2]\n",
    "    w3=np.reshape(theta[p_w1+p_b1+p_w2+p_b2:p_w1+p_b1+p_w2+p_b2+p_w3],(1,300))\n",
    "    b3=theta[p_w1+p_b1+p_w2+p_b2+p_w3:p_w1+p_b1+p_w2+p_b2+p_w3+p_b3]\n",
    "    return w1,b1,w2,b2,w3,b3\n",
    "\n",
    "def p_to_t(w1,b1,w2,b2,w3,b3):\n",
    "    w1=w1.flatten()\n",
    "    w2=w2.flatten()\n",
    "    w3=w3.flatten()\n",
    "    theta=np.concatenate((w1,b1,w2,b2,w3,b3))\n",
    "    return theta"
   ]
  },
  {
   "cell_type": "code",
   "execution_count": 120,
   "id": "d3ad8bbe",
   "metadata": {},
   "outputs": [],
   "source": [
    "# Activation function\n",
    "def act(x):\n",
    "    return np.sin(x)\n",
    "\n",
    "def dact(x):\n",
    "    return np.cos(x)\n",
    "\n",
    "def Net(x,theta):\n",
    "    w1,b1,w2,b2,w3,b3=t_to_p(theta)\n",
    "    X=w1@x+b1\n",
    "    X=act(X)\n",
    "    X=w2@X+b2\n",
    "    X=act(X)\n",
    "    X=w3@X+b3\n",
    "    return X\n",
    "\n",
    "#(a(s(a(s(ax+b))+b))+b)' -> a(s'(a(s(ax+b))+b))(a(s(ax+b)))'=w3(s'(w2(s(w1x+b1))+b2))(w2(s'(w1x+b1)))w1   \n",
    "\n",
    "def dNet(x,theta):\n",
    "    w1,b1,w2,b2,w3,b3=t_to_p(theta)\n",
    "    print(w1.shape, w2.shape, w3.shape)\n",
    "    print(((w2@(dact(w1@x+b1)))).shape)\n",
    "    X=w3@dact((w2@(act(w1@x+b1))+b2))*((w2@(dact(w1@x+b1))))@(w1)\n",
    "    return X\n",
    "    \n",
    "\n",
    "def energy(x,theta):\n",
    "    e=0\n",
    "    for i in range(N):\n",
    "        e+=1\n",
    "    return j\n",
    "    "
   ]
  },
  {
   "cell_type": "code",
   "execution_count": 121,
   "id": "3d106322",
   "metadata": {},
   "outputs": [],
   "source": [
    "theta=0.01*np.ones(T)"
   ]
  },
  {
   "cell_type": "code",
   "execution_count": 122,
   "id": "75a9df3b",
   "metadata": {},
   "outputs": [
    {
     "name": "stdout",
     "output_type": "stream",
     "text": [
      "(100, 1) (300, 100) (1, 300)\n",
      "(300,)\n"
     ]
    },
    {
     "ename": "ValueError",
     "evalue": "matmul: Input operand 1 has a mismatch in its core dimension 0, with gufunc signature (n?,k),(k,m?)->(n?,m?) (size 100 is different from 300)",
     "output_type": "error",
     "traceback": [
      "\u001b[1;31m---------------------------------------------------------------------------\u001b[0m",
      "\u001b[1;31mValueError\u001b[0m                                Traceback (most recent call last)",
      "\u001b[1;32m~\\AppData\\Local\\Temp/ipykernel_16120/2471278782.py\u001b[0m in \u001b[0;36m<module>\u001b[1;34m\u001b[0m\n\u001b[1;32m----> 1\u001b[1;33m \u001b[0mdNet\u001b[0m\u001b[1;33m(\u001b[0m\u001b[0mnp\u001b[0m\u001b[1;33m.\u001b[0m\u001b[0mones\u001b[0m\u001b[1;33m(\u001b[0m\u001b[1;36m1\u001b[0m\u001b[1;33m)\u001b[0m\u001b[1;33m,\u001b[0m\u001b[0mtheta\u001b[0m\u001b[1;33m)\u001b[0m\u001b[1;33m\u001b[0m\u001b[1;33m\u001b[0m\u001b[0m\n\u001b[0m",
      "\u001b[1;32m~\\AppData\\Local\\Temp/ipykernel_16120/4068194987.py\u001b[0m in \u001b[0;36mdNet\u001b[1;34m(x, theta)\u001b[0m\n\u001b[0;32m     21\u001b[0m     \u001b[0mprint\u001b[0m\u001b[1;33m(\u001b[0m\u001b[0mw1\u001b[0m\u001b[1;33m.\u001b[0m\u001b[0mshape\u001b[0m\u001b[1;33m,\u001b[0m \u001b[0mw2\u001b[0m\u001b[1;33m.\u001b[0m\u001b[0mshape\u001b[0m\u001b[1;33m,\u001b[0m \u001b[0mw3\u001b[0m\u001b[1;33m.\u001b[0m\u001b[0mshape\u001b[0m\u001b[1;33m)\u001b[0m\u001b[1;33m\u001b[0m\u001b[1;33m\u001b[0m\u001b[0m\n\u001b[0;32m     22\u001b[0m     \u001b[0mprint\u001b[0m\u001b[1;33m(\u001b[0m\u001b[1;33m(\u001b[0m\u001b[1;33m(\u001b[0m\u001b[0mw2\u001b[0m\u001b[1;33m@\u001b[0m\u001b[1;33m(\u001b[0m\u001b[0mdact\u001b[0m\u001b[1;33m(\u001b[0m\u001b[0mw1\u001b[0m\u001b[1;33m@\u001b[0m\u001b[0mx\u001b[0m\u001b[1;33m+\u001b[0m\u001b[0mb1\u001b[0m\u001b[1;33m)\u001b[0m\u001b[1;33m)\u001b[0m\u001b[1;33m)\u001b[0m\u001b[1;33m)\u001b[0m\u001b[1;33m.\u001b[0m\u001b[0mshape\u001b[0m\u001b[1;33m)\u001b[0m\u001b[1;33m\u001b[0m\u001b[1;33m\u001b[0m\u001b[0m\n\u001b[1;32m---> 23\u001b[1;33m     \u001b[0mX\u001b[0m\u001b[1;33m=\u001b[0m\u001b[0mw3\u001b[0m\u001b[1;33m@\u001b[0m\u001b[0mdact\u001b[0m\u001b[1;33m(\u001b[0m\u001b[1;33m(\u001b[0m\u001b[0mw2\u001b[0m\u001b[1;33m@\u001b[0m\u001b[1;33m(\u001b[0m\u001b[0mact\u001b[0m\u001b[1;33m(\u001b[0m\u001b[0mw1\u001b[0m\u001b[1;33m@\u001b[0m\u001b[0mx\u001b[0m\u001b[1;33m+\u001b[0m\u001b[0mb1\u001b[0m\u001b[1;33m)\u001b[0m\u001b[1;33m)\u001b[0m\u001b[1;33m+\u001b[0m\u001b[0mb2\u001b[0m\u001b[1;33m)\u001b[0m\u001b[1;33m)\u001b[0m\u001b[1;33m*\u001b[0m\u001b[1;33m(\u001b[0m\u001b[1;33m(\u001b[0m\u001b[0mw2\u001b[0m\u001b[1;33m@\u001b[0m\u001b[1;33m(\u001b[0m\u001b[0mdact\u001b[0m\u001b[1;33m(\u001b[0m\u001b[0mw1\u001b[0m\u001b[1;33m@\u001b[0m\u001b[0mx\u001b[0m\u001b[1;33m+\u001b[0m\u001b[0mb1\u001b[0m\u001b[1;33m)\u001b[0m\u001b[1;33m)\u001b[0m\u001b[1;33m)\u001b[0m\u001b[1;33m)\u001b[0m\u001b[1;33m@\u001b[0m\u001b[1;33m(\u001b[0m\u001b[0mw1\u001b[0m\u001b[1;33m)\u001b[0m\u001b[1;33m\u001b[0m\u001b[1;33m\u001b[0m\u001b[0m\n\u001b[0m\u001b[0;32m     24\u001b[0m     \u001b[1;32mreturn\u001b[0m \u001b[0mX\u001b[0m\u001b[1;33m\u001b[0m\u001b[1;33m\u001b[0m\u001b[0m\n\u001b[0;32m     25\u001b[0m \u001b[1;33m\u001b[0m\u001b[0m\n",
      "\u001b[1;31mValueError\u001b[0m: matmul: Input operand 1 has a mismatch in its core dimension 0, with gufunc signature (n?,k),(k,m?)->(n?,m?) (size 100 is different from 300)"
     ]
    }
   ],
   "source": [
    "dNet(np.ones(1),theta)"
   ]
  },
  {
   "cell_type": "code",
   "execution_count": null,
   "id": "1aa418b7",
   "metadata": {},
   "outputs": [],
   "source": []
  },
  {
   "cell_type": "code",
   "execution_count": null,
   "id": "56830b87",
   "metadata": {},
   "outputs": [],
   "source": []
  }
 ],
 "metadata": {
  "kernelspec": {
   "display_name": "Python 3 (ipykernel)",
   "language": "python",
   "name": "python3"
  },
  "language_info": {
   "codemirror_mode": {
    "name": "ipython",
    "version": 3
   },
   "file_extension": ".py",
   "mimetype": "text/x-python",
   "name": "python",
   "nbconvert_exporter": "python",
   "pygments_lexer": "ipython3",
   "version": "3.9.7"
  }
 },
 "nbformat": 4,
 "nbformat_minor": 5
}
