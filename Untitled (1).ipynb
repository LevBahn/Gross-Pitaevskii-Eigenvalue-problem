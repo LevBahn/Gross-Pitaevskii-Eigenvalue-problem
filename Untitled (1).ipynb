{
 "cells": [
  {
   "cell_type": "code",
   "execution_count": 3,
   "id": "818e84eb",
   "metadata": {},
   "outputs": [],
   "source": [
    "import winsound\n",
    "Freq = 2500 # Set Frequency To 2500 Hertz\n",
    "Dur = 1000 # Set Duration To 1000 ms == 1 second\n",
    "winsound.Beep(Freq,Dur)\n",
    "winsound.Beep(Freq,Dur)"
   ]
  },
  {
   "cell_type": "code",
   "execution_count": null,
   "id": "1e605578",
   "metadata": {},
   "outputs": [],
   "source": []
  }
 ],
 "metadata": {
  "kernelspec": {
   "display_name": "Python 3 (ipykernel)",
   "language": "python",
   "name": "python3"
  },
  "language_info": {
   "codemirror_mode": {
    "name": "ipython",
    "version": 3
   },
   "file_extension": ".py",
   "mimetype": "text/x-python",
   "name": "python",
   "nbconvert_exporter": "python",
   "pygments_lexer": "ipython3",
   "version": "3.9.7"
  }
 },
 "nbformat": 4,
 "nbformat_minor": 5
}
