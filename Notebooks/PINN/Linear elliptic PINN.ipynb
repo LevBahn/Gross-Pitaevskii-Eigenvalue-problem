{
 "cells": [
  {
   "cell_type": "code",
   "execution_count": 2,
   "id": "93e4c1e8",
   "metadata": {},
   "outputs": [],
   "source": [
    "import numpy as np\n",
    "import torch as t\n",
    "import matplotlib.pyplot as plt\n",
    "import tqdm as tq\n",
    "from matplotlib import rc\n",
    "rc('animation', html='jshtml')\n",
    "import matplotlib.animation as animation\n",
    "import winsound\n",
    "Freq = 2500 # Set Frequency To 2500 Hertz\n",
    "Dur = 1000 # Set Duration To 1000 ms == 1 second\n"
   ]
  },
  {
   "cell_type": "code",
   "execution_count": 3,
   "id": "cf04c2ff",
   "metadata": {},
   "outputs": [],
   "source": [
    "l=4"
   ]
  },
  {
   "cell_type": "code",
   "execution_count": 4,
   "id": "eb3239b1",
   "metadata": {},
   "outputs": [],
   "source": [
    "# t.exp(x)\n",
    "# t.sin(x)\n",
    "# t.lop(1+t.exp(x))\n",
    "R=t.pi\n",
    "\n",
    "def act(x):\n",
    "    return t.sin(x)\n",
    "#t.log(1+t.exp(x))\n",
    "\n",
    "def actd(x):\n",
    "    return t.cos(x)\n",
    "#t.exp(x)/(1+t.exp(x))\n",
    "\n",
    "def actdd(x):\n",
    "    return -t.sin(x)\n",
    "#(t.exp(x)*(1+t.exp(x))-t.exp(x)**2)/(1+t.exp(x))**2\n",
    "\n",
    "def actddd(x):\n",
    "    return -t.cos(x)\n",
    "#(t.exp(x)*(1-t.exp(x)))/(1+t.exp(x))**3\n",
    "\n",
    "def L2(c,w,x):\n",
    "    a=0\n",
    "    n=x.size(0)\n",
    "    for i in range(n):\n",
    "        a=a+net(c,w,x[i])**2\n",
    "    return (R/n)*a\n",
    "\n",
    "def E(x,c,w):\n",
    "    a=0\n",
    "    n=x.size(0)\n",
    "    m=c.size(0)\n",
    "    norm=0\n",
    "    for i in range(n):\n",
    "        e=0\n",
    "        p=0\n",
    "        z=0\n",
    "        norm=norm+0 #(t.matmul(c,act(w*x[i]))**2 -1/t.pi )\n",
    "        for j in range(m):\n",
    "            e=e+c[j]*((w[j]**2)*actdd(w[j]*x[i])+l*act(w[j]*x[i]))\n",
    "            p=p+c[j]*act(w[j]*t.pi)\n",
    "            z=z+c[j]*act(t.zeros(1))\n",
    "        a=a+e**2+p**2+z**2 \n",
    "    return a+((t.pi/n)*norm)**2\n",
    "\n",
    "def net(c,w,x):\n",
    "    return t.matmul(c,act(w*x))\n",
    "\n",
    "\n",
    "def grad(x,c,w):\n",
    "    m=c.size(0)\n",
    "    n=x.size(0)\n",
    "    c_grad=t.randn(m)\n",
    "    w_grad=t.randn(m)\n",
    "    for i in range(n):\n",
    "        for j in range(m):\n",
    "            c_1=2*c[j]*((w[j]**2)*actdd(w[j]*x[i])+l*act(w[j]*x[i]))*((w**2)*actdd(w*x[i])+l*act(w*x[i]))\n",
    "            c_2=2*c[j]*act(w[j]*t.pi)*act(w*t.pi)\n",
    "            c_3=2*c[j]*act(t.zeros(1))*act(t.zeros(1))\n",
    "            c_n=4*(L2(c,w,x)-1)*c[j]*act(w[j]*x[i])*act(w[j]*x[i])\n",
    "            w_1=2*c[j]*c*((w[j]**2)*actdd(w[j]*x[i])+l*act(w[j]*x[i]))*(2*w*actdd(w*x[i])+x[i]*actddd(w*x[i])*w**2+l*x[i]*actd(w*x[i]))\n",
    "            w_2=2*c[j]*c*act(w[j]*t.pi)*t.pi*actd(t.pi*w)\n",
    "            w_3=t.zeros(1)\n",
    "            w_n=4*(L2(c,w,x)-1)*c[j]*act(w[j]*x[i])*c[j]*actd(w[j]*x[i])\n",
    "            c_grad=c_grad+c_1+c_2+c_3+c_n\n",
    "            w_grad=w_grad+w_1+w_2+w_3+w_n\n",
    "    return c_grad, w_grad\n",
    "\n",
    "def optimization(n,m,T,r):\n",
    "    print('Optimization started')\n",
    "    x=t.tensor([i*(t.pi/n) for i in range(n)])\n",
    "    w=t.randn(m)\n",
    "    c=t.randn(m)\n",
    "    Error=t.zeros(T)\n",
    "    L2_Error=t.zeros(T)\n",
    "    plots=[]\n",
    "    for k in tq.tqdm(range(T)):\n",
    "        G=grad(x,c,w)\n",
    "        c=c-r*G[0]\n",
    "        w=w-r*G[1]\n",
    "        Error[k]=E(x,c,w)\n",
    "        L2_Error[k]=L2(c,w,x)\n",
    "        if np.isnan(Error[k])==True:\n",
    "            break\n",
    "        a=t.tensor([net(c,w,x[i]) for i in range(n)])\n",
    "        plt.plot(x,a)\n",
    "        plt.plot(x,f(x))\n",
    "        plt.xlabel(k/T)\n",
    "        if k==0:\n",
    "            fig, ax = plt.figure(), plt.axes(xlim=(0, R), ylim=(-1, 1.5))\n",
    "        else:\n",
    "            dummy_fig, ax = plt.figure(), plt.axes(xlim=(0, R), ylim=(-1, 1.5))\n",
    "            ax.set(animated=True)\n",
    "            ax.remove()\n",
    "            ax.figure = fig\n",
    "            fig.add_axes(ax)\n",
    "            plt.close(dummy_fig)\n",
    "        \n",
    "        plots.append([ax])\n",
    "\n",
    "    ani = animation.ArtistAnimation(fig, plots, interval=50, repeat_delay=20000)\n",
    "    ani.save(\"Elliptic.gif\")\n",
    "    winsound.Beep(Freq,Dur)\n",
    "    winsound.Beep(Freq,Dur)\n",
    "    return c,w,Error, L2_Error\n",
    "\n",
    "def f(x):\n",
    "    return (2/t.pi)*t.sin(t.sqrt(l*t.ones(1))*x)\n",
    "\n",
    "#def f(n,m,T,r):\n",
    " #   a=t.zeros(n)\n",
    "  #  x=t.tensor([i*(t.pi/n) for i in range(n)])\n",
    "   # param=optimization(n,m,T,r)\n",
    "    #print('function is going to be presented')\n",
    "    #for i in tq.tqdm(range(n)):\n",
    "    #    a[i]=t.matmul(param[0],act(param[1]*x[i]))\n",
    "    #return a, param[2]"
   ]
  },
  {
   "cell_type": "code",
   "execution_count": 5,
   "id": "dfc2cd79",
   "metadata": {},
   "outputs": [],
   "source": [
    "n=20\n",
    "m=20\n",
    "T=100\n",
    "r=0.00001"
   ]
  },
  {
   "cell_type": "code",
   "execution_count": 6,
   "id": "d43b4fa5",
   "metadata": {},
   "outputs": [
    {
     "name": "stdout",
     "output_type": "stream",
     "text": [
      "Optimization started\n"
     ]
    },
    {
     "name": "stderr",
     "output_type": "stream",
     "text": [
      "100%|████████████████████████████████████████████████████████████████████████████████| 100/100 [01:06<00:00,  1.50it/s]\n",
      "MovieWriter ffmpeg unavailable; using Pillow instead.\n"
     ]
    },
    {
     "data": {
      "image/png": "[encoded data removed]",
      "text/plain": [
       "<Figure size 432x288 with 1 Axes>"
      ]
     },
     "metadata": {
      "needs_background": "light"
     },
     "output_type": "display_data"
    },
    {
     "data": {
      "image/png": "[encoded data removed]",
      "text/plain": [
       "<Figure size 432x288 with 100 Axes>"
      ]
     },
     "metadata": {
      "needs_background": "light"
     },
     "output_type": "display_data"
    }
   ],
   "source": [
    "A=optimization(n,m,T,r)"
   ]
  },
  {
   "cell_type": "code",
   "execution_count": 7,
   "id": "ab550368",
   "metadata": {},
   "outputs": [],
   "source": [
    "x=t.tensor([i*(t.pi/n) for i in range(n+1)])"
   ]
  },
  {
   "cell_type": "code",
   "execution_count": 8,
   "id": "dd3eef81",
   "metadata": {},
   "outputs": [
    {
     "name": "stderr",
     "output_type": "stream",
     "text": [
      "100%|███████████████████████████████████████████████████████████████████████████████| 21/21 [00:00<00:00, 20355.99it/s]\n"
     ]
    }
   ],
   "source": [
    "a=t.zeros(n+1)\n",
    "for i in tq.tqdm(range(n+1)):\n",
    "    a[i]=t.matmul(A[0],act(A[1]*x[i]))"
   ]
  },
  {
   "cell_type": "code",
   "execution_count": 9,
   "id": "22882e61",
   "metadata": {},
   "outputs": [],
   "source": [
    "V=t.zeros(n)"
   ]
  },
  {
   "cell_type": "code",
   "execution_count": 15,
   "id": "f23ef248",
   "metadata": {},
   "outputs": [
    {
     "data": {
      "text/plain": [
       "[<matplotlib.lines.Line2D at 0x226906ab130>]"
      ]
     },
     "execution_count": 15,
     "metadata": {},
     "output_type": "execute_result"
    },
    {
     "data": {
      "image/png": "[encoded data removed]",
      "text/plain": [
       "<Figure size 432x288 with 1 Axes>"
      ]
     },
     "metadata": {
      "needs_background": "light"
     },
     "output_type": "display_data"
    }
   ],
   "source": [
    "plt.plot(x,a)"
   ]
  },
  {
   "cell_type": "code",
   "execution_count": 11,
   "id": "51aa3f23",
   "metadata": {},
   "outputs": [
    {
     "data": {
      "text/plain": [
       "(tensor([-0.7879, -0.0303, -0.2682, -1.4720, -0.1797, -0.3763, -1.1114, -0.4420,\n",
       "          0.7750, -0.0049, -0.1245, -1.1042,  1.3505, -0.2067, -0.3261, -1.3480,\n",
       "         -0.0076, -0.0128, -0.4357,  0.5712]),\n",
       " tensor([ 0.1731,  1.8836, -0.2676,  1.0748,  0.0325,  0.6874, -0.0438,  0.2125,\n",
       "          0.6822,  0.0582, -1.1779,  0.6504,  0.9598,  0.9421, -1.5180, -0.6188,\n",
       "          0.8573,  1.2493, -0.1026, -0.6850]),\n",
       " tensor([5.9308e+02, 4.5980e+02, 3.5867e+02, 2.8107e+02, 2.2097e+02, 1.7424e+02,\n",
       "         1.3774e+02, 1.0911e+02, 8.6612e+01, 6.8907e+01, 5.4911e+01, 4.3865e+01,\n",
       "         3.5083e+01, 2.8132e+01, 2.2626e+01, 1.8220e+01, 1.4714e+01, 1.1908e+01,\n",
       "         9.6697e+00, 7.8674e+00, 6.4276e+00, 5.2661e+00, 4.3319e+00, 3.5763e+00,\n",
       "         2.9630e+00, 2.4659e+00, 2.0606e+00, 1.7307e+00, 1.4640e+00, 1.2432e+00,\n",
       "         1.0599e+00, 9.1194e-01, 7.8970e-01, 6.8796e-01, 6.0167e-01, 5.3028e-01,\n",
       "         4.7139e-01, 4.2224e-01, 3.8318e-01, 3.5050e-01, 3.2302e-01, 3.0179e-01,\n",
       "         2.8569e-01, 2.7199e-01, 2.6121e-01, 2.5316e-01, 2.4844e-01, 2.4610e-01,\n",
       "         2.4538e-01, 2.4644e-01, 2.4803e-01, 2.5162e-01, 2.5679e-01, 2.6251e-01,\n",
       "         2.6907e-01, 2.7662e-01, 2.8533e-01, 2.9409e-01, 3.0481e-01, 3.1585e-01,\n",
       "         3.2659e-01, 3.3899e-01, 3.5160e-01, 3.6414e-01, 3.7846e-01, 3.9195e-01,\n",
       "         4.0620e-01, 4.2199e-01, 4.3756e-01, 4.5336e-01, 4.6957e-01, 4.8709e-01,\n",
       "         5.0322e-01, 5.2021e-01, 5.3682e-01, 5.5432e-01, 5.7263e-01, 5.8990e-01,\n",
       "         6.0768e-01, 6.2585e-01, 6.4471e-01, 6.6116e-01, 6.8045e-01, 6.9835e-01,\n",
       "         7.1661e-01, 7.3254e-01, 7.4941e-01, 7.6824e-01, 7.8619e-01, 8.0537e-01,\n",
       "         8.2488e-01, 8.4384e-01, 8.6182e-01, 8.8062e-01, 8.9880e-01, 9.1798e-01,\n",
       "         9.3726e-01, 9.5596e-01, 9.7566e-01, 9.9602e-01]),\n",
       " tensor([5.2604, 4.1039, 3.2299, 2.5602, 2.0409, 1.6360, 1.3180, 1.0671, 0.8685,\n",
       "         0.7106, 0.5845, 0.4837, 0.4024, 0.3370, 0.2843, 0.2412, 0.2062, 0.1775,\n",
       "         0.1539, 0.1344, 0.1182, 0.1048, 0.0935, 0.0840, 0.0759, 0.0691, 0.0632,\n",
       "         0.0582, 0.0539, 0.0501, 0.0467, 0.0439, 0.0413, 0.0391, 0.0371, 0.0352,\n",
       "         0.0336, 0.0321, 0.0309, 0.0297, 0.0286, 0.0276, 0.0268, 0.0260, 0.0253,\n",
       "         0.0246, 0.0240, 0.0235, 0.0230, 0.0225, 0.0221, 0.0217, 0.0214, 0.0211,\n",
       "         0.0208, 0.0205, 0.0203, 0.0201, 0.0199, 0.0197, 0.0196, 0.0195, 0.0193,\n",
       "         0.0192, 0.0192, 0.0191, 0.0191, 0.0190, 0.0190, 0.0190, 0.0190, 0.0190,\n",
       "         0.0190, 0.0190, 0.0191, 0.0191, 0.0192, 0.0193, 0.0193, 0.0194, 0.0195,\n",
       "         0.0196, 0.0197, 0.0197, 0.0198, 0.0199, 0.0199, 0.0200, 0.0201, 0.0203,\n",
       "         0.0204, 0.0205, 0.0207, 0.0208, 0.0209, 0.0211, 0.0212, 0.0213, 0.0215,\n",
       "         0.0217]))"
      ]
     },
     "execution_count": 11,
     "metadata": {},
     "output_type": "execute_result"
    }
   ],
   "source": [
    "A"
   ]
  },
  {
   "cell_type": "code",
   "execution_count": 12,
   "id": "3a4cef14",
   "metadata": {},
   "outputs": [
    {
     "data": {
      "text/plain": [
       "([<matplotlib.lines.Line2D at 0x2269064a100>], tensor(0.9960))"
      ]
     },
     "execution_count": 12,
     "metadata": {},
     "output_type": "execute_result"
    },
    {
     "data": {
      "image/png": "[encoded data removed]",
      "text/plain": [
       "<Figure size 432x288 with 1 Axes>"
      ]
     },
     "metadata": {
      "needs_background": "light"
     },
     "output_type": "display_data"
    }
   ],
   "source": [
    "plt.plot(A[2]), A[2][-1]"
   ]
  },
  {
   "cell_type": "code",
   "execution_count": 13,
   "id": "d296b2d9",
   "metadata": {},
   "outputs": [
    {
     "data": {
      "text/plain": [
       "tensor(0.0234)"
      ]
     },
     "execution_count": 13,
     "metadata": {},
     "output_type": "execute_result"
    }
   ],
   "source": [
    "t.matmul(A[0],act(A[1]*t.pi))"
   ]
  },
  {
   "cell_type": "code",
   "execution_count": 14,
   "id": "a6e5a4ba",
   "metadata": {},
   "outputs": [
    {
     "data": {
      "text/plain": [
       "tensor(0.0207)"
      ]
     },
     "execution_count": 14,
     "metadata": {},
     "output_type": "execute_result"
    }
   ],
   "source": [
    "L2(A[0],A[1],x)"
   ]
  },
  {
   "cell_type": "code",
   "execution_count": null,
   "id": "7f2c8e7d",
   "metadata": {},
   "outputs": [],
   "source": []
  }
 ],
 "metadata": {
  "kernelspec": {
   "display_name": "Python 3 (ipykernel)",
   "language": "python",
   "name": "python3"
  },
  "language_info": {
   "codemirror_mode": {
    "name": "ipython",
    "version": 3
   },
   "file_extension": ".py",
   "mimetype": "text/x-python",
   "name": "python",
   "nbconvert_exporter": "python",
   "pygments_lexer": "ipython3",
   "version": "3.9.7"
  }
 },
 "nbformat": 4,
 "nbformat_minor": 5
}
