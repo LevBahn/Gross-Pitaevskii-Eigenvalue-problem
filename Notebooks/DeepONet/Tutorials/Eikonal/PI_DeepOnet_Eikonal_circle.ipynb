{
 "nbformat": 4,
 "nbformat_minor": 0,
 "metadata": {
  "colab": {
   "name": "PI_DeepOnet_Eikonal_circle.ipynb",
   "provenance": [],
   "collapsed_sections": [],
   "machine_shape": "hm"
  },
  "kernelspec": {
   "name": "python3",
   "display_name": "Python 3"
  },
  "accelerator": "GPU"
 },
 "cells": [
  {
   "cell_type": "code",
   "metadata": {
    "id": "mRR_BT5vUnSw"
   },
   "source": [
    "import numpy as onp\n",
    "import jax.numpy as np\n",
    "from jax import random, grad, vmap, jit\n",
    "from jax.example_libraries import optimizers\n",
    "from jax.nn import relu\n",
    "from jax.config import config\n",
    "\n",
    "import itertools\n",
    "from functools import partial\n",
    "from torch.utils import data\n",
    "from tqdm import trange\n",
    "import matplotlib.pyplot as plt\n",
    "from scipy.interpolate import griddata\n",
    "\n",
    "%matplotlib inline"
   ],
   "execution_count": 1,
   "outputs": []
  },
  {
   "cell_type": "code",
   "metadata": {
    "id": "rTZSJ2taqCPZ"
   },
   "source": [
    "# Define the neural net\n",
    "def MLP(layers, activation=relu):\n",
    "  ''' Vanilla MLP'''\n",
    "  def init(rng_key):\n",
    "      def init_layer(key, d_in, d_out):\n",
    "          k1, k2 = random.split(key)\n",
    "          glorot_stddev = 1. / np.sqrt((d_in + d_out) / 2.)\n",
    "          W = glorot_stddev * random.normal(k1, (d_in, d_out))\n",
    "          b = np.zeros(d_out)\n",
    "          return W, b\n",
    "      key, *keys = random.split(rng_key, len(layers))\n",
    "      params = list(map(init_layer, keys, layers[:-1], layers[1:]))\n",
    "      return params\n",
    "  def apply(params, inputs):\n",
    "      for W, b in params[:-1]:\n",
    "          outputs = np.dot(inputs, W) + b\n",
    "          inputs = activation(outputs)\n",
    "      W, b = params[-1]\n",
    "      outputs = np.dot(inputs, W) + b\n",
    "      return outputs\n",
    "  return init, apply"
   ],
   "execution_count": 2,
   "outputs": []
  },
  {
   "cell_type": "code",
   "metadata": {
    "id": "yPdIBu2xPoi4"
   },
   "source": [
    "class DataGenerator(data.Dataset):\n",
    "    def __init__(self, u, y, s, \n",
    "                 batch_size=64, rng_key=random.PRNGKey(1234)):\n",
    "        'Initialization'\n",
    "        self.u = u\n",
    "        self.y = y\n",
    "        self.s = s\n",
    "        \n",
    "        self.N = u.shape[0]\n",
    "        self.batch_size = batch_size\n",
    "        self.key = rng_key\n",
    "\n",
    "    def __getitem__(self, index):\n",
    "        'Generate one batch of data'\n",
    "        self.key, subkey = random.split(self.key)\n",
    "        inputs, outputs = self.__data_generation(subkey)\n",
    "        return inputs, outputs\n",
    "\n",
    "    @partial(jit, static_argnums=(0,))\n",
    "    def __data_generation(self, key):\n",
    "        'Generates data containing batch_size samples'\n",
    "        idx = random.choice(key, self.N, (self.batch_size,), replace=False)\n",
    "        s = self.s[idx,:]\n",
    "        y = self.y[idx,:]\n",
    "        u = self.u[idx,:]\n",
    "        # Construct batch\n",
    "        inputs = (u, y)\n",
    "        outputs = s\n",
    "        return inputs, outputs\n"
   ],
   "execution_count": 3,
   "outputs": []
  },
  {
   "cell_type": "code",
   "metadata": {
    "id": "kbh_Vdc8VmZZ"
   },
   "source": [
    "# Define the model\n",
    "class PI_DeepONet:\n",
    "    def __init__(self, branch_layers, trunk_layers):    \n",
    "        # Network initialization and evaluation functions\n",
    "        self.branch_init, self.branch_apply = MLP(branch_layers, activation=np.tanh)\n",
    "        self.trunk_init, self.trunk_apply = MLP(trunk_layers, activation=np.tanh)\n",
    "\n",
    "        # Initialize\n",
    "        branch_params = self.branch_init(rng_key = random.PRNGKey(1234))\n",
    "        trunk_params = self.trunk_init(rng_key = random.PRNGKey(4321))\n",
    "        params = (branch_params, trunk_params)\n",
    "\n",
    "        # Use optimizers to set optimizer initialization and update functions\n",
    "        self.opt_init, \\\n",
    "        self.opt_update, \\\n",
    "        self.get_params = optimizers.adam(optimizers.exponential_decay(1e-3, \n",
    "                                                                      decay_steps=1000, \n",
    "                                                                      decay_rate=0.9))\n",
    "        self.opt_state = self.opt_init(params)\n",
    "        self.itercount = itertools.count()\n",
    "\n",
    "        # Logger\n",
    "        self.loss_log = []\n",
    "        self.loss_bcs_log = []\n",
    "        self.loss_res_log = []\n",
    "\n",
    "    # Define DeepONet architecture\n",
    "    def operator_net(self, params, u, y1, y2):\n",
    "        y = np.stack([y1, y2])\n",
    "        branch_params, trunk_params = params\n",
    "        B = self.branch_apply(branch_params, u)\n",
    "        T = self.trunk_apply(trunk_params, y)\n",
    "        outputs = np.sum(B * T)\n",
    "        return outputs\n",
    "\n",
    "    # Define ODE/PDE residual\n",
    "    def residual_net(self, params, u, y1, y2):\n",
    "        s_y1 = grad(self.operator_net, argnums = 2)(params, u, y1, y2)\n",
    "        s_y2 = grad(self.operator_net, argnums = 3)(params, u, y1, y2)\n",
    "        res = s_y1**2 + s_y2**2\n",
    "        return res\n",
    "\n",
    "    # Define boundary loss\n",
    "    def loss_bcs(self, params, batch):\n",
    "        # Fetch data\n",
    "        inputs, outputs = batch\n",
    "        u, y = inputs\n",
    "        # Compute forward pass\n",
    "        pred = vmap(self.operator_net, (None, 0, 0, 0))(params, u, y[:,0], y[:,1])\n",
    "        # Compute loss\n",
    "        loss = np.mean((outputs.flatten() - pred.flatten())**2)\n",
    "        return loss\n",
    "\n",
    "    # Define residual loss\n",
    "    def loss_res(self, params, batch):\n",
    "        # Fetch data\n",
    "        inputs, outputs = batch\n",
    "        u, y = inputs\n",
    "        # Compute forward pass\n",
    "        pred = vmap(self.residual_net, (None, 0, 0, 0))(params, u, y[:,0], y[:, 1])\n",
    "        # Compute loss\n",
    "        loss = np.mean((pred - 1.0)**2)\n",
    "        return loss    \n",
    "    \n",
    "    # Define total loss\n",
    "    def loss(self, params, bcs_batch, res_batch):\n",
    "        loss_bcs = self.loss_bcs(params, bcs_batch)\n",
    "        loss_res = self.loss_res(params, res_batch)\n",
    "        loss = loss_bcs + loss_res\n",
    "        return loss\n",
    "\n",
    "    # Define a compiled update step\n",
    "    @partial(jit, static_argnums=(0,))\n",
    "    def step(self, i, opt_state, bcs_batch, res_batch):\n",
    "        params = self.get_params(opt_state)\n",
    "        g = grad(self.loss)(params, bcs_batch, res_batch)\n",
    "        return self.opt_update(i, g, opt_state)\n",
    "\n",
    "    # Optimize parameters in a loop\n",
    "    def train(self, bcs_dataset, res_dataset, nIter = 10000):\n",
    "        bcs_data = iter(bcs_dataset)\n",
    "        res_data = iter(res_dataset)\n",
    "\n",
    "        pbar = trange(nIter)\n",
    "        # Main training loop\n",
    "        for it in pbar:\n",
    "            bcs_batch= next(bcs_data)\n",
    "            res_batch = next(res_data)\n",
    "\n",
    "            self.opt_state = self.step(next(self.itercount), self.opt_state, bcs_batch, res_batch)\n",
    "            \n",
    "            if it % 100 == 0:\n",
    "                params = self.get_params(self.opt_state)\n",
    "\n",
    "                # Compute losses\n",
    "                loss_value = self.loss(params, bcs_batch, res_batch)\n",
    "                loss_bcs_value = self.loss_bcs(params, bcs_batch)\n",
    "                loss_res_value = self.loss_res(params, res_batch)\n",
    "\n",
    "                # Store losses\n",
    "                self.loss_log.append(loss_value)\n",
    "                self.loss_bcs_log.append(loss_bcs_value)\n",
    "                self.loss_res_log.append(loss_res_value)\n",
    "\n",
    "                # Print losses\n",
    "                pbar.set_postfix({'Loss': loss_value, \n",
    "                                  'loss_bcs' : loss_bcs_value, \n",
    "                                  'loss_res': loss_res_value})\n",
    "       \n",
    "    # Evaluates predictions at test points  \n",
    "    @partial(jit, static_argnums=(0,))\n",
    "    def predict_s(self, params, U_star, Y_star):\n",
    "        s_pred = vmap(self.operator_net, (None, 0, 0, 0))(params, U_star, Y_star[:,0], Y_star[:,1])\n",
    "        return s_pred"
   ],
   "execution_count": 4,
   "outputs": []
  },
  {
   "cell_type": "code",
   "metadata": {
    "id": "k6NL6NI7P9Jo"
   },
   "source": [
    "# Geneate training data corresponding to zero boundary condition\n",
    "def generate_bcs_training_data(key, m=100, P=100):\n",
    "    # Sample a radius from an uniform distribution\n",
    "    r = random.uniform(key)\n",
    "    # Parameterzing the circle with polar coordinates\n",
    "    fn_theta = lambda theta:  np.hstack([r * np.cos(theta), r * np.sin(theta)])\n",
    "    # Discretize the parameter space \n",
    "    theta = np.linspace(0, 2 * np.pi, m)\n",
    "\n",
    "    # Input sample \n",
    "    u =  vmap(fn_theta)(theta).reshape(1, -1)  # shape = (1, 2m)   (x1, y1, x2, y2, ...) \n",
    "\n",
    "    # Fixed sensors\n",
    "    y1 = r * np.cos(theta)[:, None]\n",
    "    y2 = r * np.sin(theta)[:, None]\n",
    "    y =  np.hstack([y1, y2])  # shape = (m, 2)\n",
    "\n",
    "    # Tile inputs\n",
    "    u = np.tile(u, (P, 1))  # shape = (P, 2m) in this example P = m\n",
    "    s = np.zeros((P, 1))\n",
    "\n",
    "    return u, y, s \n",
    "\n",
    "# Geneate training data corresponding to PDE residual\n",
    "def generate_res_training_data(key, m=100, P=1000):\n",
    "    # Sample a radius from an uniform distribution\n",
    "    r = random.uniform(key)\n",
    "    # Parameterzing the circle with polar coordinates\n",
    "    fn_theta = lambda theta:  np.hstack([r * np.cos(theta), r * np.sin(theta)])\n",
    "    # Discretize the parameter space \n",
    "    theta = np.linspace(0, 2 * np.pi, m)\n",
    "\n",
    "    # Input sample \n",
    "    u =  vmap(fn_theta)(theta).reshape(1, -1)  # shape = (1, 2m)   (x1, y1, x2, y2, ...) \n",
    "    # Collocation points in [-1, 1] x [-1, 1]\n",
    "    y = - 1 + 2 * random.uniform(key, (P,2))\n",
    "    \n",
    "    # Tile inputs\n",
    "    u = np.tile(u, (P,1))  # shape = (P, 2m) \n",
    "    s = np.zeros((P, 1))\n",
    "\n",
    "    return u, y, s \n",
    "\n",
    "# Geneate test data \n",
    "def generate_test_data(key, m=100, P=100):\n",
    "    r = random.uniform(key)\n",
    "\n",
    "    fn_theta = lambda theta:  np.hstack([r * np.cos(theta), r * np.sin(theta)])\n",
    "\n",
    "    theta = np.linspace(0, 2 * np.pi, m)\n",
    "\n",
    "    u =  vmap(fn_theta)(theta).reshape(1, -1)  # shape = (1, 2m)   (x1, y1, x2, y2, ...) \n",
    "\n",
    "    y1 = np.linspace(-1,1, P)\n",
    "    y2 = np.linspace(-1,1, P)\n",
    "\n",
    "    y1, y2 = np.meshgrid(y1, y2)\n",
    "    y = np.hstack((y1.flatten()[:, None], y2.flatten()[:, None]))  # shape = (P, 2)\n",
    "\n",
    "    # Tile inputs\n",
    "    u = np.tile(u, (P**2, 1))  # shape = (P, 2m) in this example P = m\n",
    "\n",
    "    # Exact solution\n",
    "    def signed_dist(y1, y2):\n",
    "      dist = np.sqrt(y1**2 +y2**2) - r\n",
    "      return dist\n",
    "\n",
    "    s = signed_dist(y[:,0:1], y[:,1:2])\n",
    "    return r, u, y, s "
   ],
   "execution_count": 5,
   "outputs": []
  },
  {
   "cell_type": "code",
   "metadata": {
    "id": "ZQ-HVgaQt0DO"
   },
   "source": [
    "\n",
    "# Training data for boundary loss\n",
    "N_train = 1000\n",
    "m = 100 # number of input sensors\n",
    "P_train = 100   # number of output sensors\n",
    "key = random.PRNGKey(0) # use different key for generating test data \n",
    "keys = random.split(key, N_train)\n",
    "gen_fn = jit(lambda key: generate_bcs_training_data(key, m, P_train))\n",
    "u_train, y_train, s_train = vmap(gen_fn)(keys)\n",
    "u_train = u_train.reshape(N_train * P_train,-1)\n",
    "y_train = y_train.reshape(N_train * P_train,-1)\n",
    "s_train = s_train.reshape(N_train * P_train,-1)\n",
    "\n",
    "\n",
    "# # Training data for residual loss\n",
    "m = 100 # number of input sensors\n",
    "P_r_train = 1000   # number of output sensors\n",
    "key = random.PRNGKey(0) # use different key for generating test data \n",
    "keys = random.split(key, N_train)\n",
    "gen_fn = jit(lambda key: generate_res_training_data(key, m, P_r_train))\n",
    "u_r_train, y_r_train, s_r_train = vmap(gen_fn)(keys)\n",
    "u_r_train = u_r_train.reshape(N_train * P_r_train,-1)\n",
    "y_r_train = y_r_train.reshape(N_train * P_r_train,-1)\n",
    "s_r_train = s_r_train.reshape(N_train * P_r_train,-1)"
   ],
   "execution_count": 6,
   "outputs": []
  },
  {
   "cell_type": "code",
   "metadata": {
    "id": "3e0d9ay6he_Q"
   },
   "source": [
    "# Initialize model\n",
    "branch_layers = [2 * m, 50, 50, 50, 50, 50]\n",
    "trunk_layers =  [2, 50, 50, 50, 50, 50, 50]\n",
    "model = PI_DeepONet(branch_layers, trunk_layers)"
   ],
   "execution_count": 7,
   "outputs": []
  },
  {
   "cell_type": "code",
   "metadata": {
    "id": "BmduhGwcHHXs"
   },
   "source": [
    "# Create data set\n",
    "batch_size = 10000\n",
    "bcs_dataset = DataGenerator(u_train, y_train, s_train, batch_size)\n",
    "res_dataset = DataGenerator(u_r_train, y_r_train, s_r_train, batch_size)"
   ],
   "execution_count": 8,
   "outputs": []
  },
  {
   "cell_type": "code",
   "metadata": {
    "colab": {
     "base_uri": "https://localhost:8080/"
    },
    "id": "gW8Ej5Jvhf0r",
    "outputId": "0258e6a5-c51b-45ab-fc61-b6500e2cf41d"
   },
   "source": [
    "# Train\n",
    "model.train(bcs_dataset, res_dataset, nIter=40000)"
   ],
   "execution_count": 9,
   "outputs": [
    {
     "output_type": "stream",
     "name": "stderr",
     "text": [
      "100%|██████████| 40000/40000 [11:05<00:00, 60.09it/s, Loss=0.00013336253, loss_bcs=2.081086e-06, loss_res=0.00013128144]\n"
     ]
    }
   ]
  },
  {
   "cell_type": "code",
   "metadata": {
    "colab": {
     "base_uri": "https://localhost:8080/",
     "height": 369
    },
    "id": "uhMrQopGN__b",
    "outputId": "1cfc864e-190e-421e-b0eb-c2e27433b08a"
   },
   "source": [
    "\n",
    "#Plot for loss function\n",
    "plt.figure(figsize = (6,5))\n",
    "# plt.plot(model.loss_log, lw=2)\n",
    "plt.plot(model.loss_bcs_log, lw=2, label='bcs')\n",
    "plt.plot(model.loss_res_log, lw=2, label='res')\n",
    "\n",
    "plt.xlabel('Iteration')\n",
    "plt.ylabel('Loss')\n",
    "plt.yscale('log')\n",
    "plt.legend()\n",
    "plt.tight_layout()\n",
    "plt.show()\n"
   ],
   "execution_count": 10,
   "outputs": [
    {
     "output_type": "display_data",
     "data": {
      "image/png": "[encoded data removed]",
      "text/plain": [
       "<Figure size 432x360 with 1 Axes>"
      ]
     },
     "metadata": {
      "needs_background": "light"
     }
    }
   ]
  },
  {
   "cell_type": "code",
   "metadata": {
    "colab": {
     "base_uri": "https://localhost:8080/"
    },
    "id": "t0bB2-o9KjV4",
    "outputId": "673d1945-6cb1-49bf-f5a2-dcc898e13de8"
   },
   "source": [
    "# Compute error\n",
    "N_test = 1000\n",
    "error = []\n",
    "P_test=100\n",
    "\n",
    "key_test = random.PRNGKey(12345)  # use different key for generating test data \n",
    "keys_test = random.split(key_test, N_test)\n",
    "\n",
    "params = model.get_params(model.opt_state)\n",
    "\n",
    "for k in range(N_test):\n",
    "  if k % 100 == 0:\n",
    "    print(k)\n",
    "  r_test, u_test, y_test, s_test = generate_test_data(keys_test[k], m, P=100)\n",
    "  u_test = np.float32(u_test.reshape(1 * P_test**2,-1))\n",
    "  y_test = np.float32(y_test.reshape(1 * P_test**2,-1))\n",
    "  s_test = np.float32(s_test.reshape(1 * P_test**2,-1))\n",
    "\n",
    "  s_pred = model.predict_s(params, u_test, y_test)[:,None]\n",
    "  error_s = np.linalg.norm(s_test - s_pred) / np.linalg.norm(s_test) \n",
    "\n",
    "  error.append(error_s)\n"
   ],
   "execution_count": 11,
   "outputs": [
    {
     "output_type": "stream",
     "name": "stdout",
     "text": [
      "0\n",
      "100\n",
      "200\n",
      "300\n",
      "400\n",
      "500\n",
      "600\n",
      "700\n",
      "800\n",
      "900\n"
     ]
    }
   ]
  },
  {
   "cell_type": "code",
   "metadata": {
    "colab": {
     "base_uri": "https://localhost:8080/"
    },
    "id": "mAPsjb5QNlbn",
    "outputId": "2b5a3013-74cb-4165-a700-70e223ed208c"
   },
   "source": [
    "error_s = np.array(error)\n",
    "print('mean of relative L2 error of s: {:.2e}'.format(error_s.mean()))\n",
    "print('std of relative L2 error of s: {:.2e}'.format(error_s.std()))"
   ],
   "execution_count": 12,
   "outputs": [
    {
     "output_type": "stream",
     "name": "stdout",
     "text": [
      "mean of relative L2 error of s: 2.81e-03\n",
      "std of relative L2 error of s: 9.18e-04\n"
     ]
    }
   ]
  },
  {
   "cell_type": "code",
   "metadata": {
    "colab": {
     "base_uri": "https://localhost:8080/",
     "height": 386
    },
    "id": "NicghBbsmLUH",
    "outputId": "3be5f617-c9de-4755-b70d-3fe31739cc80"
   },
   "source": [
    "# Test data\n",
    "N_test = 100\n",
    "m = 100   # number of input sensors (needs to be the same as above!)\n",
    "P_test = 10000   # number of output sensors\n",
    "key = random.PRNGKey(1234567)  # use different key for generating test data \n",
    "keys = random.split(key, N_test)\n",
    "gen_fn = jit(lambda key: generate_test_data(key, m, P=100))\n",
    "r_test, u_test, y_test, s_test = vmap(gen_fn)(keys)\n",
    "\n",
    "u_test = np.float32(u_test.reshape(N_test * P_test,-1))\n",
    "y_test = np.float32(y_test.reshape(N_test * P_test,-1))\n",
    "s_test = np.float32(s_test.reshape(N_test * P_test,-1))\n",
    "\n",
    "s_pred = model.predict_s(params, u_test, y_test)[:,None]\n",
    "\n",
    "# Plot for one generated data\n",
    "idx = 1\n",
    "index = np.arange(idx * P_test,(idx + 1) * P_test)\n",
    "\n",
    "theta = np.linspace(0, 2* np.pi, 100)\n",
    "\n",
    "u1 = r_test[idx] * np.cos(theta)[:, None]\n",
    "u2 = r_test[idx] * np.sin(theta)[:, None]\n",
    "\n",
    "error_s = np.linalg.norm(s_test[index, :] - s_pred[index, :]) / np.linalg.norm(s_test[index, :]) \n",
    "\n",
    "print(\"error_s: {:.3e}\".format(error_s))\n",
    "\n",
    "y1 = np.linspace(-1,1, 100)\n",
    "y2 = np.linspace(-1,1, 100)\n",
    "\n",
    "y1, y2 = np.meshgrid(y1, y2)\n",
    "y_star = np.hstack((y1.flatten()[:, None], y2.flatten()[:, None]))\n",
    "\n",
    "S_star = griddata(y_star, s_test[index, :].flatten(), (y1, y2), method='cubic')\n",
    "S_pred = griddata(y_star, s_pred[index, :].flatten(), (y1, y2), method='cubic')\n",
    "\n",
    "plt.figure(figsize=(18,5))\n",
    "plt.subplot(1,3,1)\n",
    "plt.pcolor(y1, y2, S_star, cmap='bwr')\n",
    "plt.plot(u1, u2, '.', color='black')\n",
    "plt.title('Exact')\n",
    "plt.xlabel('x')\n",
    "plt.ylabel('y')\n",
    "plt.colorbar()\n",
    "plt.tight_layout()\n",
    "\n",
    "plt.subplot(1,3,2)\n",
    "plt.pcolor(y1, y2, S_pred, cmap='bwr')\n",
    "plt.colorbar()\n",
    "plt.xlabel('x')\n",
    "plt.ylabel('y')\n",
    "plt.title('Predict')\n",
    "plt.tight_layout()\n",
    "\n",
    "plt.subplot(1,3,3)\n",
    "plt.pcolor(y1, y2, np.abs(S_pred- S_star), cmap='bwr')\n",
    "plt.colorbar()\n",
    "plt.xlabel('x')\n",
    "plt.ylabel('y')\n",
    "plt.title('Absolute error')\n",
    "plt.tight_layout()\n",
    "plt.show()"
   ],
   "execution_count": 13,
   "outputs": [
    {
     "output_type": "stream",
     "name": "stdout",
     "text": [
      "error_s: 1.932e-03\n"
     ]
    },
    {
     "output_type": "display_data",
     "data": {
      "image/png": "[encoded data removed]",
      "text/plain": [
       "<Figure size 1296x360 with 6 Axes>"
      ]
     },
     "metadata": {
      "needs_background": "light"
     }
    }
   ]
  }
 ]
}
