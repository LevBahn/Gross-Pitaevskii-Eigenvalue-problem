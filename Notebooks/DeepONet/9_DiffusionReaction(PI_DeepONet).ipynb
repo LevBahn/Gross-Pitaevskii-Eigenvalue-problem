{
  "cells": [
    {
      "cell_type": "code",
      "execution_count": 1,
      "metadata": {
        "id": "7JQXTWz35c40"
      },
      "outputs": [],
      "source": [
        "import jax\n",
        "import jax.numpy as np\n",
        "from jax import random, grad, vmap, jit, hessian, lax\n",
        "from jax.example_libraries import optimizers\n",
        "from jax.nn import relu\n",
        "from jax._src import config\n",
        "from jax.numpy import index_exp as index\n",
        "from jax.flatten_util import ravel_pytree\n",
        "import itertools\n",
        "from functools import partial\n",
        "from torch.utils import data\n",
        "from tqdm import trange, tqdm\n",
        "import matplotlib.pyplot as plt\n",
        "\n",
        "from scipy.interpolate import griddata\n",
        "%matplotlib inline"
      ]
    },
    {
      "cell_type": "markdown",
      "metadata": {
        "id": "fDhK-Kr3GyGa"
      },
      "source": [
        "# Auxiliary Functions"
      ]
    },
    {
      "cell_type": "code",
      "execution_count": 2,
      "metadata": {
        "id": "UyghW-A9h4Kz"
      },
      "outputs": [],
      "source": [
        "# Use double precision to generate data (due to GP sampling)\n",
        "#https://github.com/PredictiveIntelligenceLab/Physics-informed-DeepONets/blob/main/Diffusion-reaction/PI_DeepONet_DR.ipynb\n",
        "def RBF(x1, x2, params):\n",
        "    output_scale, lengthscales = params\n",
        "    diffs = np.expand_dims(x1 / lengthscales, 1) - \\\n",
        "            np.expand_dims(x2 / lengthscales, 0)\n",
        "    r2 = np.sum(diffs**2, axis=2)\n",
        "    return output_scale * np.exp(-0.5 * r2)"
      ]
    },
    {
      "cell_type": "code",
      "execution_count": 3,
      "metadata": {
        "id": "HF71T_Koh1G9"
      },
      "outputs": [],
      "source": [
        "# A diffusion-reaction numerical solver\n",
        "#https://github.com/PredictiveIntelligenceLab/Physics-informed-DeepONets/blob/main/Diffusion-reaction/PI_DeepONet_DR.ipynb\n",
        "def solve_ADR(key, Nx, Nt, P, length_scale):\n",
        "    \"\"\"Solve 1D\n",
        "    u_t = (k(x) u_x)_x - v(x) u_x + g(u) + f(x)\n",
        "    with zero initial and boundary conditions.\n",
        "    \"\"\"\n",
        "    xmin, xmax = 0, 1\n",
        "    tmin, tmax = 0, 1\n",
        "    k = lambda x: 0.01*np.ones_like(x)\n",
        "    v = lambda x: np.zeros_like(x)\n",
        "    g = lambda u: 0.01*u ** 2\n",
        "    dg = lambda u: 0.02 * u\n",
        "    u0 = lambda x: np.zeros_like(x)\n",
        "\n",
        "    # Generate subkeys\n",
        "    subkeys = random.split(key, 2)\n",
        "\n",
        "    # Generate a GP sample\n",
        "    N = 512\n",
        "    gp_params = (1.0, length_scale)\n",
        "    jitter = 1e-10\n",
        "    X = np.linspace(xmin, xmax, N)[:,None]\n",
        "    K = RBF(X, X, gp_params)\n",
        "    L = np.linalg.cholesky(K + jitter*np.eye(N))\n",
        "    gp_sample = np.dot(L, random.normal(subkeys[0], (N,)))\n",
        "    # Create a callable interpolation function\n",
        "    f_fn = lambda x: np.interp(x, X.flatten(), gp_sample)\n",
        "\n",
        "    # Create grid\n",
        "    x = np.linspace(xmin, xmax, Nx)\n",
        "    t = np.linspace(tmin, tmax, Nt)\n",
        "    h = x[1] - x[0]\n",
        "    dt = t[1] - t[0]\n",
        "    h2 = h ** 2\n",
        "\n",
        "    # Compute coefficients and forcing\n",
        "    k = k(x)\n",
        "    v = v(x)\n",
        "    f = f_fn(x)\n",
        "\n",
        "    # Compute finite difference operators\n",
        "    D1 = np.eye(Nx, k=1) - np.eye(Nx, k=-1)\n",
        "    D2 = -2 * np.eye(Nx) + np.eye(Nx, k=-1) + np.eye(Nx, k=1)\n",
        "    D3 = np.eye(Nx - 2)\n",
        "    M = -np.diag(D1 @ k) @ D1 - 4 * np.diag(k) @ D2\n",
        "    m_bond = 8 * h2 / dt * D3 + M[1:-1, 1:-1]\n",
        "    v_bond = 2 * h * np.diag(v[1:-1]) @ D1[1:-1, 1:-1] + 2 * h * np.diag(\n",
        "        v[2:] - v[: Nx - 2]\n",
        "    )\n",
        "    mv_bond = m_bond + v_bond\n",
        "    c = 8 * h2 / dt * D3 - M[1:-1, 1:-1] - v_bond\n",
        "\n",
        "    # Initialize solution and apply initial condition\n",
        "    u = np.zeros((Nx, Nt))\n",
        "    u = u.at[:,0].set(u0(x))\n",
        "    #u = index_update(u, index[:,0], u0(x))\n",
        "    # Time-stepping update\n",
        "    def body_fn(i, u):\n",
        "        gi = g(u[1:-1, i])\n",
        "        dgi = dg(u[1:-1, i])\n",
        "        h2dgi = np.diag(4 * h2 * dgi)\n",
        "        A = mv_bond - h2dgi\n",
        "        b1 = 8 * h2 * (0.5 * f[1:-1] + 0.5 * f[1:-1] + gi)\n",
        "        b2 = (c - h2dgi) @ u[1:-1, i].T\n",
        "        u = u.at[1:-1, i + 1].set(np.linalg.solve(A, b1 + b2))\n",
        "        #u = index_update(u, index[1:-1, i + 1], np.linalg.solve(A, b1 + b2))\n",
        "        return u\n",
        "    # Run loop\n",
        "    UU = lax.fori_loop(0, Nt-1, body_fn, u)\n",
        "\n",
        "    # Input sensor locations and measurements\n",
        "    xx = np.linspace(xmin, xmax, m)\n",
        "    u = f_fn(xx)\n",
        "    # Output sensor locations and measurements\n",
        "    idx = random.randint(subkeys[1], (P,2), 0, max(Nx,Nt))\n",
        "    y = np.concatenate([x[idx[:,0]][:,None], t[idx[:,1]][:,None]], axis = 1)\n",
        "    s = UU[idx[:,0], idx[:,1]]\n",
        "    # x, t: sampled points on grid\n",
        "    return (x, t, UU), (u, y, s)"
      ]
    },
    {
      "cell_type": "code",
      "execution_count": 4,
      "metadata": {
        "id": "It-HA0ea2w-f"
      },
      "outputs": [],
      "source": [
        "# Plots\n",
        "def plot(X,T,f):\n",
        "  fig = plt.figure(figsize=(7,5))\n",
        "  plt.pcolor(X,T,f, cmap='rainbow')\n",
        "  plt.colorbar()\n",
        "  plt.xlabel('$x$')\n",
        "  plt.ylabel('$t$')\n",
        "  plt.title('$f(x,t)$')\n",
        "  plt.tight_layout()"
      ]
    },
    {
      "cell_type": "markdown",
      "metadata": {
        "id": "PhPIO4gwxTcb"
      },
      "source": [
        "# **Introduction**\n",
        "\n",
        "## **Functions and Operators:**\n",
        "\n",
        "### **Function:**\n",
        "\n",
        " Maps between vector spaces:\n",
        "\n",
        "*Example:*\n",
        "\n",
        "Let $f_1(x)=sin(x)$; for  $x\\in\\mathbf{R}$\n",
        "\n",
        "$$z=f_1(x)=sin(x)\\in[0:1]$$\n",
        "\n",
        "In other words $f_1$ maps $\\mathbf{R}→[0,1]$\n",
        "\n",
        "### **Operator:**\n",
        "\n",
        " Maps between infinite-dimensional function spaces:\n",
        "$$G(f_1(x))=f_2(x)$$\n",
        "\n",
        "*Example:*\n",
        "\n",
        "Derivative Operator →$\\frac{d}{d x}$\n",
        "\n",
        "It transforms a funcion $f_1$ into a function $f_2$:\n",
        "\n",
        "Let $f_1(x)=sin(x)$\n",
        "\n",
        "Then when we apply our operator:\n",
        "\n",
        "$$f_2=\\frac{df_1(x)}{d x}=\\frac{d}{d x}sin(x)=cos(x)$$\n",
        "\n",
        "\n",
        "### **Parametric PDEs and Operators**\n",
        "\n",
        "Parametric PDEs $\\rightarrow$ Some parameters (e.g., shape, IC/BC, coefficients, etc.) of a given PDE system are allowed to change.\n",
        "\n",
        "Let  $\\mathcal{N}$ be a nonlinear differential operator. Let's consider parametric PDEs of the form:\n",
        "\n",
        "$$\\mathcal{N}(u,s)=0$$\n",
        "\n",
        "where, $u$ is the input function, and $s$ is the unknown PDE's solution (also a function.)\n",
        "\n",
        "Our PDE solution operator would be:\n",
        "\n",
        "$$G(u)=s$$\n",
        "\n",
        "**Note 1:**In other words, we can express the general solution of our PDE as an operator $G$\n",
        "\n",
        "**Note 2:** Remember $s$ is itself a function, so if we evaluate it at any point $y$, the answer would be a real number:\n",
        "\n",
        " $$G(u)(y)=s(y)\\in \\mathbf{R}$$\n",
        "\n",
        " ### **Universal Approximation Theorem for Operator**\n",
        "\n",
        " $\\forall \\epsilon >0$, there are positive integers $n,p,m$, constants $c_i^k,W_{bij}^k,b_{bij}^k,W_{tk},b_{tk}$ such that:\n",
        "\n",
        "$$\\left|G(u)(y)-\\sum_{k=1}^{p}\\sum_{i=1}^{n}c_i^k\\sigma\\left(\\sum_{j=1}^{m}W_{bij}^{k}u(x_j)+b_{bi}^k\\right).\\sigma(W_{tk}.y+b_{tk})\\right|<\\epsilon $$\n",
        "\n",
        " ### **Neural Network**\n",
        "\n",
        "A Neural Network is a function that takes the form: (See:https://book.sciml.ai/notes/03/)\n",
        "\n",
        "$$NN(X)=W_n\\sigma_{n-1}(W_{n-1}\\sigma_{n-2}(...(W_2\\sigma_1(W_1X+b_1)+b_2)+..)+b_{n-1})+b_n$$\n",
        "\n",
        "So we can use 2 NNs to implement the Universal Approximation Theorem for Operator i.e.\n",
        "\n",
        "Branch:\n",
        "\n",
        "$$NN_b(u(\\textbf{x}))=b(u(\\textbf{x}))=\\textbf{c}.\\sigma\\left(W_{b}u(\\textbf{x})+\\textbf{b}_{b}\\right)$$\n",
        "\n",
        "Trunk:\n",
        "\n",
        "\n",
        "$$NN_t(\\textbf{y})=t(\\textbf{y})=\\sigma(W_{t}.\\textbf{y}+\\textbf{b}_{t})$$\n",
        "\n",
        "### **DeepOnet**\n",
        "\n",
        "Learn the solution operators of parametric PDEs → We will try to approximate $G$  (the solution of our PDE operator) by two neural networks:\n",
        "\n",
        "\n",
        "$$G_\\theta(u)(y)=\\sum_{k=1}^q\\underset{Branch}{\\underbrace{b_k\\left(u(x_1),u(x_2),...,u(x_m)\\right)}}.\\underset{Trunk}{\\underbrace{t_k(\\textbf{y})}}$$\n",
        "\n",
        "\n",
        "We want to obtain G, so our goal would be:\n",
        "\n",
        " $$G_\\theta(u)(y)\\approx G(u)(y)$$\n",
        "\n",
        "So we will enforce that condition into a loss function:\n",
        "\n",
        "$$\\mathcal{L}_{Operator}(\\theta)=\\frac{1}{NP}\\sum_{i=1}^N\\sum_{j=1}^P\\left|G_{\\theta}(u^{(i)})y_j^{(i)}-G(u^{(i)})y_j^{(i)}\\right|^2$$\n",
        "\n",
        "\n",
        "$$\\mathcal{L}_{Operator}(\\theta)=\\frac{1}{NP}\\sum_{i=1}^N\\sum_{j=1}^P\\left|\\sum_{k=1}^q{b_k\\left(u(x_1),u(x_2),...,u(x_m)\\right)}.t_k(y_j^{(i)})-G(u^{(i)})y_j^{(i)}\\right|^2$$\n",
        "\n",
        "where:\n",
        "\n",
        "$m:$ Number of points at which we evaluated our input functions.\n",
        "\n",
        "$N:$ Number of input functions.\n",
        "\n",
        "$P:$ Number of points at which we evaluate the output function → output sensors.\n"
      ]
    },
    {
      "cell_type": "markdown",
      "metadata": {
        "id": "uRXrweOQ7JRL"
      },
      "source": [
        "# Physics-informed DeepONets\n",
        "\n",
        "\n",
        "Similar to a PINN, a Physics-informed DeepONets output functions consistent with physical constraints by minimizing the residual of an underlying governing law (i.e., nonlinear differential operator).\n",
        "\n",
        "$$\\mathcal{L}_{Physics}(\\theta)=\\frac{1}{NQm}\\sum_{i=1}^{N}\\sum_{j=1}^{Q}\\sum_{k=1}^{m}\\left|\\mathcal{N}(u^{(i)}(x_k),G_{\\theta}(u^{(i)})(y_j^{(i)})\\right|^2$$\n",
        "\n",
        "where $\\mathcal{N}$ is a nonlinear differential operator, and $\\{y_j\\}_{i=1}^{Q}$ are the collocation points ( we use them to enforce the physical constraint).\n",
        "\n",
        "So the total loss would be:\n",
        "\n",
        "$$\\mathcal{L}(\\theta)=\\mathcal{L}_{Operator}(\\theta)+\\mathcal{L}_{Physics}(\\theta)$$\n",
        "\n",
        "\n",
        "\n",
        "\n",
        "\n"
      ]
    },
    {
      "cell_type": "markdown",
      "metadata": {
        "id": "J-qnbwQ5DTuw"
      },
      "source": [
        "# Problem Setup\n",
        "\n",
        "**Diffusion-reaction system**\n",
        "\n",
        "Implicit operator described by a nonlinear PDE with a source term $u(x)$:\n",
        "\n",
        "$$\\frac{\\partial s}{\\partial t}=D\\frac{\\partial^2 s}{\\partial x^2}+ks^2+u(x)$$\n",
        "\n",
        "$$(x,t)\\in (0,1,]\\times(0,1]$$\n",
        "\n",
        "where, $D=0.01$ is the diffusion coefficient and $k=0.01$ is the reaction rate.\n",
        "\n",
        "**Note:** We will not use any paired input-output data. We only know that  the initial and boundary conditions  are zero.\n",
        "\n",
        "\n",
        "**Training**\n",
        "\n",
        "We will map the source terms $u(x)$ to the PDE solution $s(x,t)$. Hence, we will approximate the implicit solution operator ($G$) with a PI-DeepONet ($G_{\\theta}$).\n",
        "\n",
        "From our PDE, we know that for a given input function $u^{(i)}$:\n",
        "\n",
        "$$u^{(i)}=\\frac{\\partial s^{(i)}}{\\partial t}-D\\frac{\\partial^2 s^{(i)}}{\\partial x^2}-k[s^{(i)}]^2 $$\n",
        "\n",
        "So since ideally $G_{\\theta}(u^{(i)})(x,t)\\approx G(u^{(i)})(x,t)= s^{(i)}(x,t)$ :\n",
        "$$u^{(i)}\\approx \\frac{\\partial G_{\\theta}(u^{(i)})(x,t)}{\\partial t}-D\\frac{\\partial^2 G_{\\theta}(u^{(i)})(x,t)}{\\partial x^2}-k[G_{\\theta}(u^{(i)})(x,t)]^2 $$\n",
        "\n",
        "Lets call:\n",
        "$$R_{\\theta}^{(i)}(x,t)=\\frac{\\partial G_{\\theta}(u^{(i)})(x,t)}{\\partial t}-D\\frac{\\partial^2 G_{\\theta}(u^{(i)})(x,t)}{\\partial x^2}-k[G_{\\theta}(u^{(i)})(x,t)]^2 $$\n",
        "So our $\\mathcal{L}_{Physics}$ will be:\n",
        "\n",
        "\n",
        "$$\\mathcal{L}_{Physics}(\\theta)=\\frac{1}{NQ}\\sum_{i=1}^{N}\\sum_{j=1}^{Q}\\left|R_{\\theta}^{(i)}(x_{r,j}^{(i)},t_{r,j}^{(i)})-u^{(i)}(x_{r,j}^{(i)})\\right|^2$$\n",
        "\n",
        "where $(x_{r,j},t_{r,j})$ are the \"collocation points\" (i.e., where we evaluate our PDE).\n",
        "\n",
        "On the other hand we will enforce our zero initial and boundary conditions with the $\\mathcal{L}_{Operator}(\\theta)$:\n",
        "\n",
        "\n",
        "$$\\mathcal{L}_{Operator}(\\theta)=\\frac{1}{NQ}\\sum_{i=1}^{N}\\sum_{j=1}^{P}\\left|G_{\\theta}(u^{(i)})(x_{u,j}^{(i)},t_{u,j}^{(i)})- G(u^{(i)})(x_{u,j}^{(i)},t_{u,j}^{(i)}))\\right|^2$$\n",
        "\n",
        "where, $(x_{u,j},t_{u,j})$ are points form our initial and boundary conditions. Consequently, since we are working with zero initial and boundary conditions $G(u^{(i)})(x_{u,j}^{(i)},t_{u,j}^{(i)})=0$ and:\n",
        "\n",
        "\n",
        "$$\\mathcal{L}_{Operator}(\\theta)=\\frac{1}{NQ}\\sum_{i=1}^{N}\\sum_{j=1}^{P}\\left|G_{\\theta}(u^{(i)})(x_{u,j}^{(i)},t_{u,j}^{(i)})))\\right|^2$$\n",
        "\n",
        "Finally, the total loss will be:\n",
        "$$\\mathcal{L}(\\theta)=\\mathcal{L}_{operator}(\\theta)+\\mathcal{L}_{Physics}(\\theta)$$\n",
        "\n"
      ]
    },
    {
      "cell_type": "markdown",
      "metadata": {
        "id": "RyGFoStnSGGs"
      },
      "source": [
        "**In summary:**\n",
        "\n",
        "*   Let $y=(x,t)$.\n",
        "*   Also remember that $u$ is only a function of $x$.\n",
        "\n",
        "To train a PI-DeepOnet:\n",
        "\n",
        "1.   Select $N$ source terms (i.e, input functions) →$\\{u^{(i)}(\\textbf{x})\\}_{i=1}^{N}={[u^{(1)}(\\textbf{x}),u^{(2)}(\\textbf{x}),...,u^{(N)}(\\textbf{x})]}$.\n",
        "2.   Evaluate our $N$ functions at $m$ points (i.e., input sensors) →$\\begin{bmatrix}u^{(1)}(x_1)&u^{(1)}(x_2)&...&u^{(1)}(x_m)\\\\\n",
        "u^{(2)}(x_1)&u^{(2)}(x_2)&...&u^{(2)}(x_m)\\\\\n",
        "\\vdots&\\vdots&\\ddots&\\vdots\\\\\n",
        "u^{(N)}(x_1)&u^{(N)}(x_2)&...&u^{(N)}(x_m)\\end{bmatrix}$\n",
        "3.   Send the $m$ outputs of our $N$ functions to our **branch network** → $b_k\\begin{pmatrix}u^{(1)}(x_1)&u^{(1)}(x_2)&...&u^{(1)}(x_m)\\\\\n",
        "u^{(2)}(x_1)&u^{(2)}(x_2)&...&u^{(2)}(x_m)\\\\\n",
        "\\vdots&\\vdots&\\ddots&\\vdots\\\\\n",
        "u^{(N)}(x_1)&u^{(N)}(x_2)&...&u^{(N)}(x_m)\\end{pmatrix}$\n",
        "4.   Select $P$ points (i.e., output sensors) from our boundary and initial conditions → $\\textbf{y}_u=y_{u1},y_{u2},...,y_{uP}$\n",
        "5.  Send our output sensors to our **trunk network**→$t_k(y_{u1},y_{u2},...,y_{uP})$\n",
        "6. Approximate our operator by computing the dot product between the output of our **branch network** and the output of our **trunk network**→ $G_\\theta(u)(\\textbf{y})=\\sum_{k=1}^q\\underset{Branch}{\\underbrace{b_k\\left(u(x_1),u(x_2),...,u(x_m)\\right)}}.\\underset{Trunk}{\\underbrace{t_k(\\textbf{y})}}$\n",
        "7. Ideally $G_\\theta(u)(\\textbf{y}_u)\\approx G(u)(\\textbf{y}_u)=0$, so compute the error → $\\mathcal{L}_{Operator}(\\theta)=\\frac{1}{NP}\\sum_{i=1}^N\\sum_{j=1}^P\\left|G_{\\theta}(u^{(i)})y_{uj}^{(i)}\\right|^2$\n",
        "8. Select $Q$ points (i.e., collocation points) inside our domain → $\\textbf{y}_r=y_{r1},y_{r2},...,y_{rQ}$\n",
        "9. Compute the error related to the underlying governing laws (i.e., PDE)→$\\mathcal{L}_{Physics}(\\theta)=\\frac{1}{NQ}\\sum_{i=1}^{N}\\sum_{j=1}^{Q}\\left|R_{\\theta}^{(i)}(y_{r,j}^{(i)})-u^{(i)}(x_{r,j}^{(i)})\\right|^2$\n",
        "\n",
        "10. Compute the total loss→$\\mathcal{L}(\\theta)=\\mathcal{L}_{operator}(\\theta)+\\mathcal{L}_{Physics}(\\theta)$\n",
        "11. Update our NN parameters (i.e., branch and trunk) to minimize  $\\mathcal{L}(\\theta)$.\n",
        "12. Repeat the process until $G_\\theta(u)(x,t)\\approx G(u)(x,t)$."
      ]
    },
    {
      "cell_type": "markdown",
      "metadata": {
        "id": "FvY9PrxfylwH"
      },
      "source": [
        "# Data Generation"
      ]
    },
    {
      "cell_type": "markdown",
      "metadata": {
        "id": "phC4C1GNDrvA"
      },
      "source": [
        "We will randomly sample 5000 different functions $u$ from a zero-mean Gaussian process with an exponential quadratic kernel with a length scale: $l=0.2$."
      ]
    },
    {
      "cell_type": "code",
      "execution_count": 5,
      "metadata": {
        "id": "R-lQbo2kYcvA"
      },
      "outputs": [],
      "source": [
        "# GRF length scale\n",
        "length_scale = 0.2\n",
        "N = 5000 # number of input samples"
      ]
    },
    {
      "cell_type": "markdown",
      "metadata": {
        "id": "gupNZ3GKDSDu"
      },
      "source": [
        "## Generate a random function"
      ]
    },
    {
      "cell_type": "markdown",
      "metadata": {
        "id": "QRK8Q3jNtewv"
      },
      "source": [
        "\n",
        "Let: $$(x,t)\\in (0,1]\\times(0,1]$$\n",
        "Lets create a random function:\n",
        "$$UU=f(x,t)$$\n",
        "We select $P=300$ points from our BC and IC (i.e., $100/side$)\n",
        "$$y_u=\\{(x_{u1},t_{u2}),(x_{u1},t_{u2}),...,(x_{uQ},t_{uQ})\\}$$\n",
        "We select $Q=100$ collocation points to evaluate our PDE.\n",
        "$$y_r=\\{(x_{r1},t_{r2}),(x_{r1},t_{r2}),...,(x_{rQ},t_{rQ})\\}$$\n"
      ]
    },
    {
      "cell_type": "code",
      "execution_count": 6,
      "metadata": {
        "id": "k1COdMm5uID4"
      },
      "outputs": [],
      "source": [
        "# Resolution of the solution (Grid of 100x100)\n",
        "Nx = 100\n",
        "Nt = 100\n",
        "# Select the number of sensors\n",
        "m = Nx   # number of input sensors\n",
        "P_train = 300 # number of output sensors, 100 for each side\n",
        "Q_train = 100  # number of collocation points for each input sample"
      ]
    },
    {
      "cell_type": "code",
      "execution_count": 7,
      "metadata": {
        "id": "zle1RAx7dFoN"
      },
      "outputs": [],
      "source": [
        "config.update(\"jax_enable_x64\", True)\n",
        "# Numerical solution\n",
        "key = random.PRNGKey(0)\n",
        "(x, t, UU), (u, y, s) = solve_ADR(key, Nx , Nt, P_train, length_scale)"
      ]
    },
    {
      "cell_type": "code",
      "execution_count": 8,
      "metadata": {
        "colab": {
          "base_uri": "https://localhost:8080/",
          "height": 507
        },
        "id": "pxfo2SFadNyK",
        "outputId": "556d86dd-a8a3-4c85-e8c8-d89d57554183"
      },
      "outputs": [
        {
          "output_type": "display_data",
          "data": {
            "text/plain": [
              "<Figure size 700x500 with 2 Axes>"
            ],
            "image/png": "[encoded data removed]"
          },
          "metadata": {}
        }
      ],
      "source": [
        "x = np.linspace(0, 1, Nx)\n",
        "t = np.linspace(0, 1, Nt)\n",
        "XX, TT = np.meshgrid(x, t)\n",
        "plot(XX,TT,UU)"
      ]
    },
    {
      "cell_type": "markdown",
      "metadata": {
        "id": "f6_C-hv7zG5p"
      },
      "source": [
        "### Training Data for one function\n",
        "\n",
        "#### IC/BCC\n",
        "\n",
        "Ideally $G_\\theta(u)(\\textbf{y}_u)\\approx G(u)(\\textbf{y}_u)=0$, so compute the error → $\\mathcal{L}_{Operator}(\\theta)=\\frac{1}{NP}\\sum_{i=1}^N\\sum_{j=1}^P\\left|G_{\\theta}(u^{(i)})y_{uj}^{(i)}\\right|^2$"
      ]
    },
    {
      "cell_type": "code",
      "execution_count": 9,
      "metadata": {
        "id": "ee4RwxTdx8Uw"
      },
      "outputs": [],
      "source": [
        "# Sample points from the boundary and the inital conditions\n",
        "# Geneate subkeys\n",
        "subkeys = random.split(key, 4)\n",
        "# Here we regard the initial condition as a special type of boundary conditions\n",
        "x_bc1 = np.zeros((P_train // 3, 1))\n",
        "x_bc2 = np.ones((P_train // 3, 1))\n",
        "x_bc3 = random.uniform(key = subkeys[0], shape = (P_train // 3, 1))\n",
        "x_bcs = np.vstack((x_bc1, x_bc2, x_bc3))\n",
        "#Time\n",
        "t_bc1 = random.uniform(key = subkeys[1], shape = (P_train//3 * 2, 1)) # 200 points\n",
        "t_bc2 = np.zeros((P_train//3, 1)) # 100 points\n",
        "t_bcs = np.vstack([t_bc1, t_bc2])\n",
        "# Training data for BC and IC\n",
        "u_train = np.tile(u, (P_train,1)) # Add dimentions-> copy u P times\n",
        "y_train = np.hstack([x_bcs, t_bcs]) # stack the\n",
        "s_train = np.zeros((P_train, 1)) # Remember that the initial conditions are 0"
      ]
    },
    {
      "cell_type": "markdown",
      "metadata": {
        "id": "AyUVBQkP6KYN"
      },
      "source": [
        "#### Collocation Points\n",
        "\n",
        "Select $Q$ points (i.e., collocation points) inside our domain → $\\textbf{y}_r=y_{r1},y_{r2},...,y_{rQ}$\n",
        "\n",
        "Compute the error related to the underlying governing laws (i.e., PDE)→$\\mathcal{L}_{Physics}(\\theta)=\\frac{1}{NQ}\\sum_{i=1}^{N}\\sum_{j=1}^{Q}\\left|R_{\\theta}^{(i)}(y_{r,j}^{(i)})-u^{(i)}(x_{r,j}^{(i)})\\right|^2$\n",
        "\n",
        "$$R_{\\theta}^{(i)}(y_{r,j}^{(i)})=\\frac{\\partial G_{\\theta}(u^{(i)})(y_{r,j}^{(i)})}{\\partial t}-D\\frac{\\partial^2 G_{\\theta}(u^{(i)})(y_{r,j}^{(i)})}{\\partial x^2}-k[G_{\\theta}(u^{(i)})(y_{r,j}^{(i)})]^2 $$"
      ]
    },
    {
      "cell_type": "code",
      "execution_count": 10,
      "metadata": {
        "id": "VvPL-CyrzCal"
      },
      "outputs": [],
      "source": [
        "# Sample collocation points\n",
        "x_r_idx= random.choice(subkeys[2], np.arange(Nx), shape = (Q_train,1),replace=False)\n",
        "x_r = x[x_r_idx]\n",
        "t_r = random.uniform(subkeys[3], minval = 0, maxval = 1, shape = (Q_train,1))\n",
        "\n",
        "# Training data for the PDE residual\n",
        "u_r_train = np.tile(u, (Q_train,1))\n",
        "y_r_train = np.hstack([x_r, t_r])\n",
        "f_r_train = u[x_r_idx]"
      ]
    },
    {
      "cell_type": "markdown",
      "metadata": {
        "id": "BS3cApE9674l"
      },
      "source": [
        "## Training Data\n"
      ]
    },
    {
      "cell_type": "markdown",
      "metadata": {
        "id": "ORw11jP8xpgg"
      },
      "source": [
        "\n",
        "\n",
        "We need to generate 5000 functions, so lets create a function to help us with the training and testing data\n"
      ]
    },
    {
      "cell_type": "code",
      "execution_count": 11,
      "metadata": {
        "id": "ffEaJ96I704M"
      },
      "outputs": [],
      "source": [
        "# Geneate training data corresponding to one input sample\n",
        "def generate_one_training_data(key, P, Q):\n",
        "    # Numerical solution\n",
        "    (x, t, UU), (u, y, s) = solve_ADR(key, Nx , Nt, P, length_scale)\n",
        "\n",
        "    # Geneate subkeys\n",
        "    subkeys = random.split(key, 4)\n",
        "\n",
        "    # Sample points from the boundary and the inital conditions\n",
        "    # Here we regard the initial condition as a special type of boundary conditions\n",
        "    x_bc1 = np.zeros((P // 3, 1))\n",
        "    x_bc2 = np.ones((P // 3, 1))\n",
        "    x_bc3 = random.uniform(key = subkeys[0], shape = (P // 3, 1))\n",
        "    x_bcs = np.vstack((x_bc1, x_bc2, x_bc3))\n",
        "\n",
        "    t_bc1 = random.uniform(key = subkeys[1], shape = (P//3 * 2, 1))\n",
        "    t_bc2 = np.zeros((P//3, 1))\n",
        "    t_bcs = np.vstack([t_bc1, t_bc2])\n",
        "\n",
        "    # Training data for BC and IC\n",
        "    u_train = np.tile(u, (P,1))\n",
        "    y_train = np.hstack([x_bcs, t_bcs])\n",
        "    s_train = np.zeros((P, 1))\n",
        "\n",
        "    # Sample collocation points\n",
        "    x_r_idx= random.choice(subkeys[2], np.arange(Nx), shape = (Q,1))\n",
        "    x_r = x[x_r_idx]\n",
        "    t_r = random.uniform(subkeys[3], minval = 0, maxval = 1, shape = (Q,1))\n",
        "\n",
        "    # Training data for the PDE residual\n",
        "    '''For the operator'''\n",
        "    u_r_train = np.tile(u, (Q,1))\n",
        "    y_r_train = np.hstack([x_r, t_r])\n",
        "    '''For the function'''\n",
        "    f_r_train = u[x_r_idx]\n",
        "    return u_train, y_train, s_train, u_r_train, y_r_train, f_r_train"
      ]
    },
    {
      "cell_type": "code",
      "execution_count": 12,
      "metadata": {
        "id": "hHB7XD_NASf9"
      },
      "outputs": [],
      "source": [
        "# GRF length scale\n",
        "length_scale = 0.2\n",
        "\n",
        "# Resolution of the solution\n",
        "Nx = 100\n",
        "Nt = 100\n",
        "\n",
        "N = 5000 # number of input samples\n",
        "m = Nx   # number of input sensors\n",
        "P_train = 300 # number of output sensors, 100 for each side\n",
        "Q_train = 100  # number of collocation points for each input sample"
      ]
    },
    {
      "cell_type": "code",
      "execution_count": 13,
      "metadata": {
        "id": "tPz8y43RAiBt"
      },
      "outputs": [],
      "source": [
        "# Select N keys to create N Functions\n",
        "key = random.PRNGKey(0)\n",
        "keys = random.split(key, N)"
      ]
    },
    {
      "cell_type": "code",
      "execution_count": 14,
      "metadata": {
        "id": "hROe7KViAZ5E"
      },
      "outputs": [],
      "source": [
        "config.update(\"jax_enable_x64\", True)\n",
        "u_train, y_train, s_train, u_r_train, y_r_train, f_r_train = vmap(generate_one_training_data, (0, None, None))(keys, P_train, Q_train)"
      ]
    },
    {
      "cell_type": "code",
      "execution_count": 15,
      "metadata": {
        "id": "EiWKTB66AxPg"
      },
      "outputs": [],
      "source": [
        "# Reshape the data\n",
        "u_bcs_train = np.float32(u_train.reshape(N * P_train,-1))\n",
        "y_bcs_train = np.float32(y_train.reshape(N * P_train,-1))\n",
        "s_bcs_train = np.float32(s_train.reshape(N * P_train,-1))\n",
        "\n",
        "u_res_train = np.float32(u_r_train.reshape(N * Q_train,-1))\n",
        "y_res_train = np.float32(y_r_train.reshape(N * Q_train,-1))\n",
        "f_res_train = np.float32(f_r_train.reshape(N * Q_train,-1))"
      ]
    },
    {
      "cell_type": "markdown",
      "metadata": {
        "id": "6Yv2UV8dGTg0"
      },
      "source": [
        "## Testing Data"
      ]
    },
    {
      "cell_type": "code",
      "execution_count": 16,
      "metadata": {
        "id": "lZ0Pc5m2_xP2"
      },
      "outputs": [],
      "source": [
        "# Geneate test data corresponding to one input sample\n",
        "def generate_one_test_data(key, P):\n",
        "    Nx = P\n",
        "    Nt = P\n",
        "    (x, t, UU), (u, y, s) = solve_ADR(key, Nx , Nt, P, length_scale)\n",
        "\n",
        "    XX, TT = np.meshgrid(x, t)\n",
        "\n",
        "    u_test = np.tile(u, (P**2,1))\n",
        "    y_test = np.hstack([XX.flatten()[:,None], TT.flatten()[:,None]])\n",
        "    s_test = UU.T.flatten()\n",
        "\n",
        "    return u_test, y_test, s_test"
      ]
    },
    {
      "cell_type": "code",
      "execution_count": 17,
      "metadata": {
        "id": "v6Ng55PJGq2F"
      },
      "outputs": [],
      "source": [
        "N_test = 100 # number of input samples\n",
        "key = random.PRNGKey(12345) # it should be different than the key we used for the training data\n",
        "P_test = 100\n",
        "Nx = m\n",
        "keys = random.split(key, N_test)\n",
        "\n",
        "config.update(\"jax_enable_x64\", True)\n",
        "u_test, y_test, s_test = vmap(generate_one_test_data, (0, None))(keys, P_test)\n",
        "\n",
        "#Reshape Data\n",
        "u_test = np.float32(u_test.reshape(N_test * P_test**2,-1))\n",
        "y_test = np.float32(y_test.reshape(N_test * P_test**2,-1))\n",
        "s_test = np.float32(s_test.reshape(N_test * P_test**2,-1))"
      ]
    },
    {
      "cell_type": "code",
      "execution_count": 18,
      "metadata": {
        "id": "QGV6BUeKh_ai"
      },
      "outputs": [],
      "source": [
        "config.update(\"jax_enable_x64\", False)"
      ]
    },
    {
      "cell_type": "code",
      "execution_count": 19,
      "metadata": {
        "id": "Jz0NWj_QMcZe"
      },
      "outputs": [],
      "source": [
        "# Data generator\n",
        "class DataGenerator(data.Dataset):\n",
        "    def __init__(self, u, y, s,\n",
        "                 batch_size=64, rng_key=random.PRNGKey(1234)):\n",
        "        'Initialization'\n",
        "        self.u = u # input sample\n",
        "        self.y = y # location\n",
        "        self.s = s # labeled data evulated at y (solution measurements, BC/IC conditions, etc.)\n",
        "\n",
        "        self.N = u.shape[0]\n",
        "        self.batch_size = batch_size\n",
        "        self.key = rng_key\n",
        "\n",
        "    def __getitem__(self, index):\n",
        "        'Generate one batch of data'\n",
        "        self.key, subkey = random.split(self.key)\n",
        "        inputs, outputs = self.__data_generation(subkey)\n",
        "        return inputs, outputs\n",
        "\n",
        "    @partial(jit, static_argnums=(0,))\n",
        "    def __data_generation(self, key):\n",
        "        'Generates data containing batch_size samples'\n",
        "        idx = random.choice(key, self.N, (self.batch_size,), replace=False)\n",
        "        s = self.s[idx,:]\n",
        "        y = self.y[idx,:]\n",
        "        u = self.u[idx,:]\n",
        "        # Construct batch\n",
        "        inputs = (u, y)\n",
        "        outputs = s\n",
        "        return inputs, outputs"
      ]
    },
    {
      "cell_type": "markdown",
      "metadata": {
        "id": "5kcTUiVJMfhL"
      },
      "source": [
        "#DeepONet"
      ]
    },
    {
      "cell_type": "code",
      "execution_count": 20,
      "metadata": {
        "id": "SiTZDAclMjfX"
      },
      "outputs": [],
      "source": [
        "# Define the neural net\n",
        "def MLP(layers, activation=relu):\n",
        "  ''' Vanilla MLP'''\n",
        "  def init(rng_key):\n",
        "      def init_layer(key, d_in, d_out):\n",
        "          k1, k2 = random.split(key)\n",
        "          glorot_stddev = 1. / np.sqrt((d_in + d_out) / 2.)\n",
        "          W = glorot_stddev * random.normal(k1, (d_in, d_out))\n",
        "          b = np.zeros(d_out)\n",
        "          return W, b\n",
        "      key, *keys = random.split(rng_key, len(layers))\n",
        "      params = list(map(init_layer, keys, layers[:-1], layers[1:]))\n",
        "      return params\n",
        "  def apply(params, inputs):\n",
        "      for W, b in params[:-1]:\n",
        "          outputs = np.dot(inputs, W) + b\n",
        "          inputs = activation(outputs)\n",
        "      W, b = params[-1]\n",
        "      outputs = np.dot(inputs, W) + b\n",
        "      return outputs\n",
        "  return init, apply"
      ]
    },
    {
      "cell_type": "markdown",
      "metadata": {
        "id": "oxp4n-iJ8YG1"
      },
      "source": [
        "**In summary:**\n",
        "\n",
        "*   Let $y=(x,t)$.\n",
        "*   Also remember that $u$ is only a function of $x$.\n",
        "\n",
        "To train a PI-DeepOnet:\n",
        "\n",
        "1.   Select $N$ source terms (i.e, input functions) →$\\{u^{(i)}(\\textbf{x})\\}_{i=1}^{N}={[u^{(1)}(\\textbf{x}),u^{(2)}(\\textbf{x}),...,u^{(N)}(\\textbf{x})]}$.\n",
        "2.   Evaluate our $N$ functions at $m$ points (i.e., input sensors) →$\\begin{bmatrix}u^{(1)}(x_1)&u^{(1)}(x_2)&...&u^{(1)}(x_m)\\\\\n",
        "u^{(2)}(x_1)&u^{(2)}(x_2)&...&u^{(2)}(x_m)\\\\\n",
        "\\vdots&\\vdots&\\ddots&\\vdots\\\\\n",
        "u^{(N)}(x_1)&u^{(N)}(x_2)&...&u^{(N)}(x_m)\\end{bmatrix}$\n",
        "3.   Send the $m$ outputs of our $N$ functions to our **branch network** → $b_k\\begin{pmatrix}u^{(1)}(x_1)&u^{(1)}(x_2)&...&u^{(1)}(x_m)\\\\\n",
        "u^{(2)}(x_1)&u^{(2)}(x_2)&...&u^{(2)}(x_m)\\\\\n",
        "\\vdots&\\vdots&\\ddots&\\vdots\\\\\n",
        "u^{(N)}(x_1)&u^{(N)}(x_2)&...&u^{(N)}(x_m)\\end{pmatrix}$\n",
        "4.   Select $P$ points (i.e., output sensors) from our boundary and initial conditions → $\\textbf{y}_u=y_{u1},y_{u2},...,y_{uP}$\n",
        "5.  Send our output sensors to our **trunk network**→$t_k(y_{u1},y_{u2},...,y_{uP})$\n",
        "6. Approximate our operator by computing the dot product between the output of our **branch network** and the output of our **trunk network**→ $G_\\theta(u)(\\textbf{y})=\\sum_{k=1}^q\\underset{Branch}{\\underbrace{b_k\\left(u(x_1),u(x_2),...,u(x_m)\\right)}}.\\underset{Trunk}{\\underbrace{t_k(\\textbf{y})}}$\n",
        "7. Ideally $G_\\theta(u)(\\textbf{y}_u)\\approx G(u)(\\textbf{y}_u)=0$, so compute the error → $\\mathcal{L}_{Operator}(\\theta)=\\frac{1}{NP}\\sum_{i=1}^N\\sum_{j=1}^P\\left|G_{\\theta}(u^{(i)})y_{uj}^{(i)}\\right|^2$\n",
        "8. Select $Q$ points (i.e., collocation points) inside our domain → $\\textbf{y}_r=y_{r1},y_{r2},...,y_{rQ}$\n",
        "9. Compute the error related to the underlying governing laws (i.e., PDE)→$\\mathcal{L}_{Physics}(\\theta)=\\frac{1}{NQ}\\sum_{i=1}^{N}\\sum_{j=1}^{Q}\\left|R_{\\theta}^{(i)}(y_{r,j}^{(i)})-u^{(i)}(x_{r,j}^{(i)})\\right|^2$\n",
        "\n",
        "10. Compute the total loss→$\\mathcal{L}(\\theta)=\\mathcal{L}_{operator}(\\theta)+\\mathcal{L}_{Physics}(\\theta)$\n",
        "11. Update our NN parameters (i.e., branch and trunk) to minimize  $\\mathcal{L}(\\theta)$.\n",
        "12. Repeat the process until $G_\\theta(u)(x,t)\\approx G(u)(x,t)$.\n",
        "\n",
        "The residual will be:\n",
        "\n",
        "$$R_{\\theta}^{(i)}(y_{r,j}^{(i)})=\\frac{\\partial G_{\\theta}(u^{(i)})(y_{r,j}^{(i)})}{\\partial t}-D\\frac{\\partial^2 G_{\\theta}(u^{(i)})(y_{r,j}^{(i)})}{\\partial x^2}-k[G_{\\theta}(u^{(i)})(y_{r,j}^{(i)})]^2 $$"
      ]
    },
    {
      "cell_type": "code",
      "execution_count": 21,
      "metadata": {
        "id": "AYvrwHItMlXJ"
      },
      "outputs": [],
      "source": [
        "# Define the model\n",
        "class PI_DeepONet:\n",
        "    def __init__(self, branch_layers, trunk_layers):\n",
        "        # Network initialization and evaluation functions\n",
        "        self.branch_init, self.branch_apply = MLP(branch_layers, activation=np.tanh)\n",
        "        self.trunk_init, self.trunk_apply = MLP(trunk_layers, activation=np.tanh)\n",
        "\n",
        "        # Initialize\n",
        "        branch_params = self.branch_init(rng_key = random.PRNGKey(1234))\n",
        "        trunk_params = self.trunk_init(rng_key = random.PRNGKey(4321))\n",
        "        params = (branch_params, trunk_params)\n",
        "\n",
        "        # Use optimizers to set optimizer initialization and update functions\n",
        "        self.opt_init, \\\n",
        "        self.opt_update, \\\n",
        "        self.get_params = optimizers.adam(optimizers.exponential_decay(1e-3,\n",
        "                                                                      decay_steps=2000,\n",
        "                                                                      decay_rate=0.9))\n",
        "        self.opt_state = self.opt_init(params)\n",
        "\n",
        "        # Used to restore the trained model parameters\n",
        "        _, self.unravel_params = ravel_pytree(params)\n",
        "\n",
        "        self.itercount = itertools.count()\n",
        "\n",
        "        # Loggers\n",
        "        self.loss_log = []\n",
        "        self.loss_bcs_log = []\n",
        "        self.loss_res_log = []\n",
        "\n",
        "    # Define DeepONet architecture\n",
        "    def operator_net(self, params, u, x, t):\n",
        "        branch_params, trunk_params = params\n",
        "        y = np.stack([x, t])\n",
        "        B = self.branch_apply(branch_params, u)\n",
        "        T = self.trunk_apply(trunk_params, y)\n",
        "        outputs = np.sum(B * T)\n",
        "        return  outputs\n",
        "\n",
        "    # Define ODE/PDE residual\n",
        "    def residual_net(self, params, u, x, t):\n",
        "        s = self.operator_net(params, u, x, t)\n",
        "        s_t = grad(self.operator_net, argnums=3)(params, u, x, t)\n",
        "        s_x = grad(self.operator_net, argnums=2)(params, u, x, t)\n",
        "        s_xx= grad(grad(self.operator_net, argnums=2), argnums=2)(params, u, x, t)\n",
        "\n",
        "        res = s_t - 0.01 * s_xx - 0.01 * s**2\n",
        "        return res\n",
        "\n",
        "    # Define boundary loss\n",
        "    def loss_bcs(self, params, batch):\n",
        "        inputs, outputs = batch\n",
        "        u, y = inputs\n",
        "\n",
        "        # Compute forward pass\n",
        "        s_pred = vmap(self.operator_net, (None, 0, 0, 0))(params, u, y[:,0], y[:,1])\n",
        "\n",
        "        # Compute loss\n",
        "        loss = np.mean((outputs.flatten() - s_pred)**2)\n",
        "        return loss\n",
        "\n",
        "    # Define residual loss\n",
        "    def loss_res(self, params, batch):\n",
        "        inputs, outputs = batch\n",
        "        u, y = inputs\n",
        "        # Compute forward pass\n",
        "        pred = vmap(self.residual_net, (None, 0, 0, 0))(params, u, y[:,0], y[:,1])\n",
        "\n",
        "        # Compute loss\n",
        "        loss = np.mean((outputs.flatten() - pred)**2)\n",
        "        return loss\n",
        "\n",
        "    # Define total loss\n",
        "    def loss(self, params, bcs_batch, res_batch):\n",
        "        loss_bcs = self.loss_bcs(params, bcs_batch)\n",
        "        loss_res = self.loss_res(params, res_batch)\n",
        "        loss = loss_bcs + loss_res\n",
        "        return loss\n",
        "\n",
        "    # Define a compiled update step\n",
        "    @partial(jit, static_argnums=(0,))\n",
        "    def step(self, i, opt_state, bcs_batch, res_batch):\n",
        "        params = self.get_params(opt_state)\n",
        "        g = grad(self.loss)(params, bcs_batch, res_batch)\n",
        "        return self.opt_update(i, g, opt_state)\n",
        "\n",
        "    # Optimize parameters in a loop\n",
        "    def train(self, bcs_dataset, res_dataset, nIter = 10000):\n",
        "        # Define data iterators\n",
        "        bcs_data = iter(bcs_dataset)\n",
        "        res_data = iter(res_dataset)\n",
        "\n",
        "        pbar = trange(nIter)\n",
        "        # Main training loop\n",
        "        for it in pbar:\n",
        "            # Fetch data\n",
        "            bcs_batch= next(bcs_data)\n",
        "            res_batch = next(res_data)\n",
        "\n",
        "            self.opt_state = self.step(next(self.itercount), self.opt_state, bcs_batch, res_batch)\n",
        "\n",
        "            if it % 100 == 0:\n",
        "                params = self.get_params(self.opt_state)\n",
        "\n",
        "                # Compute losses\n",
        "                loss_value = self.loss(params, bcs_batch, res_batch)\n",
        "                loss_bcs_value = self.loss_bcs(params, bcs_batch)\n",
        "                loss_res_value = self.loss_res(params, res_batch)\n",
        "\n",
        "                # Store losses\n",
        "                self.loss_log.append(loss_value)\n",
        "                self.loss_bcs_log.append(loss_bcs_value)\n",
        "                self.loss_res_log.append(loss_res_value)\n",
        "\n",
        "                # Print losses\n",
        "                pbar.set_postfix({'Loss': loss_value,\n",
        "                                  'loss_bcs' : loss_bcs_value,\n",
        "                                  'loss_physics': loss_res_value})\n",
        "\n",
        "    # Evaluates predictions at test points\n",
        "    @partial(jit, static_argnums=(0,))\n",
        "    def predict_s(self, params, U_star, Y_star):\n",
        "        s_pred = vmap(self.operator_net, (None, 0, 0, 0))(params, U_star, Y_star[:,0], Y_star[:,1])\n",
        "        return s_pred\n",
        "\n",
        "    @partial(jit, static_argnums=(0,))\n",
        "    def predict_res(self, params, U_star, Y_star):\n",
        "        r_pred = vmap(self.residual_net, (None, 0, 0, 0))(params, U_star, Y_star[:,0], Y_star[:,1])\n",
        "        return r_pred"
      ]
    },
    {
      "cell_type": "markdown",
      "metadata": {
        "id": "gPuIzH2_NB5T"
      },
      "source": [
        "## Initialize DeepONet"
      ]
    },
    {
      "cell_type": "code",
      "execution_count": 22,
      "metadata": {
        "id": "jblmIk1kNmzX"
      },
      "outputs": [],
      "source": [
        "# Initialize model\n",
        "branch_layers = [m, 50, 50, 50, 50, 50]\n",
        "trunk_layers =  [2, 50, 50, 50, 50, 50]\n",
        "model = PI_DeepONet(branch_layers, trunk_layers)"
      ]
    },
    {
      "cell_type": "code",
      "execution_count": 23,
      "metadata": {
        "id": "heAqQrjQNSTE"
      },
      "outputs": [],
      "source": [
        "# Create data set\n",
        "batch_size = 10000\n",
        "bcs_dataset = DataGenerator(u_bcs_train, y_bcs_train, s_bcs_train, batch_size)\n",
        "res_dataset = DataGenerator(u_res_train, y_res_train, f_res_train, batch_size)"
      ]
    },
    {
      "cell_type": "markdown",
      "metadata": {
        "id": "xPy_LLl4N7NW"
      },
      "source": [
        "# Train"
      ]
    },
    {
      "cell_type": "code",
      "execution_count": 24,
      "metadata": {
        "colab": {
          "base_uri": "https://localhost:8080/"
        },
        "id": "edzeJzhZN1zB",
        "outputId": "f406f4a0-4aaa-4dc1-8489-759849aad4f4"
      },
      "outputs": [
        {
          "output_type": "stream",
          "name": "stderr",
          "text": [
            "100%|██████████| 40000/40000 [17:20<00:00, 38.44it/s, Loss=0.00012390956, loss_bcs=4.2510284e-05, loss_physics=8.139928e-05]\n"
          ]
        }
      ],
      "source": [
        "# Train\n",
        "model.train(bcs_dataset, res_dataset, nIter=40000)"
      ]
    },
    {
      "cell_type": "markdown",
      "metadata": {
        "id": "mHE436wq13E-"
      },
      "source": [
        "# Evaluate"
      ]
    },
    {
      "cell_type": "markdown",
      "metadata": {
        "id": "9se1Wt2_8OKa"
      },
      "source": [
        "### Results for 100 test functions"
      ]
    },
    {
      "cell_type": "code",
      "execution_count": 25,
      "metadata": {
        "colab": {
          "base_uri": "https://localhost:8080/"
        },
        "id": "db01GMpB32SR",
        "outputId": "b9e96dd7-5ece-4151-9a4d-421eeb7e1a9b"
      },
      "outputs": [
        {
          "output_type": "stream",
          "name": "stdout",
          "text": [
            "0.007162546\n"
          ]
        }
      ],
      "source": [
        "params = model.get_params(model.opt_state)\n",
        "s_pred = model.predict_s(params, u_test, y_test)[:,None]\n",
        "error_s = np.linalg.norm(s_test - s_pred) / np.linalg.norm(s_test)\n",
        "print(error_s)"
      ]
    },
    {
      "cell_type": "markdown",
      "metadata": {
        "id": "Jy0GuJ7h8RUe"
      },
      "source": [
        "### Result for 1 test function"
      ]
    },
    {
      "cell_type": "code",
      "execution_count": 26,
      "metadata": {
        "id": "w-9at0SY2Z27"
      },
      "outputs": [],
      "source": [
        "N_test = 1 # number of input samples\n",
        "key = random.PRNGKey(456)\n",
        "P_test = 100\n",
        "Nx = m\n",
        "keys = random.split(key, N_test)\n",
        "\n",
        "config.update(\"jax_enable_x64\", True)\n",
        "u_test, y_test, s_test = vmap(generate_one_test_data, (0, None))(keys, P_test)\n",
        "\n",
        "#Reshape Data\n",
        "u_test = np.float32(u_test.reshape(N_test * P_test**2,-1))\n",
        "y_test = np.float32(y_test.reshape(N_test * P_test**2,-1))\n",
        "s_test = np.float32(s_test.reshape(N_test * P_test**2,-1))"
      ]
    },
    {
      "cell_type": "code",
      "execution_count": 27,
      "metadata": {
        "id": "qUftmA4i14QC"
      },
      "outputs": [],
      "source": [
        "# Predict\n",
        "params = model.get_params(model.opt_state)\n",
        "s_pred = model.predict_s(params, u_test, y_test)\n"
      ]
    },
    {
      "cell_type": "code",
      "execution_count": 28,
      "metadata": {
        "id": "TlJZflzE1_cM"
      },
      "outputs": [],
      "source": [
        "# Generate an uniform mesh\n",
        "x = np.linspace(0, 1, Nx)\n",
        "t = np.linspace(0, 1, Nt)\n",
        "XX, TT = np.meshgrid(x, t)"
      ]
    },
    {
      "cell_type": "code",
      "execution_count": 29,
      "metadata": {
        "id": "p8F5QSUl2Bhz"
      },
      "outputs": [],
      "source": [
        "# Grid data\n",
        "S_pred = griddata(y_test, s_pred.flatten(), (XX,TT), method='cubic')\n",
        "S_test = griddata(y_test, s_test.flatten(), (XX,TT), method='cubic')"
      ]
    },
    {
      "cell_type": "code",
      "execution_count": 30,
      "metadata": {
        "colab": {
          "base_uri": "https://localhost:8080/",
          "height": 997
        },
        "id": "_RGIIFqW3XDX",
        "outputId": "b4a5e148-8368-4d9e-f964-a961a97ccd80"
      },
      "outputs": [
        {
          "output_type": "display_data",
          "data": {
            "text/plain": [
              "<Figure size 700x500 with 2 Axes>"
            ],
            "image/png": "[encoded data removed]"
          },
          "metadata": {}
        },
        {
          "output_type": "display_data",
          "data": {
            "text/plain": [
              "<Figure size 700x500 with 2 Axes>"
            ],
            "image/png": "[encoded data removed]"
          },
          "metadata": {}
        }
      ],
      "source": [
        "#Real\n",
        "plot(XX,TT, S_test)\n",
        "#Prediction\n",
        "plot(XX,TT, S_pred)"
      ]
    },
    {
      "cell_type": "code",
      "execution_count": 31,
      "metadata": {
        "colab": {
          "base_uri": "https://localhost:8080/"
        },
        "id": "WkDnT1Mj5YWm",
        "outputId": "41a65794-6486-4556-93a1-3c1f2c550eeb"
      },
      "outputs": [
        {
          "output_type": "stream",
          "name": "stdout",
          "text": [
            "0.010874299058834828\n"
          ]
        }
      ],
      "source": [
        "#Compute the Error\n",
        "error_s = np.linalg.norm(S_test - S_pred) / np.linalg.norm(S_test)\n",
        "print(error_s)"
      ]
    },
    {
      "cell_type": "markdown",
      "metadata": {
        "id": "IZgbjRR155tS"
      },
      "source": [
        "# References\n",
        "\n",
        "[1] Lu, L., Jin, P., & Karniadakis, G. E. (2019). Deeponet: Learning nonlinear operators for identifying differential equations based on the universal approximation theorem of operators. arXiv preprint arXiv:1910.03193.\n",
        "\n",
        "[2] Wang, S., Wang, H., & Perdikaris, P. (2021). Learning the solution operator of parametric partial differential equations with physics-informed DeepONets. Science advances, 7(40), eabi8605."
      ]
    }
  ],
  "metadata": {
    "accelerator": "GPU",
    "colab": {
      "provenance": [],
      "gpuType": "T4"
    },
    "kernelspec": {
      "display_name": "Python 3",
      "name": "python3"
    },
    "language_info": {
      "codemirror_mode": {
        "name": "ipython",
        "version": 3
      },
      "file_extension": ".py",
      "mimetype": "text/x-python",
      "name": "python",
      "nbconvert_exporter": "python",
      "pygments_lexer": "ipython3",
      "version": "3.9.0"
    }
  },
  "nbformat": 4,
  "nbformat_minor": 0
}