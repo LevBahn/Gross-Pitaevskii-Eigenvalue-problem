{
  "cells": [
    {
      "cell_type": "markdown",
      "id": "3nYdXyrr-Z7h",
      "metadata": {
        "id": "3nYdXyrr-Z7h"
      },
      "source": [
        "# Import Libraries"
      ]
    },
    {
      "cell_type": "code",
      "execution_count": 1,
      "id": "BMnx60Sj-Z7j",
      "metadata": {
        "id": "BMnx60Sj-Z7j",
        "colab": {
          "base_uri": "https://localhost:8080/"
        },
        "outputId": "ab022951-1703-4142-e449-4c8fd7ce0961"
      },
      "outputs": [
        {
          "output_type": "stream",
          "name": "stdout",
          "text": [
            "cuda\n"
          ]
        }
      ],
      "source": [
        "import torch\n",
        "import torch.nn as nn\n",
        "import torch.optim as optim\n",
        "from torch.autograd import grad\n",
        "import numpy as np\n",
        "import matplotlib.pyplot as plt\n",
        "\n",
        "# Check if GPU is available\n",
        "device = torch.device(\"cuda\" if torch.cuda.is_available() else \"cpu\")\n",
        "\n",
        "print(device)"
      ]
    },
    {
      "cell_type": "markdown",
      "id": "hglIb1ul-Z7n",
      "metadata": {
        "id": "hglIb1ul-Z7n"
      },
      "source": [
        "# Physics Informed Neural Network"
      ]
    },
    {
      "cell_type": "code",
      "execution_count": 2,
      "id": "NFVJh4jB-Z7o",
      "metadata": {
        "id": "NFVJh4jB-Z7o"
      },
      "outputs": [],
      "source": [
        "class BiasLayer(nn.Module):\n",
        "    def __init__(self):\n",
        "        super(BiasLayer, self).__init__()\n",
        "        # Define the bias as a learnable parameter\n",
        "        self.bias = nn.Parameter(torch.zeros(1))\n",
        "\n",
        "    def forward(self, inputs):\n",
        "        return inputs + self.bias\n",
        "\n",
        "class DotProductLayer(nn.Module):\n",
        "    def forward(self, inputs):\n",
        "        branch, trunk = inputs\n",
        "        return torch.sum(branch * trunk, dim=1, keepdim=True)\n",
        "\n",
        "class GrossPitaevskiiPINN(nn.Module):\n",
        "    \"\"\"\n",
        "    Physics-Informed Neural Network (PINN) for solving the 1D Gross-Pitaevskii Equation\n",
        "    with DeepONet architecture.\n",
        "\n",
        "    Parameters\n",
        "    ----------\n",
        "    layers : list of int\n",
        "        Neural network architecture, each entry defines the number of neurons in that layer.\n",
        "    hbar : float, optional\n",
        "        Reduced Planck's constant (default is 1.0).\n",
        "    m : float, optional\n",
        "        Mass of the particle (default is 1.0).\n",
        "    g : float, optional\n",
        "        Interaction strength (default is 100.0).\n",
        "    \"\"\"\n",
        "    def __init__(self, branch_layers, trunk_layers, hbar=1.0, m=1.0, g=100.0):\n",
        "        super().__init__()\n",
        "        self.branch_network = self.build_network(branch_layers)\n",
        "        self.trunk_network = self.build_network(trunk_layers)\n",
        "        self.g = g  # Interaction strength\n",
        "        self.hbar = hbar  # Planck's constant, fixed\n",
        "        self.m = m  # Particle mass, fixed\n",
        "\n",
        "    def build_network(self, layers):\n",
        "        \"\"\"\n",
        "        Build a network with specified layers using Tanh activation.\n",
        "\n",
        "        Parameters\n",
        "        ----------\n",
        "        layers : list\n",
        "            Neural network architecture, each entry defines the number of neurons in each layer.\n",
        "\n",
        "        Returns\n",
        "        -------\n",
        "        nn.Sequential\n",
        "            A PyTorch sequential model for the network.\n",
        "        \"\"\"\n",
        "        network = []\n",
        "        for i in range(len(layers) - 1):\n",
        "            linear = nn.Linear(layers[i], layers[i + 1], bias=True)\n",
        "            nn.init.xavier_uniform_(linear.weight)\n",
        "            nn.init.zeros_(linear.bias)\n",
        "            network.append(linear)\n",
        "            if i < len(layers) - 2:\n",
        "                network.append(nn.Tanh())\n",
        "        return nn.Sequential(*network)\n",
        "\n",
        "    def forward(self, function_input, spatial_input):\n",
        "        \"\"\"\n",
        "        Forward pass through the DeepONet structure.\n",
        "\n",
        "        Parameters\n",
        "        ----------\n",
        "        function_input : torch.Tensor\n",
        "            Input tensor for the branch network (e.g., function coefficients).\n",
        "        spatial_input : torch.Tensor\n",
        "            Input tensor for the trunk network (e.g., spatial or temporal points).\n",
        "\n",
        "        Returns\n",
        "        -------\n",
        "        torch.Tensor\n",
        "            Output tensor representing the predicted solution.\n",
        "        \"\"\"\n",
        "        branch_output = self.branch_network(function_input)\n",
        "        trunk_output = self.trunk_network(spatial_input)\n",
        "        return torch.sum(branch_output * trunk_output, dim=1, keepdim=True)\n",
        "\n",
        "    def compute_potential(self, x, V0=1.0, x0=np.pi / 2, sigma=0.5):\n",
        "        \"\"\"\n",
        "        Compute the Gaussian potential V(x).\n",
        "\n",
        "        Parameters\n",
        "        ----------\n",
        "        inputs : torch.Tensor\n",
        "            Input tensor of spatial coordinates x.\n",
        "        V0 : float, optional\n",
        "            Amplitude of the potential (default is 1.0).\n",
        "        x0 : float, optional\n",
        "            x-coordinate of the Gaussian center (default is pi/2).\n",
        "        sigma : float, optional\n",
        "            Standard deviation of the Gaussian (default is 0.5).\n",
        "\n",
        "        Returns\n",
        "        -------\n",
        "        torch.Tensor\n",
        "            Tensor representing the potential at the input spatial points.\n",
        "        \"\"\"\n",
        "        V = V0 * torch.exp(-((x - x0) ** 2) / (2 * sigma ** 2))\n",
        "        return V\n",
        "\n",
        "    def boundary_loss(self, x_bc, u_bc):\n",
        "        \"\"\"\n",
        "        Compute the boundary loss (MSE) for the boundary conditions.\n",
        "\n",
        "        Parameters\n",
        "        ----------\n",
        "        x_bc : torch.Tensor\n",
        "            Input tensor of boundary spatial points.\n",
        "        u_bc : torch.Tensor\n",
        "            Tensor of boundary values (for Dirichlet conditions).\n",
        "\n",
        "        Returns\n",
        "        -------\n",
        "        torch.Tensor\n",
        "            Mean squared error (MSE) at the boundary points.\n",
        "        \"\"\"\n",
        "        u_pred = self.forward(x_bc)\n",
        "        return torch.mean((u_pred - u_bc) ** 2)\n",
        "\n",
        "    def riesz_loss(self, predictions, x):\n",
        "        \"\"\"\n",
        "        Compute the Riesz energy loss for the Gross-Pitaevskii equation.\n",
        "\n",
        "        Parameters\n",
        "        ----------\n",
        "        predictions : torch.Tensor\n",
        "            Predicted solution from the network.\n",
        "        inputs : torch.Tensor\n",
        "            Input tensor of spatial coordinates.\n",
        "\n",
        "        Returns\n",
        "        -------\n",
        "        torch.Tensor\n",
        "            Riesz energy loss value.\n",
        "        \"\"\"\n",
        "        u = predictions\n",
        "\n",
        "        if not x.requires_grad:\n",
        "            x = x.clone().detach().requires_grad_(True)\n",
        "        u_x = torch.autograd.grad(outputs=predictions, inputs=x,\n",
        "                                  grad_outputs=torch.ones_like(predictions),\n",
        "                                  create_graph=True, retain_graph=True)[0]\n",
        "\n",
        "        laplacian_term = torch.sum(u_x ** 2) # Kinetic term\n",
        "        V = self.compute_potential(x)\n",
        "        potential_term = torch.sum(V * u ** 2) # Potential term\n",
        "        interaction_term = 0.5 * self.g * torch.sum(u ** 4)  # Interaction term\n",
        "\n",
        "        riesz_energy = 0.5 * (laplacian_term + potential_term + interaction_term)\n",
        "        return riesz_energy\n",
        "\n",
        "    def pde_loss(self, x, predictions):\n",
        "        \"\"\"\n",
        "        Compute the PDE loss for the Gross-Pitaevskii equation.\n",
        "\n",
        "        Parameters\n",
        "        ----------\n",
        "        inputs : torch.Tensor\n",
        "            Input tensor of spatial coordinates.\n",
        "        predictions : torch.Tensor\n",
        "            Predicted solution from the network.\n",
        "\n",
        "        Returns\n",
        "        -------\n",
        "        tuple\n",
        "            Tuple containing:\n",
        "                - torch.Tensor: PDE loss value.\n",
        "                - torch.Tensor: PDE residual.\n",
        "                - torch.Tensor: Smallest eigenvalue (lambda).\n",
        "        \"\"\"\n",
        "        u = predictions\n",
        "\n",
        "        # Compute first and second derivatives with respect to x\n",
        "        u_x = grad(u, x, grad_outputs=torch.ones_like(u), create_graph=True)[0]\n",
        "        u_xx = grad(u_x, x, grad_outputs=torch.ones_like(u_x), create_graph=True)[0]\n",
        "\n",
        "        # Compute λ from the energy functional\n",
        "        V = self.compute_potential(x)\n",
        "        lambda_pde = torch.mean(u_x ** 2 + V * u ** 2 + self.g * u ** 4) / torch.mean(u ** 2)\n",
        "\n",
        "        # Residual of the 1D Gross-Pitaevskii equation\n",
        "        pde_residual = -u_xx + V * u + self.g * torch.abs(u ** 2) * u - lambda_pde * u\n",
        "\n",
        "        # Regularization: See https://arxiv.org/abs/2010.05075\n",
        "\n",
        "        # Term 1: L_f = 1 / (f(x, λ))^2, penalizes the network if the PDE residual is close to zero to avoid trivial eigenfunctions\n",
        "        L_f = 1 / (torch.mean(u ** 2) + 1e-2)\n",
        "\n",
        "        # Term 2: L_λ = 1 / λ^2, penalizes small eigenvalues λ, ensuring non-trivial eigenvalues\n",
        "        L_lambda = 1 / (lambda_pde ** 2 + 1e-6)\n",
        "\n",
        "        # Term 3: L_drive = e^(-λ + c), encourages λ to grow, preventing collapse to small values\n",
        "        L_drive = torch.exp(-lambda_pde + 1.0)\n",
        "\n",
        "        # PDE loss (residual plus regularization terms)\n",
        "        pde_loss = torch.mean(pde_residual ** 2) + L_lambda + L_f\n",
        "        return pde_loss, pde_residual, lambda_pde\n",
        "\n",
        "    def total_loss(self, branch_input, trunk_input, boundary_points, boundary_values, eta, B, N):\n",
        "        \"\"\"\n",
        "        Compute the total loss for DeepONet + PINN combining:\n",
        "        - Boundary loss (data consistency),\n",
        "        - Riesz energy loss (physics),\n",
        "        - PDE loss (physics),\n",
        "        - L² norm regularization.\n",
        "\n",
        "        Parameters\n",
        "        ----------\n",
        "        branch_input : torch.Tensor\n",
        "            Input tensor for branch network (e.g., potential V(x)).\n",
        "        trunk_input : torch.Tensor\n",
        "            Input tensor for trunk network (e.g., spatial and temporal coordinates).\n",
        "        boundary_points : torch.Tensor\n",
        "            Tensor of boundary spatial points.\n",
        "        boundary_values : torch.Tensor\n",
        "            Tensor of boundary values (for Dirichlet conditions).\n",
        "        eta : float\n",
        "            Interaction strength.\n",
        "        B : int\n",
        "            Weight for boundary loss.\n",
        "        N : int\n",
        "            Weight for L² norm equals 1.\n",
        "\n",
        "        Returns\n",
        "        -------\n",
        "        total_loss : torch.Tensor\n",
        "            Total loss value.\n",
        "        \"\"\"\n",
        "\n",
        "        # Predict the solution using DeepONet\n",
        "        predicted_solution = self.forward(branch_input, trunk_input)\n",
        "\n",
        "        # Boundary loss: enforce boundary conditions\n",
        "        data_loss = self.boundary_loss(boundary_points, boundary_values, branch_input)\n",
        "\n",
        "        # Riesz energy: incorporate physical constraints\n",
        "        riesz_energy = self.riesz_loss(predicted_solution, trunk_input, eta)\n",
        "\n",
        "        # PDE loss: enforce Gross-Pitaevskii equation\n",
        "        pde_loss, _, _ = self.pde_loss(trunk_input, predicted_solution, eta)\n",
        "\n",
        "        # Regularization: ensure L² norm equals 1\n",
        "        norm_loss = (torch.mean(predicted_solution**2) - 1.0)**2\n",
        "\n",
        "        # Total loss as a weighted sum of all components\n",
        "        total_loss = B * data_loss + riesz_energy + pde_loss + N * norm_loss\n",
        "\n",
        "        return total_loss"
      ]
    },
    {
      "cell_type": "markdown",
      "source": [
        "# Initialize Weights"
      ],
      "metadata": {
        "id": "FzMOyXAj7jey"
      },
      "id": "FzMOyXAj7jey"
    },
    {
      "cell_type": "code",
      "source": [
        "def initialize_weights(m):\n",
        "    \"\"\"\n",
        "    Initialize the weights of the neural network layers using Xavier uniform initialization.\n",
        "\n",
        "    Parameters\n",
        "    ----------\n",
        "    m : torch.nn.Module\n",
        "        A layer of the neural network. If it is a linear layer, its weights and biases are initialized.\n",
        "    \"\"\"\n",
        "    if isinstance(m, nn.Linear):\n",
        "        nn.init.xavier_uniform_(m.weight)\n",
        "        m.bias.data.fill_(0.01)"
      ],
      "metadata": {
        "id": "GyMrRGdE7lB2"
      },
      "id": "GyMrRGdE7lB2",
      "execution_count": 3,
      "outputs": []
    },
    {
      "cell_type": "markdown",
      "source": [
        "# Prepare Training Data"
      ],
      "metadata": {
        "id": "AKKgTNHo24k4"
      },
      "id": "AKKgTNHo24k4"
    },
    {
      "cell_type": "code",
      "source": [
        "def prepare_training_data(N_u, N_f, lb, ub):\n",
        "    \"\"\"\n",
        "    Prepare boundary and collocation points for training.\n",
        "\n",
        "    Parameters\n",
        "    ----------\n",
        "    N_u : int\n",
        "        Number of boundary points.\n",
        "    N_f : int\n",
        "        Number of collocation points.\n",
        "    lb : np.ndarray\n",
        "        Lower bounds of the domain.\n",
        "    ub : np.ndarray\n",
        "        Upper bounds of the domain.\n",
        "\n",
        "    Returns\n",
        "    -------\n",
        "    collocation_points : np.ndarray\n",
        "        Collocation points.\n",
        "    boundary_points : np.ndarray\n",
        "        Boundary points.\n",
        "    boundary_values : np.ndarray\n",
        "        Boundary values.\n",
        "    \"\"\"\n",
        "\n",
        "    # Boundary of interval\n",
        "    boundary_points = np.array([[lb], [ub]])\n",
        "    boundary_values = np.zeros((2, 1))\n",
        "\n",
        "    # Dynamically sample points inside the interval\n",
        "    collocation_points = np.random.rand(N_f, 1) * (ub - lb) + lb\n",
        "\n",
        "    return collocation_points, boundary_points, boundary_values"
      ],
      "metadata": {
        "id": "1kAWdOgL26tv"
      },
      "id": "1kAWdOgL26tv",
      "execution_count": 4,
      "outputs": []
    },
    {
      "cell_type": "markdown",
      "source": [
        "# Prepare Branch Data"
      ],
      "metadata": {
        "id": "gLcLSVsv3uSp"
      },
      "id": "gLcLSVsv3uSp"
    },
    {
      "cell_type": "code",
      "source": [
        "def prepare_branch_data(V=None, num_samples=100, lb=-10.0, ub=10.0):\n",
        "    \"\"\"\n",
        "    Prepare the input data for the branch network in the DeepONet framework.\n",
        "\n",
        "    Parameters\n",
        "    ----------\n",
        "    V : np.ndarray\n",
        "        A function representing the potential V(x) or other parameterized input.\n",
        "    num_samples : int, optional\n",
        "        Number of samples to discretize the potential function (default is 100).\n",
        "    lb : float, optional\n",
        "        Lower bound of the spatial domain (default is -10.0).\n",
        "    ub : float, optional\n",
        "        Upper bound of the spatial domain (default is 10.0).\n",
        "\n",
        "    Returns\n",
        "    -------\n",
        "    torch.Tensor\n",
        "        Tensor of shape `(num_samples, 1)` containing the discretized potential values.\n",
        "    \"\"\"\n",
        "\n",
        "    # Discretize the spatial domain\n",
        "    x = torch.linspace(lb, ub, num_samples).view(-1, 1)\n",
        "\n",
        "    # Compute potential values\n",
        "    V_values = V(x)\n",
        "\n",
        "    # Return the potential values as branch input\n",
        "    return V_values"
      ],
      "metadata": {
        "id": "OGX2p8xc3wVw"
      },
      "id": "OGX2p8xc3wVw",
      "execution_count": 5,
      "outputs": []
    },
    {
      "cell_type": "markdown",
      "source": [
        "# Train Physics-Informed DeepONet"
      ],
      "metadata": {
        "id": "B0dvfxBOmPlR"
      },
      "id": "B0dvfxBOmPlR"
    },
    {
      "cell_type": "code",
      "source": [
        "def train_physics_informed_deeponet(X, N_u=500, N_f=10000, branch_layers=[10, 100, 100, 100], trunk_layers=[1, 100, 100, 100], epochs=1000, eta=1.0, B=2000, N=4000):\n",
        "    \"\"\"\n",
        "    Train the Physics-Informed Neural Network (PINN) combined with DeepONet for the 1D Gross-Pitaevskii equation.\n",
        "\n",
        "    Parameters\n",
        "    ----------\n",
        "    X : np.ndarray\n",
        "        Input data for the neural network.\n",
        "    N_u : int, optional\n",
        "        Number of boundary points (default is 500).\n",
        "    N_f : int, optional\n",
        "        Number of collocation points (interior points) for the physics-based loss (default is 10,000).\n",
        "    branch_layers : list of int, optional\n",
        "        Architecture of the branch network in DeepONet. Each entry specifies the number of neurons.\n",
        "    trunk_layers : list of int, optional\n",
        "        Architecture of the trunk network in DeepONet. Each entry specifies the number of neurons.\n",
        "    epochs : int, optional\n",
        "        Number of training epochs (default is 1000).\n",
        "    eta : float, optional\n",
        "        Interaction strength (default is 1.0).\n",
        "    B : int, optional\n",
        "        Weight for boundary loss (default is 2000).\n",
        "    N : int, optional\n",
        "        Weight for L^2 norm equals 1 (default is 4000).\n",
        "\n",
        "    Returns\n",
        "    -------\n",
        "    GrossPitaevskiiPINN\n",
        "        The trained model.\n",
        "    \"\"\"\n",
        "    # Instantiate the PINN model and initialize its weights\n",
        "    model = GrossPitaevskiiPINN(branch_layers, trunk_layers).to(device)\n",
        "    model.apply(initialize_weights)\n",
        "    optimizer = optim.Adam(model.parameters(), lr=1e-3)\n",
        "\n",
        "    # Prepare training data (collocation and boundary points)\n",
        "    collocation_points, boundary_points, boundary_values = prepare_training_data(N_u, N_f, lb, ub)\n",
        "\n",
        "    # Prepare DeepONet with specific branch inputs\n",
        "    V = model.compute_potential\n",
        "    branch_input = prepare_branch_data(V, num_samples=100, lb=-10.0, ub=10.0)\n",
        "    trunk_input_collocation = collocation_points  # Trunk network input for collocation points\n",
        "    trunk_input_boundary = boundary_points        # Trunk network input for boundary points\n",
        "\n",
        "    # Convert data to PyTorch tensors and move to device\n",
        "    branch_input_tensor = torch.tensor(branch_input, dtype=torch.float32).to(device)\n",
        "    trunk_input_collocation_tensor = torch.tensor(trunk_input_collocation, dtype=torch.float32, requires_grad=True).to(device)\n",
        "    trunk_input_boundary_tensor = torch.tensor(trunk_input_boundary, dtype=torch.float32).to(device)\n",
        "    boundary_values_tensor = torch.tensor(boundary_values, dtype=torch.float32).to(device)\n",
        "\n",
        "    # Training loop\n",
        "    for epoch in range(epochs):\n",
        "        model.train()\n",
        "        optimizer.zero_grad()\n",
        "\n",
        "        # Calculate the total loss\n",
        "        loss = model.total_loss(branch_input_tensor, trunk_input_collocation_tensor,\n",
        "                                trunk_input_boundary_tensor, boundary_values_tensor, eta, B, N)\n",
        "\n",
        "        # Backpropagation and optimization\n",
        "        loss.backward()\n",
        "        optimizer.step()\n",
        "\n",
        "        # Plot every 200 epochs\n",
        "        if epoch % 200 == 0:\n",
        "            print(f'Epoch [{epoch}/{epochs}], Loss: {loss.item():.6f}')\n",
        "            pde_loss, _, lambda_pde = model.pde_loss(trunk_input_collocation_tensor, model.forward(branch_input_tensor, trunk_input_collocation_tensor), eta)\n",
        "            plot_solution_1D(model, X_test, epoch=epoch, lambda_pde=lambda_pde.item())\n",
        "\n",
        "    return model"
      ],
      "metadata": {
        "id": "FXsGZVhYmS1t"
      },
      "id": "FXsGZVhYmS1t",
      "execution_count": 6,
      "outputs": []
    },
    {
      "cell_type": "markdown",
      "source": [
        "# Plot Solution"
      ],
      "metadata": {
        "id": "LrS3t0PRmZbU"
      },
      "id": "LrS3t0PRmZbU"
    },
    {
      "cell_type": "code",
      "source": [
        "def plot_solution_1D(model, X_test, epoch=0, lambda_pde=0):\n",
        "    \"\"\"\n",
        "    Plot the predicted solution of the 1D Gross-Pitaevskii equation.\n",
        "\n",
        "    Parameters\n",
        "    ----------\n",
        "    model : GrossPitaevskiiPINN\n",
        "        The trained PINN model.\n",
        "    X_test : np.ndarray\n",
        "        The test points where the predicted solution is computed.\n",
        "    epoch : int, optional\n",
        "        The current training epoch, used in the plot title (default is 0).\n",
        "    lambda_pde : float, optional\n",
        "        The smallest eigenvalue from the PDE loss, used in the plot title (default is 0).\n",
        "    \"\"\"\n",
        "\n",
        "    # Predict the solution by the trained model\n",
        "    X_test_tensor = torch.tensor(X_test, dtype=torch.float32).to(device)\n",
        "    u_pred = model(X_test_tensor).detach().cpu().numpy()\n",
        "\n",
        "    plt.figure(figsize=(8, 6))\n",
        "    plt.plot(X_test, u_pred / np.max(u_pred), label=f'Epoch: {epoch}, λ: {lambda_pde:.4f}', color='b')\n",
        "    plt.title(f'Predicted Solution of the 1D Gross-Pitaevskii Equation\\nEpoch: {epoch}, λ: {lambda_pde:.4f}')\n",
        "    plt.xlabel('$x$')\n",
        "    plt.ylabel('$u_{pred}$ / max($u_{pred}$)')\n",
        "    plt.grid(True)\n",
        "    plt.legend()\n",
        "    plt.show()"
      ],
      "metadata": {
        "id": "nN2zcRyjmdz8"
      },
      "id": "nN2zcRyjmdz8",
      "execution_count": 7,
      "outputs": []
    },
    {
      "cell_type": "markdown",
      "source": [
        "# Plot Potential 1D"
      ],
      "metadata": {
        "id": "t7r4H0TVkyZb"
      },
      "id": "t7r4H0TVkyZb"
    },
    {
      "cell_type": "code",
      "source": [
        "def plot_potential_1D(X_test, potential):\n",
        "    \"\"\"\n",
        "    Plot the 1D potential function.\n",
        "\n",
        "    Parameters\n",
        "    ----------\n",
        "    X_test : np.ndarray\n",
        "        The test points where the potential is computed.\n",
        "    potential : np.ndarray\n",
        "        The computed potential values at the test points.\n",
        "    \"\"\"\n",
        "    plt.figure(figsize=(6, 5))\n",
        "\n",
        "    # X_test is the x-values (positions) of the 1D potential\n",
        "    plt.plot(X_test, potential, label='Potential $V(x)$', color='green')\n",
        "\n",
        "    plt.title('Potential $V(x)$ in 1D')\n",
        "    plt.xlabel('$x$')\n",
        "    plt.ylabel('$V(x)$')\n",
        "    plt.grid(True)\n",
        "    plt.legend()\n",
        "    plt.show()"
      ],
      "metadata": {
        "id": "__9usRWzk15-"
      },
      "id": "__9usRWzk15-",
      "execution_count": 8,
      "outputs": []
    },
    {
      "cell_type": "markdown",
      "source": [
        "# Visualize Training Data 1D"
      ],
      "metadata": {
        "id": "mS-f4Mkzk4KD"
      },
      "id": "mS-f4Mkzk4KD"
    },
    {
      "cell_type": "code",
      "source": [
        "def visualize_training_data_1D(collocation_points, boundary_points, boundary_values):\n",
        "    \"\"\"\n",
        "    Visualize the boundary points and collocation points in 1D.\n",
        "\n",
        "    Parameters\n",
        "    ----------\n",
        "    collocation_points : np.ndarray\n",
        "        Collocation points to visualize.\n",
        "    boundary_points : np.ndarray\n",
        "        Boundary points to visualize.\n",
        "    boundary_values : np.ndarray\n",
        "        Corresponding boundary condition values.\n",
        "    \"\"\"\n",
        "    plt.figure(figsize=(8, 5))\n",
        "\n",
        "    # Plot boundary points\n",
        "    plt.scatter(boundary_points, boundary_values, color='red', label='Boundary Points', alpha=0.6)\n",
        "\n",
        "    # Plot collocation points\n",
        "    plt.scatter(collocation_points, np.zeros_like(collocation_points), color='blue', label='Collocation Points', alpha=0.3)\n",
        "\n",
        "    plt.title('Boundary and Collocation Points in 1D')\n",
        "    plt.xlabel('$x$')\n",
        "    plt.ylabel('$u(x)$')\n",
        "    plt.grid(True)\n",
        "    plt.legend()\n",
        "    plt.show()"
      ],
      "metadata": {
        "id": "7XcQoQhFk78S"
      },
      "id": "7XcQoQhFk78S",
      "execution_count": 9,
      "outputs": []
    },
    {
      "cell_type": "markdown",
      "id": "7RmggB2e-Z7r",
      "metadata": {
        "id": "7RmggB2e-Z7r"
      },
      "source": [
        "# Main"
      ]
    },
    {
      "cell_type": "code",
      "source": [
        "N_u = 2 # Number of boundary points (only needs to be 2 in this example)\n",
        "N_f = 1000 # Number of collocation points\n",
        "branch_layers = [10, 100, 100, 100]\n",
        "trunk_layers = [1, 100, 100, 100]\n",
        "epochs = 4001\n",
        "\n",
        "# Instantiate the PINN model and initialize its weights\n",
        "model = GrossPitaevskiiPINN(branch_layers, trunk_layers).to(device)\n",
        "model.apply(initialize_weights)\n",
        "optimizer = optim.Adam(model.parameters(), lr=1e-4)\n",
        "scheduler = optim.lr_scheduler.ReduceLROnPlateau(optimizer, patience=50, factor=0.5, verbose=True)\n",
        "\n",
        "# Generate grid\n",
        "lb = -10\n",
        "ub = 10\n",
        "X = np.linspace(lb, ub, N_f).reshape(-1, 1)\n",
        "\n",
        "# Prepare training data (collocation and boundary points)\n",
        "collocation_points, boundary_points, boundary_values = prepare_training_data(N_u, N_f, lb, ub)\n",
        "\n",
        "# Visualize training data\n",
        "visualize_training_data_1D(collocation_points, boundary_points, boundary_values)"
      ],
      "metadata": {
        "colab": {
          "base_uri": "https://localhost:8080/",
          "height": 523
        },
        "id": "js3eLQbPlIgm",
        "outputId": "6cd732b7-1758-47e2-c275-924d9525ef87"
      },
      "id": "js3eLQbPlIgm",
      "execution_count": 10,
      "outputs": [
        {
          "output_type": "stream",
          "name": "stderr",
          "text": [
            "/usr/local/lib/python3.10/dist-packages/torch/optim/lr_scheduler.py:62: UserWarning: The verbose parameter is deprecated. Please use get_last_lr() to access the learning rate.\n",
            "  warnings.warn(\n"
          ]
        },
        {
          "output_type": "display_data",
          "data": {
            "text/plain": [
              "<Figure size 800x500 with 1 Axes>"
            ],
            "image/png": "[encoded data removed]"
          },
          "metadata": {}
        }
      ]
    },
    {
      "cell_type": "code",
      "source": [
        "# Visualize the potential\n",
        "X_test = np.linspace(lb, ub, N_f).reshape(-1, 1)  # Test points along the 1D interval\n",
        "potential = model.compute_potential(torch.tensor(X_test, dtype=torch.float32).to(device)).detach().cpu().numpy()\n",
        "plot_potential_1D(X_test, potential)"
      ],
      "metadata": {
        "colab": {
          "base_uri": "https://localhost:8080/",
          "height": 489
        },
        "id": "-KPlex9NnAqS",
        "outputId": "71132d80-c76a-4b21-eb02-1868dd1e2b28"
      },
      "id": "-KPlex9NnAqS",
      "execution_count": 11,
      "outputs": [
        {
          "output_type": "display_data",
          "data": {
            "text/plain": [
              "<Figure size 600x500 with 1 Axes>"
            ],
            "image/png": "[encoded data removed]"
          },
          "metadata": {}
        }
      ]
    },
    {
      "cell_type": "code",
      "source": [
        "# Train the PINN\n",
        "\n",
        "etas = [1, 10, 100, 1000]\n",
        "Bs = [20000, 20000, 20000, 20000]\n",
        "Ns = [10000, 10000, 10000, 10000]\n",
        "models = [GrossPitaevskiiPINN(branch_layers, trunk_layers).to(device) for _ in range(4)]\n",
        "epochs_list = [8001, 8001, 8001, 8001]\n",
        "x_train = torch.rand(N_f, 1).to(device)\n",
        "\n",
        "for model, eta, B, N, epochs in zip(models, etas, Bs, Ns, epochs_list):\n",
        "  model, X_f_train_tensor, X_u_train_tensor, u_train_tensor = train_physics_informed_deeponet(X, N_u=N_u, N_f=N_f, branch_layers=branch_layers, trunk_layers=trunk_layers, epochs=epochs, eta=eta, B=B, N=N)"
      ],
      "metadata": {
        "colab": {
          "base_uri": "https://localhost:8080/",
          "height": 385
        },
        "id": "CsqpGqgNm-xf",
        "outputId": "b1d2cf8a-ffd8-4958-ef06-91ef16a0f856"
      },
      "id": "CsqpGqgNm-xf",
      "execution_count": 12,
      "outputs": [
        {
          "output_type": "stream",
          "name": "stderr",
          "text": [
            "<ipython-input-6-100d5e06809d>:46: UserWarning: To copy construct from a tensor, it is recommended to use sourceTensor.clone().detach() or sourceTensor.clone().detach().requires_grad_(True), rather than torch.tensor(sourceTensor).\n",
            "  branch_input_tensor = torch.tensor(branch_input, dtype=torch.float32).to(device)\n"
          ]
        },
        {
          "output_type": "error",
          "ename": "RuntimeError",
          "evalue": "mat1 and mat2 shapes cannot be multiplied (100x1 and 10x100)",
          "traceback": [
            "\u001b[0;31m---------------------------------------------------------------------------\u001b[0m",
            "\u001b[0;31mRuntimeError\u001b[0m                              Traceback (most recent call last)",
            "\u001b[0;32m<ipython-input-12-9be8797a87a6>\u001b[0m in \u001b[0;36m<cell line: 10>\u001b[0;34m()\u001b[0m\n\u001b[1;32m      9\u001b[0m \u001b[0;34m\u001b[0m\u001b[0m\n\u001b[1;32m     10\u001b[0m \u001b[0;32mfor\u001b[0m \u001b[0mmodel\u001b[0m\u001b[0;34m,\u001b[0m \u001b[0meta\u001b[0m\u001b[0;34m,\u001b[0m \u001b[0mB\u001b[0m\u001b[0;34m,\u001b[0m \u001b[0mN\u001b[0m\u001b[0;34m,\u001b[0m \u001b[0mepochs\u001b[0m \u001b[0;32min\u001b[0m \u001b[0mzip\u001b[0m\u001b[0;34m(\u001b[0m\u001b[0mmodels\u001b[0m\u001b[0;34m,\u001b[0m \u001b[0metas\u001b[0m\u001b[0;34m,\u001b[0m \u001b[0mBs\u001b[0m\u001b[0;34m,\u001b[0m \u001b[0mNs\u001b[0m\u001b[0;34m,\u001b[0m \u001b[0mepochs_list\u001b[0m\u001b[0;34m)\u001b[0m\u001b[0;34m:\u001b[0m\u001b[0;34m\u001b[0m\u001b[0;34m\u001b[0m\u001b[0m\n\u001b[0;32m---> 11\u001b[0;31m   \u001b[0mmodel\u001b[0m\u001b[0;34m,\u001b[0m \u001b[0mX_f_train_tensor\u001b[0m\u001b[0;34m,\u001b[0m \u001b[0mX_u_train_tensor\u001b[0m\u001b[0;34m,\u001b[0m \u001b[0mu_train_tensor\u001b[0m \u001b[0;34m=\u001b[0m \u001b[0mtrain_physics_informed_deeponet\u001b[0m\u001b[0;34m(\u001b[0m\u001b[0mX\u001b[0m\u001b[0;34m,\u001b[0m \u001b[0mN_u\u001b[0m\u001b[0;34m=\u001b[0m\u001b[0mN_u\u001b[0m\u001b[0;34m,\u001b[0m \u001b[0mN_f\u001b[0m\u001b[0;34m=\u001b[0m\u001b[0mN_f\u001b[0m\u001b[0;34m,\u001b[0m \u001b[0mbranch_layers\u001b[0m\u001b[0;34m=\u001b[0m\u001b[0mbranch_layers\u001b[0m\u001b[0;34m,\u001b[0m \u001b[0mtrunk_layers\u001b[0m\u001b[0;34m=\u001b[0m\u001b[0mtrunk_layers\u001b[0m\u001b[0;34m,\u001b[0m \u001b[0mepochs\u001b[0m\u001b[0;34m=\u001b[0m\u001b[0mepochs\u001b[0m\u001b[0;34m,\u001b[0m \u001b[0meta\u001b[0m\u001b[0;34m=\u001b[0m\u001b[0meta\u001b[0m\u001b[0;34m,\u001b[0m \u001b[0mB\u001b[0m\u001b[0;34m=\u001b[0m\u001b[0mB\u001b[0m\u001b[0;34m,\u001b[0m \u001b[0mN\u001b[0m\u001b[0;34m=\u001b[0m\u001b[0mN\u001b[0m\u001b[0;34m)\u001b[0m\u001b[0;34m\u001b[0m\u001b[0;34m\u001b[0m\u001b[0m\n\u001b[0m",
            "\u001b[0;32m<ipython-input-6-100d5e06809d>\u001b[0m in \u001b[0;36mtrain_physics_informed_deeponet\u001b[0;34m(X, N_u, N_f, branch_layers, trunk_layers, epochs, eta, B, N)\u001b[0m\n\u001b[1;32m     55\u001b[0m \u001b[0;34m\u001b[0m\u001b[0m\n\u001b[1;32m     56\u001b[0m         \u001b[0;31m# Calculate the total loss\u001b[0m\u001b[0;34m\u001b[0m\u001b[0;34m\u001b[0m\u001b[0m\n\u001b[0;32m---> 57\u001b[0;31m         loss = model.total_loss(branch_input_tensor, trunk_input_collocation_tensor,\n\u001b[0m\u001b[1;32m     58\u001b[0m                                 trunk_input_boundary_tensor, boundary_values_tensor, eta, B, N)\n\u001b[1;32m     59\u001b[0m \u001b[0;34m\u001b[0m\u001b[0m\n",
            "\u001b[0;32m<ipython-input-2-7b6b15a82474>\u001b[0m in \u001b[0;36mtotal_loss\u001b[0;34m(self, branch_input, trunk_input, boundary_points, boundary_values, eta, B, N)\u001b[0m\n\u001b[1;32m    234\u001b[0m \u001b[0;34m\u001b[0m\u001b[0m\n\u001b[1;32m    235\u001b[0m         \u001b[0;31m# Predict the solution using DeepONet\u001b[0m\u001b[0;34m\u001b[0m\u001b[0;34m\u001b[0m\u001b[0m\n\u001b[0;32m--> 236\u001b[0;31m         \u001b[0mpredicted_solution\u001b[0m \u001b[0;34m=\u001b[0m \u001b[0mself\u001b[0m\u001b[0;34m.\u001b[0m\u001b[0mforward\u001b[0m\u001b[0;34m(\u001b[0m\u001b[0mbranch_input\u001b[0m\u001b[0;34m,\u001b[0m \u001b[0mtrunk_input\u001b[0m\u001b[0;34m)\u001b[0m\u001b[0;34m\u001b[0m\u001b[0;34m\u001b[0m\u001b[0m\n\u001b[0m\u001b[1;32m    237\u001b[0m \u001b[0;34m\u001b[0m\u001b[0m\n\u001b[1;32m    238\u001b[0m         \u001b[0;31m# Boundary loss: enforce boundary conditions\u001b[0m\u001b[0;34m\u001b[0m\u001b[0;34m\u001b[0m\u001b[0m\n",
            "\u001b[0;32m<ipython-input-2-7b6b15a82474>\u001b[0m in \u001b[0;36mforward\u001b[0;34m(self, function_input, spatial_input)\u001b[0m\n\u001b[1;32m     77\u001b[0m             \u001b[0mOutput\u001b[0m \u001b[0mtensor\u001b[0m \u001b[0mrepresenting\u001b[0m \u001b[0mthe\u001b[0m \u001b[0mpredicted\u001b[0m \u001b[0msolution\u001b[0m\u001b[0;34m.\u001b[0m\u001b[0;34m\u001b[0m\u001b[0;34m\u001b[0m\u001b[0m\n\u001b[1;32m     78\u001b[0m         \"\"\"\n\u001b[0;32m---> 79\u001b[0;31m         \u001b[0mbranch_output\u001b[0m \u001b[0;34m=\u001b[0m \u001b[0mself\u001b[0m\u001b[0;34m.\u001b[0m\u001b[0mbranch_network\u001b[0m\u001b[0;34m(\u001b[0m\u001b[0mfunction_input\u001b[0m\u001b[0;34m)\u001b[0m\u001b[0;34m\u001b[0m\u001b[0;34m\u001b[0m\u001b[0m\n\u001b[0m\u001b[1;32m     80\u001b[0m         \u001b[0mtrunk_output\u001b[0m \u001b[0;34m=\u001b[0m \u001b[0mself\u001b[0m\u001b[0;34m.\u001b[0m\u001b[0mtrunk_network\u001b[0m\u001b[0;34m(\u001b[0m\u001b[0mspatial_input\u001b[0m\u001b[0;34m)\u001b[0m\u001b[0;34m\u001b[0m\u001b[0;34m\u001b[0m\u001b[0m\n\u001b[1;32m     81\u001b[0m         \u001b[0;32mreturn\u001b[0m \u001b[0mtorch\u001b[0m\u001b[0;34m.\u001b[0m\u001b[0msum\u001b[0m\u001b[0;34m(\u001b[0m\u001b[0mbranch_output\u001b[0m \u001b[0;34m*\u001b[0m \u001b[0mtrunk_output\u001b[0m\u001b[0;34m,\u001b[0m \u001b[0mdim\u001b[0m\u001b[0;34m=\u001b[0m\u001b[0;36m1\u001b[0m\u001b[0;34m,\u001b[0m \u001b[0mkeepdim\u001b[0m\u001b[0;34m=\u001b[0m\u001b[0;32mTrue\u001b[0m\u001b[0;34m)\u001b[0m\u001b[0;34m\u001b[0m\u001b[0;34m\u001b[0m\u001b[0m\n",
            "\u001b[0;32m/usr/local/lib/python3.10/dist-packages/torch/nn/modules/module.py\u001b[0m in \u001b[0;36m_wrapped_call_impl\u001b[0;34m(self, *args, **kwargs)\u001b[0m\n\u001b[1;32m   1734\u001b[0m             \u001b[0;32mreturn\u001b[0m \u001b[0mself\u001b[0m\u001b[0;34m.\u001b[0m\u001b[0m_compiled_call_impl\u001b[0m\u001b[0;34m(\u001b[0m\u001b[0;34m*\u001b[0m\u001b[0margs\u001b[0m\u001b[0;34m,\u001b[0m \u001b[0;34m**\u001b[0m\u001b[0mkwargs\u001b[0m\u001b[0;34m)\u001b[0m  \u001b[0;31m# type: ignore[misc]\u001b[0m\u001b[0;34m\u001b[0m\u001b[0;34m\u001b[0m\u001b[0m\n\u001b[1;32m   1735\u001b[0m         \u001b[0;32melse\u001b[0m\u001b[0;34m:\u001b[0m\u001b[0;34m\u001b[0m\u001b[0;34m\u001b[0m\u001b[0m\n\u001b[0;32m-> 1736\u001b[0;31m             \u001b[0;32mreturn\u001b[0m \u001b[0mself\u001b[0m\u001b[0;34m.\u001b[0m\u001b[0m_call_impl\u001b[0m\u001b[0;34m(\u001b[0m\u001b[0;34m*\u001b[0m\u001b[0margs\u001b[0m\u001b[0;34m,\u001b[0m \u001b[0;34m**\u001b[0m\u001b[0mkwargs\u001b[0m\u001b[0;34m)\u001b[0m\u001b[0;34m\u001b[0m\u001b[0;34m\u001b[0m\u001b[0m\n\u001b[0m\u001b[1;32m   1737\u001b[0m \u001b[0;34m\u001b[0m\u001b[0m\n\u001b[1;32m   1738\u001b[0m     \u001b[0;31m# torchrec tests the code consistency with the following code\u001b[0m\u001b[0;34m\u001b[0m\u001b[0;34m\u001b[0m\u001b[0m\n",
            "\u001b[0;32m/usr/local/lib/python3.10/dist-packages/torch/nn/modules/module.py\u001b[0m in \u001b[0;36m_call_impl\u001b[0;34m(self, *args, **kwargs)\u001b[0m\n\u001b[1;32m   1745\u001b[0m                 \u001b[0;32mor\u001b[0m \u001b[0m_global_backward_pre_hooks\u001b[0m \u001b[0;32mor\u001b[0m \u001b[0m_global_backward_hooks\u001b[0m\u001b[0;34m\u001b[0m\u001b[0;34m\u001b[0m\u001b[0m\n\u001b[1;32m   1746\u001b[0m                 or _global_forward_hooks or _global_forward_pre_hooks):\n\u001b[0;32m-> 1747\u001b[0;31m             \u001b[0;32mreturn\u001b[0m \u001b[0mforward_call\u001b[0m\u001b[0;34m(\u001b[0m\u001b[0;34m*\u001b[0m\u001b[0margs\u001b[0m\u001b[0;34m,\u001b[0m \u001b[0;34m**\u001b[0m\u001b[0mkwargs\u001b[0m\u001b[0;34m)\u001b[0m\u001b[0;34m\u001b[0m\u001b[0;34m\u001b[0m\u001b[0m\n\u001b[0m\u001b[1;32m   1748\u001b[0m \u001b[0;34m\u001b[0m\u001b[0m\n\u001b[1;32m   1749\u001b[0m         \u001b[0mresult\u001b[0m \u001b[0;34m=\u001b[0m \u001b[0;32mNone\u001b[0m\u001b[0;34m\u001b[0m\u001b[0;34m\u001b[0m\u001b[0m\n",
            "\u001b[0;32m/usr/local/lib/python3.10/dist-packages/torch/nn/modules/container.py\u001b[0m in \u001b[0;36mforward\u001b[0;34m(self, input)\u001b[0m\n\u001b[1;32m    248\u001b[0m     \u001b[0;32mdef\u001b[0m \u001b[0mforward\u001b[0m\u001b[0;34m(\u001b[0m\u001b[0mself\u001b[0m\u001b[0;34m,\u001b[0m \u001b[0minput\u001b[0m\u001b[0;34m)\u001b[0m\u001b[0;34m:\u001b[0m\u001b[0;34m\u001b[0m\u001b[0;34m\u001b[0m\u001b[0m\n\u001b[1;32m    249\u001b[0m         \u001b[0;32mfor\u001b[0m \u001b[0mmodule\u001b[0m \u001b[0;32min\u001b[0m \u001b[0mself\u001b[0m\u001b[0;34m:\u001b[0m\u001b[0;34m\u001b[0m\u001b[0;34m\u001b[0m\u001b[0m\n\u001b[0;32m--> 250\u001b[0;31m             \u001b[0minput\u001b[0m \u001b[0;34m=\u001b[0m \u001b[0mmodule\u001b[0m\u001b[0;34m(\u001b[0m\u001b[0minput\u001b[0m\u001b[0;34m)\u001b[0m\u001b[0;34m\u001b[0m\u001b[0;34m\u001b[0m\u001b[0m\n\u001b[0m\u001b[1;32m    251\u001b[0m         \u001b[0;32mreturn\u001b[0m \u001b[0minput\u001b[0m\u001b[0;34m\u001b[0m\u001b[0;34m\u001b[0m\u001b[0m\n\u001b[1;32m    252\u001b[0m \u001b[0;34m\u001b[0m\u001b[0m\n",
            "\u001b[0;32m/usr/local/lib/python3.10/dist-packages/torch/nn/modules/module.py\u001b[0m in \u001b[0;36m_wrapped_call_impl\u001b[0;34m(self, *args, **kwargs)\u001b[0m\n\u001b[1;32m   1734\u001b[0m             \u001b[0;32mreturn\u001b[0m \u001b[0mself\u001b[0m\u001b[0;34m.\u001b[0m\u001b[0m_compiled_call_impl\u001b[0m\u001b[0;34m(\u001b[0m\u001b[0;34m*\u001b[0m\u001b[0margs\u001b[0m\u001b[0;34m,\u001b[0m \u001b[0;34m**\u001b[0m\u001b[0mkwargs\u001b[0m\u001b[0;34m)\u001b[0m  \u001b[0;31m# type: ignore[misc]\u001b[0m\u001b[0;34m\u001b[0m\u001b[0;34m\u001b[0m\u001b[0m\n\u001b[1;32m   1735\u001b[0m         \u001b[0;32melse\u001b[0m\u001b[0;34m:\u001b[0m\u001b[0;34m\u001b[0m\u001b[0;34m\u001b[0m\u001b[0m\n\u001b[0;32m-> 1736\u001b[0;31m             \u001b[0;32mreturn\u001b[0m \u001b[0mself\u001b[0m\u001b[0;34m.\u001b[0m\u001b[0m_call_impl\u001b[0m\u001b[0;34m(\u001b[0m\u001b[0;34m*\u001b[0m\u001b[0margs\u001b[0m\u001b[0;34m,\u001b[0m \u001b[0;34m**\u001b[0m\u001b[0mkwargs\u001b[0m\u001b[0;34m)\u001b[0m\u001b[0;34m\u001b[0m\u001b[0;34m\u001b[0m\u001b[0m\n\u001b[0m\u001b[1;32m   1737\u001b[0m \u001b[0;34m\u001b[0m\u001b[0m\n\u001b[1;32m   1738\u001b[0m     \u001b[0;31m# torchrec tests the code consistency with the following code\u001b[0m\u001b[0;34m\u001b[0m\u001b[0;34m\u001b[0m\u001b[0m\n",
            "\u001b[0;32m/usr/local/lib/python3.10/dist-packages/torch/nn/modules/module.py\u001b[0m in \u001b[0;36m_call_impl\u001b[0;34m(self, *args, **kwargs)\u001b[0m\n\u001b[1;32m   1745\u001b[0m                 \u001b[0;32mor\u001b[0m \u001b[0m_global_backward_pre_hooks\u001b[0m \u001b[0;32mor\u001b[0m \u001b[0m_global_backward_hooks\u001b[0m\u001b[0;34m\u001b[0m\u001b[0;34m\u001b[0m\u001b[0m\n\u001b[1;32m   1746\u001b[0m                 or _global_forward_hooks or _global_forward_pre_hooks):\n\u001b[0;32m-> 1747\u001b[0;31m             \u001b[0;32mreturn\u001b[0m \u001b[0mforward_call\u001b[0m\u001b[0;34m(\u001b[0m\u001b[0;34m*\u001b[0m\u001b[0margs\u001b[0m\u001b[0;34m,\u001b[0m \u001b[0;34m**\u001b[0m\u001b[0mkwargs\u001b[0m\u001b[0;34m)\u001b[0m\u001b[0;34m\u001b[0m\u001b[0;34m\u001b[0m\u001b[0m\n\u001b[0m\u001b[1;32m   1748\u001b[0m \u001b[0;34m\u001b[0m\u001b[0m\n\u001b[1;32m   1749\u001b[0m         \u001b[0mresult\u001b[0m \u001b[0;34m=\u001b[0m \u001b[0;32mNone\u001b[0m\u001b[0;34m\u001b[0m\u001b[0;34m\u001b[0m\u001b[0m\n",
            "\u001b[0;32m/usr/local/lib/python3.10/dist-packages/torch/nn/modules/linear.py\u001b[0m in \u001b[0;36mforward\u001b[0;34m(self, input)\u001b[0m\n\u001b[1;32m    123\u001b[0m \u001b[0;34m\u001b[0m\u001b[0m\n\u001b[1;32m    124\u001b[0m     \u001b[0;32mdef\u001b[0m \u001b[0mforward\u001b[0m\u001b[0;34m(\u001b[0m\u001b[0mself\u001b[0m\u001b[0;34m,\u001b[0m \u001b[0minput\u001b[0m\u001b[0;34m:\u001b[0m \u001b[0mTensor\u001b[0m\u001b[0;34m)\u001b[0m \u001b[0;34m->\u001b[0m \u001b[0mTensor\u001b[0m\u001b[0;34m:\u001b[0m\u001b[0;34m\u001b[0m\u001b[0;34m\u001b[0m\u001b[0m\n\u001b[0;32m--> 125\u001b[0;31m         \u001b[0;32mreturn\u001b[0m \u001b[0mF\u001b[0m\u001b[0;34m.\u001b[0m\u001b[0mlinear\u001b[0m\u001b[0;34m(\u001b[0m\u001b[0minput\u001b[0m\u001b[0;34m,\u001b[0m \u001b[0mself\u001b[0m\u001b[0;34m.\u001b[0m\u001b[0mweight\u001b[0m\u001b[0;34m,\u001b[0m \u001b[0mself\u001b[0m\u001b[0;34m.\u001b[0m\u001b[0mbias\u001b[0m\u001b[0;34m)\u001b[0m\u001b[0;34m\u001b[0m\u001b[0;34m\u001b[0m\u001b[0m\n\u001b[0m\u001b[1;32m    126\u001b[0m \u001b[0;34m\u001b[0m\u001b[0m\n\u001b[1;32m    127\u001b[0m     \u001b[0;32mdef\u001b[0m \u001b[0mextra_repr\u001b[0m\u001b[0;34m(\u001b[0m\u001b[0mself\u001b[0m\u001b[0;34m)\u001b[0m \u001b[0;34m->\u001b[0m \u001b[0mstr\u001b[0m\u001b[0;34m:\u001b[0m\u001b[0;34m\u001b[0m\u001b[0;34m\u001b[0m\u001b[0m\n",
            "\u001b[0;31mRuntimeError\u001b[0m: mat1 and mat2 shapes cannot be multiplied (100x1 and 10x100)"
          ]
        }
      ]
    }
  ],
  "metadata": {
    "accelerator": "GPU",
    "colab": {
      "gpuType": "T4",
      "provenance": []
    },
    "kernelspec": {
      "display_name": "Python 3",
      "name": "python3"
    },
    "language_info": {
      "codemirror_mode": {
        "name": "ipython",
        "version": 3
      },
      "file_extension": ".py",
      "mimetype": "text/x-python",
      "name": "python",
      "nbconvert_exporter": "python",
      "pygments_lexer": "ipython3",
      "version": "3.9.7"
    }
  },
  "nbformat": 4,
  "nbformat_minor": 5
}