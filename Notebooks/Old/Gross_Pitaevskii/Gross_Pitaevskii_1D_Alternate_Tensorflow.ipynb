{
  "cells": [
    {
      "cell_type": "markdown",
      "id": "3nYdXyrr-Z7h",
      "metadata": {
        "id": "3nYdXyrr-Z7h"
      },
      "source": [
        "# Import Libraries"
      ]
    },
    {
      "cell_type": "code",
      "source": [
        "%%capture\n",
        "!pip install pyDOE"
      ],
      "metadata": {
        "id": "5ZyxFlqbY7L-"
      },
      "id": "5ZyxFlqbY7L-",
      "execution_count": 7,
      "outputs": []
    },
    {
      "cell_type": "code",
      "execution_count": 9,
      "id": "BMnx60Sj-Z7j",
      "metadata": {
        "id": "BMnx60Sj-Z7j"
      },
      "outputs": [],
      "source": [
        "import tensorflow.compat.v1 as tf\n",
        "import numpy as np\n",
        "import matplotlib.pyplot as plt\n",
        "from pyDOE import lhs  # Latin Hypercube Sampling\n",
        "import time\n",
        "\n",
        "# Disable TensorFlow v2 behaviors to use TensorFlow v1\n",
        "tf.disable_v2_behavior()\n",
        "\n",
        "# Set random seeds for reproducibility\n",
        "np.random.seed(1234)\n",
        "tf.set_random_seed(1234)"
      ]
    },
    {
      "cell_type": "markdown",
      "id": "hglIb1ul-Z7n",
      "metadata": {
        "id": "hglIb1ul-Z7n"
      },
      "source": [
        "# Physics Informed Neural Network"
      ]
    },
    {
      "cell_type": "code",
      "execution_count": 15,
      "id": "NFVJh4jB-Z7o",
      "metadata": {
        "id": "NFVJh4jB-Z7o"
      },
      "outputs": [],
      "source": [
        "class PhysicsInformedNN:\n",
        "    def __init__(self, X_f, layers, V, lb, ub):\n",
        "        \"\"\"\n",
        "        Initialize the physics-informed neural network with problem-specific parameters.\n",
        "\n",
        "        Parameters\n",
        "        ----------\n",
        "        X_f : ndarray\n",
        "            Training input data points generated using Latin Hypercube Sampling.\n",
        "        layers : list\n",
        "            List specifying the neural network architecture (number of nodes per layer).\n",
        "        V : ndarray\n",
        "            Potential function applied at each training point.\n",
        "        lb : ndarray\n",
        "            Lower boundary of the spatial domain.\n",
        "        ub : ndarray\n",
        "            Upper boundary of the spatial domain.\n",
        "        \"\"\"\n",
        "        self.lb, self.ub = lb, ub\n",
        "        self.x_f = X_f[:, 0:1]\n",
        "        self.V = V\n",
        "        self.layers = layers\n",
        "        self.weights, self.biases = self.initialize_NN(layers)\n",
        "        self.g = 100  # Interaction strength\n",
        "\n",
        "        # Inputs and potential\n",
        "        self.x_f_tf = tf.placeholder(tf.float32, shape=[None, self.x_f.shape[1]])\n",
        "        self.V_tf = tf.placeholder(tf.float32, shape=[None, self.V.shape[1]])\n",
        "\n",
        "        # Boundary conditions\n",
        "        self.lb_tf = tf.constant(lb.reshape(1, -1), dtype=tf.float32)  # Left boundary\n",
        "        self.ub_tf = tf.constant(ub.reshape(1, -1), dtype=tf.float32)  # Right boundary\n",
        "\n",
        "        # Predicted values and PDE residuals\n",
        "        self.u0_pred, u_x, self.uv_max = self.net_uv(self.x_f_tf)\n",
        "        u_xx = tf.gradients(u_x, self.x_f_tf)[0]\n",
        "\n",
        "        # Riesz energy loss\n",
        "        # energy_loss = (tf.reduce_mean(tf.square(u_x)) +\n",
        "        #                tf.reduce_mean(self.V_tf * tf.square(self.u0_pred)) +\n",
        "        #                (self.g / 2) * tf.reduce_mean(tf.square(self.u0_pred) ** 2))\n",
        "\n",
        "        # Riesz energy loss\n",
        "        kinetic_term = tf.reduce_mean(tf.square(u_x))\n",
        "        potential_term = tf.reduce_mean(self.V_tf * tf.square(self.u0_pred))\n",
        "        interaction_term = 0.5 * self.g * tf.reduce_mean(tf.square(self.u0_pred) ** 2)\n",
        "        energy_loss = 0.5 * (kinetic_term + potential_term + interaction_term)\n",
        "\n",
        "        # Boundary loss to enforce Dirichlet conditions at x = lb and x = ub\n",
        "        boundary_loss = self.boundary_loss()\n",
        "\n",
        "        # PDE loss including regularization terms\n",
        "        pde_loss, _, _ = self.pde_loss(self.x_f_tf, self.u0_pred)\n",
        "\n",
        "        # L^2 norm constraint: Penalizes deviation from norm = 1\n",
        "        l2_norm = tf.sqrt(tf.reduce_mean(tf.square(self.u0_pred)))\n",
        "        l2_norm_loss = tf.square(l2_norm - 1)  # Squared difference from 1\n",
        "\n",
        "        # Total loss combining energy, boundary, PDE, and L^2 norm constraint\n",
        "        self.loss = boundary_loss + energy_loss + pde_loss #+ 10 * l2_norm_loss   # pde_loss / self.uv_max?\n",
        "\n",
        "        # Optimizer\n",
        "        self.optimizer_Adam = tf.train.AdamOptimizer(learning_rate=1e-3)\n",
        "        self.train_op_Adam = self.optimizer_Adam.minimize(self.loss)\n",
        "\n",
        "        # Initialize TensorFlow session\n",
        "        self.sess = tf.Session(config=tf.ConfigProto(allow_soft_placement=True, log_device_placement=True))\n",
        "        self.sess.run(tf.global_variables_initializer())\n",
        "\n",
        "    def boundary_loss(self):\n",
        "        \"\"\"\n",
        "        Compute the boundary loss to enforce Dirichlet boundary conditions.\n",
        "\n",
        "        Returns\n",
        "        -------\n",
        "        tf.Tensor\n",
        "            Mean squared error loss at the boundaries to enforce u(lb) = 0 and u(ub) = 0.\n",
        "        \"\"\"\n",
        "        u_lb_pred = self.net_uv(self.lb_tf)[0]\n",
        "        u_ub_pred = self.net_uv(self.ub_tf)[0]\n",
        "        return tf.reduce_mean(tf.square(u_lb_pred)) + tf.reduce_mean(tf.square(u_ub_pred))\n",
        "\n",
        "    def pde_loss(self, x, u):\n",
        "        \"\"\"\n",
        "        Compute the PDE loss for the 1D Gross-Pitaevskii equation with regularization terms.\n",
        "\n",
        "        Parameters\n",
        "        ----------\n",
        "        x : tf.Tensor\n",
        "            Input tensor for spatial points.\n",
        "        u : tf.Tensor\n",
        "            Predicted solution at spatial points.\n",
        "\n",
        "        Returns\n",
        "        -------\n",
        "        tuple\n",
        "            A tuple containing the PDE loss, PDE residual, and smallest eigenvalue (lambda).\n",
        "        \"\"\"\n",
        "        u_x = tf.gradients(u, x)[0]\n",
        "        u_xx = tf.gradients(u_x, x)[0]\n",
        "\n",
        "        # Compute lambda_pde as the average energy value\n",
        "        lambda_pde = tf.reduce_mean(u_x ** 2 + self.V_tf * u ** 2 + self.g * u ** 4) / tf.reduce_mean(u ** 2)\n",
        "\n",
        "        # Gross-Pitaevskii equation residual\n",
        "        pde_residual = -u_xx + self.V_tf * u + self.g * tf.math.abs(u ** 2) * u - (lambda_pde * u)\n",
        "\n",
        "        # Regularization terms\n",
        "        target_mean_u_squared = 1e-4\n",
        "        L_f = tf.maximum(1 / (tf.reduce_mean(tf.square(u)) + 1e-2), target_mean_u_squared)\n",
        "        min_lambda = 1e-4\n",
        "        L_lambda = tf.maximum(1 / (tf.square(lambda_pde) + 1e-6), min_lambda)\n",
        "        L_drive = tf.maximum(tf.exp(-lambda_pde + min_lambda), 0.5)\n",
        "\n",
        "        # pde_loss = tf.reduce_mean(tf.square(pde_residual)) + L_lambda + L_f + L_drive\n",
        "        pde_loss = tf.reduce_mean(tf.square(pde_residual))\n",
        "        return pde_loss, pde_residual, lambda_pde\n",
        "\n",
        "    def initialize_NN(self, layers):\n",
        "        \"\"\"\n",
        "        Initialize the neural network weights and biases using Xavier initialization.\n",
        "\n",
        "        Parameters\n",
        "        ----------\n",
        "        layers : list\n",
        "            List specifying the neural network architecture (number of nodes per layer).\n",
        "\n",
        "        Returns\n",
        "        -------\n",
        "        tuple\n",
        "            A tuple containing lists of initialized weights and biases for each layer.\n",
        "        \"\"\"\n",
        "        weights, biases = [], []\n",
        "        for l in range(len(layers) - 1):\n",
        "            W = self.xavier_init(size=[layers[l], layers[l + 1]])\n",
        "            b = tf.Variable(tf.zeros([1, layers[l + 1]], dtype=tf.float32), dtype=tf.float32)\n",
        "            weights.append(W)\n",
        "            biases.append(b)\n",
        "        return weights, biases\n",
        "\n",
        "    def xavier_init(self, size):\n",
        "        \"\"\"\n",
        "        Xavier initialization for the neural network layers.\n",
        "\n",
        "        Parameters\n",
        "        ----------\n",
        "        size : list\n",
        "            List of two integers specifying the input and output dimensions of the layer.\n",
        "\n",
        "        Returns\n",
        "        -------\n",
        "        tf.Variable\n",
        "            Initialized weights for the layer.\n",
        "        \"\"\"\n",
        "        in_dim, out_dim = size[0], size[1]\n",
        "        xavier_stddev = np.sqrt(2 / (in_dim + out_dim))\n",
        "        return tf.Variable(tf.truncated_normal([in_dim, out_dim], stddev=xavier_stddev), dtype=tf.float32)\n",
        "\n",
        "    def neural_net(self, X, weights, biases):\n",
        "        \"\"\"\n",
        "        Forward pass through the neural network.\n",
        "\n",
        "        Parameters\n",
        "        ----------\n",
        "        X : tf.Tensor\n",
        "            Input data tensor.\n",
        "        weights : list\n",
        "            List of weights for each layer.\n",
        "        biases : list\n",
        "            List of biases for each layer.\n",
        "\n",
        "        Returns\n",
        "        -------\n",
        "        tf.Tensor\n",
        "            Output of the neural network.\n",
        "        \"\"\"\n",
        "        H = 2.0 * (X - self.lb) / (self.ub - self.lb) - 1.0\n",
        "        for W, b in zip(weights[:-1], biases[:-1]):\n",
        "            H = tf.tanh(tf.add(tf.matmul(H, W), b))\n",
        "        return tf.add(tf.matmul(H, weights[-1]), biases[-1])\n",
        "\n",
        "    def net_uv(self, x):\n",
        "        \"\"\"\n",
        "        Predict the solution and compute derivatives for the physics-informed loss.\n",
        "\n",
        "        Parameters\n",
        "        ----------\n",
        "        x : tf.Tensor\n",
        "            Input tensor for spatial points.\n",
        "\n",
        "        Returns\n",
        "        -------\n",
        "        tuple\n",
        "            A tuple containing the solution, its gradient, and the maximum absolute value.\n",
        "        \"\"\"\n",
        "        uv = self.neural_net(x, self.weights, self.biases)\n",
        "        u = uv[:, 0:1]\n",
        "        u_max = tf.reduce_max(tf.abs(u))\n",
        "        u_x = tf.gradients(u, x)[0]\n",
        "        return u, u_x, u_max\n",
        "\n",
        "    def train(self, nIter):\n",
        "        \"\"\"\n",
        "        Train the neural network using the Adam optimizer.\n",
        "\n",
        "        Parameters\n",
        "        ----------\n",
        "        nIter : int\n",
        "            Number of training iterations.\n",
        "        \"\"\"\n",
        "        tf_dict = {self.x_f_tf: self.x_f, self.V_tf: self.V}\n",
        "        for it in range(nIter):\n",
        "            self.sess.run(self.train_op_Adam, tf_dict)\n",
        "            if it % 500 == 0:\n",
        "                loss_value = self.sess.run(self.loss, tf_dict).item()\n",
        "                print(f'Iteration: {it}, Loss: {loss_value:.3e}')\n",
        "\n",
        "    def predict(self, X_star):\n",
        "        \"\"\"\n",
        "        Predict the solution at new spatial points.\n",
        "\n",
        "        Parameters\n",
        "        ----------\n",
        "        X_star : ndarray\n",
        "            Array of spatial points where prediction is required.\n",
        "\n",
        "        Returns\n",
        "        -------\n",
        "        ndarray\n",
        "            Predicted solution values.\n",
        "        \"\"\"\n",
        "        tf_dict = {self.x_f_tf: X_star}\n",
        "        return self.sess.run(self.u0_pred, tf_dict)"
      ]
    },
    {
      "cell_type": "markdown",
      "source": [
        "# Plot Results"
      ],
      "metadata": {
        "id": "FzMOyXAj7jey"
      },
      "id": "FzMOyXAj7jey"
    },
    {
      "cell_type": "code",
      "source": [
        "def plot_results(x_star, u_pred):\n",
        "    \"\"\"\n",
        "    Plot the predicted solution.\n",
        "\n",
        "    Parameters\n",
        "    ----------\n",
        "    x_star : ndarray\n",
        "        Array of spatial points.\n",
        "    u_pred : ndarray\n",
        "        Predicted solution values at the spatial points.\n",
        "    \"\"\"\n",
        "    x_star = x_star.flatten()\n",
        "    u_pred = u_pred.flatten()\n",
        "\n",
        "    plt.figure(figsize=(8, 6))\n",
        "    plt.plot(x_star, u_pred, label=\"Predicted Solution\")\n",
        "    plt.xlabel(\"x\")\n",
        "    plt.ylabel(\"u_pred\")\n",
        "    plt.title(\"Predicted Solution in 1D\")\n",
        "    plt.legend()\n",
        "    plt.show()"
      ],
      "metadata": {
        "id": "GyMrRGdE7lB2"
      },
      "id": "GyMrRGdE7lB2",
      "execution_count": 11,
      "outputs": []
    },
    {
      "cell_type": "markdown",
      "source": [
        "# Plot Potential"
      ],
      "metadata": {
        "id": "AKKgTNHo24k4"
      },
      "id": "AKKgTNHo24k4"
    },
    {
      "cell_type": "code",
      "source": [
        "def plot_potential(x, V):\n",
        "    \"\"\"\n",
        "    Plot the potential function.\n",
        "\n",
        "    Parameters\n",
        "    ----------\n",
        "    x : ndarray\n",
        "        Array of spatial points.\n",
        "    V : ndarray\n",
        "        Potential values at the spatial points.\n",
        "    \"\"\"\n",
        "    x = x.flatten()\n",
        "    V = V.flatten()\n",
        "\n",
        "    plt.figure(figsize=(8, 6))\n",
        "    plt.plot(x, V, label=\"Potential V(x)\", color=\"orange\", linestyle=\"-\", linewidth=2)\n",
        "    plt.xlabel(\"x\")\n",
        "    plt.ylabel(\"V(x)\")\n",
        "    plt.title(\"Potential Function V(x) along 1D Interval\")\n",
        "    plt.legend()\n",
        "    plt.show()"
      ],
      "metadata": {
        "id": "1kAWdOgL26tv"
      },
      "id": "1kAWdOgL26tv",
      "execution_count": 12,
      "outputs": []
    },
    {
      "cell_type": "markdown",
      "source": [
        "# Main"
      ],
      "metadata": {
        "id": "IZ3lYUBOYTR2"
      },
      "id": "IZ3lYUBOYTR2"
    },
    {
      "cell_type": "code",
      "source": [
        "lb, ub = np.array([-12.0]), np.array([12.0])\n",
        "N_f, layers = 5000, [1, 200, 200, 200, 1]\n",
        "x = np.linspace(-12.0, 12.0, 256).flatten()[:, None]\n",
        "X_f = lb + (ub - lb) * lhs(1, N_f)\n",
        "\n",
        "V0 = 1.0\n",
        "x0 = np.pi / 2\n",
        "sigma = 0.5\n",
        "V = V0 * np.exp(-((X_f[:, 0:1] - x0) ** 2) / (2 * sigma ** 2))\n",
        "\n",
        "nn = PhysicsInformedNN(X_f, layers, V, lb, ub)\n",
        "nn.train(nIter=5000)"
      ],
      "metadata": {
        "colab": {
          "base_uri": "https://localhost:8080/"
        },
        "id": "omooYBDom6IJ",
        "outputId": "e4745389-f2f0-446a-a891-f1bd208842f7"
      },
      "id": "omooYBDom6IJ",
      "execution_count": 16,
      "outputs": [
        {
          "output_type": "stream",
          "name": "stdout",
          "text": [
            "Device mapping:\n",
            "/job:localhost/replica:0/task:0/device:GPU:0 -> device: 0, name: Tesla T4, pci bus id: 0000:00:04.0, compute capability: 7.5\n",
            "\n",
            "Iteration: 0, Loss: 5.399e-01\n",
            "Iteration: 500, Loss: 2.963e-13\n",
            "Iteration: 1000, Loss: 2.964e-13\n",
            "Iteration: 1500, Loss: 2.965e-13\n",
            "Iteration: 2000, Loss: 2.969e-13\n",
            "Iteration: 2500, Loss: 2.968e-13\n",
            "Iteration: 3000, Loss: 2.966e-13\n",
            "Iteration: 3500, Loss: 2.962e-13\n",
            "Iteration: 4000, Loss: 2.960e-13\n",
            "Iteration: 4500, Loss: 2.962e-13\n"
          ]
        }
      ]
    },
    {
      "cell_type": "code",
      "source": [
        "u_pred = nn.predict(x)\n",
        "plot_results(x, u_pred)"
      ],
      "metadata": {
        "colab": {
          "base_uri": "https://localhost:8080/",
          "height": 564
        },
        "id": "wXwxeRkuYagE",
        "outputId": "26c573fb-fb94-49a5-c0e4-132e12b18147"
      },
      "id": "wXwxeRkuYagE",
      "execution_count": 17,
      "outputs": [
        {
          "output_type": "display_data",
          "data": {
            "text/plain": [
              "<Figure size 800x600 with 1 Axes>"
            ],
            "image/png": "[encoded data removed]"
          },
          "metadata": {}
        }
      ]
    }
  ],
  "metadata": {
    "accelerator": "GPU",
    "colab": {
      "gpuType": "T4",
      "provenance": []
    },
    "kernelspec": {
      "display_name": "Python 3",
      "name": "python3"
    },
    "language_info": {
      "codemirror_mode": {
        "name": "ipython",
        "version": 3
      },
      "file_extension": ".py",
      "mimetype": "text/x-python",
      "name": "python",
      "nbconvert_exporter": "python",
      "pygments_lexer": "ipython3",
      "version": "3.9.7"
    }
  },
  "nbformat": 4,
  "nbformat_minor": 5
}