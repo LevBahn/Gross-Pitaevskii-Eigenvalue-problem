{
 "cells": [
  {
   "cell_type": "code",
   "execution_count": 1,
   "id": "a0539e7c",
   "metadata": {},
   "outputs": [],
   "source": [
    "import numpy as np\n",
    "import torch as t\n",
    "import matplotlib.pyplot as plt\n",
    "import tqdm as tq\n",
    "from matplotlib import rc\n",
    "rc('animation', html='jshtml')\n",
    "import matplotlib.animation as animation\n",
    "import winsound\n",
    "Freq = 1500 # Set Frequency To 2500 Hertz\n",
    "Dur = 1000 # Set Duration To 1000 ms == 1 second"
   ]
  },
  {
   "cell_type": "code",
   "execution_count": 6,
   "id": "bbc76c11",
   "metadata": {},
   "outputs": [],
   "source": [
    "eta=1\n",
    "b=1\n",
    "R=t.pi\n",
    "weight=1\n",
    "\n",
    "ReLu=t.nn.ReLU()\n",
    "\n",
    "def act(x):\n",
    "    return t.sin(x)\n",
    "#t.log(1+t.exp(x))\n",
    "\n",
    "def dact(x):\n",
    "    return t.cos(x)\n",
    "#t.exp(x)/(1+t.exp(x))\n",
    "\n",
    "def ddact(x):\n",
    "    return -t.sin(x)\n",
    "#t.exp(x)/((1+t.exp(x))**2)\n",
    "\n",
    "def dddact(x):\n",
    "    return -t.cos(x)\n",
    "#(t.exp(x)*(1-t.exp(x)))/(1+t.exp(x))**4\n",
    "\n",
    "def net(c,w,x):\n",
    "    return t.matmul(c,act(w*x))\n",
    "\n",
    "def dnet(c,w,x):\n",
    "    return t.matmul(c*w,dact(w*x))\n",
    "\n",
    "def ddnet(c,w,x):\n",
    "    return t.matmul(c*w*w,ddact(w*x))\n",
    "\n",
    "def PINN_Error(c,w,x):\n",
    "    a=0\n",
    "    N=x.size(0)\n",
    "    e_val=eigenvalue(c,w,x)\n",
    "    for i in range(N):\n",
    "        s=-ddnet(c,w,x[i])+b*net(c,w,x[i])+eta*(net(c,w,x[i])**3)-e_val*net(c,w,x[i])\n",
    "        a=a+(s)**2\n",
    "    return (R/N)*a\n",
    "\n",
    "        \n",
    "def energy(c,w,x):\n",
    "    e=0\n",
    "    N=x.size(0)\n",
    "    for i in range(N):\n",
    "        e=e+(dnet(c,w,x[i])**2)+b*(net(c,w,x[i])**2)+(eta/2)*(net(c,w,x[i])**4)\n",
    "    e=(R/N)*e\n",
    "    return e\n",
    "\n",
    "\n",
    "def eigenvalue(c,w,x):\n",
    "    e=0\n",
    "    N=x.size(0)\n",
    "    for i in range(N):\n",
    "        e=e+(dnet(c,w,x[i])**2)+b*(net(c,w,x[i])**2)+eta*(net(c,w,x[i])**4)\n",
    "    e=(R/N)*e\n",
    "    return e\n",
    "\n",
    "def L2(c,w,x):\n",
    "    a=0\n",
    "    n=x.size(0)\n",
    "    for i in range(n):\n",
    "        a=a+net(c,w,x[i])**2\n",
    "    return (R/n)*a\n",
    "    \n",
    "def Lag(c,w,x,L):\n",
    "    return energy(c,w,x)+L*(L2(c,w,x)-1)\n",
    "    \n",
    "    \n",
    "def Error_T(c,w,x):\n",
    "    return energy(c,w,x)+(L2(c,w,x)-1)**2+net(c,w,t.zeros(1))**2+net(c,w,R)**2\n",
    "    \n",
    "    \n",
    "def grad(c,w,x):\n",
    "    m=c.size(0)\n",
    "    N=x.size(0)\n",
    "    grad_c=t.zeros(m)\n",
    "    grad_w=t.zeros(m)\n",
    "    for i in range(N):\n",
    "        c_1=2*dnet(c,w,x[i])*(w*dact(w*x[i]))\n",
    "        c_2=2*b*net(c,w,x[i])*act(w*x[i])\n",
    "        c_3=4*(eta/2)*(net(c,w,x[i])**3)*act(w*x[i])\n",
    "        c_b=2*net(c,w,R)*act(w*R)\n",
    "        c_o=2*net(c,w,t.zeros(1))*act(w*t.zeros(1))\n",
    "        c_n=4*(L2(c,w,x)-1)*net(c,w,x[i])*act(w*x[i])\n",
    "        w_1=2*dnet(c,w,x[i])*c*(dact(w*x[i])+w*ddact(w*x[i])*x[i])\n",
    "        w_2=2*b*net(c,w,x[i])*c*dact(w*x[i])*x[i]\n",
    "        w_3=4*(eta/2)*(net(c,w,x[i])**3)*c*dact(w*x[i])*x[i]\n",
    "        w_b=2*net(c,w,R)*c*dact(w*R)*R\n",
    "        w_o=2*net(c,w,t.zeros(1))*c*dact(w*t.zeros(1))*t.zeros(1)\n",
    "        w_n=4*(L2(c,w,x)-1)*net(c,w,x[i])*c*dact(w*x[i])*x[i]\n",
    "        grad_c=grad_c+c_1+c_2+c_3+c_b+c_o+weight*c_n\n",
    "        grad_w=grad_w+w_1+w_2+w_3+w_b+w_o+weight*w_n\n",
    "    grad_c=(R/N)*grad_c\n",
    "    grad_w=(R/N)*grad_w\n",
    "    return grad_c, grad_w\n",
    "    \n",
    "    \n",
    "def optimization(N,m,T,r):\n",
    "    c=t.zeros(m)\n",
    "    w=t.zeros(m)\n",
    "    c[0]=1\n",
    "    w[0]=1\n",
    "    x=t.tensor([R*(i/N)  for i in range(N)])\n",
    "    Error=t.zeros(T)\n",
    "    Error_1=t.zeros(T)\n",
    "    Error_2=t.zeros(T)\n",
    "    Error_3=t.zeros(T)\n",
    "    plots=[]\n",
    "    for k in tq.tqdm(range(T)):\n",
    "        G=grad(c,w,x)\n",
    "        c=c-r*G[0]\n",
    "        w=w-r*G[1]\n",
    "        rc_L2=L2(c,w,x)\n",
    "        a=t.tensor([net(c,w,x[i]) for i in range(N)])\n",
    "        Sa=t.sign(a)*t.sign(a)\n",
    "        G=0\n",
    "        for i in range(N):\n",
    "            G=G+(Sa[i]-1)\n",
    "        if G==0:\n",
    "            c=c/rc_L2\n",
    "        Error[k]=energy(c,w,x)\n",
    "        Error_1[k]=PINN_Error(c,w,x)\n",
    "        Error_2[k]=rc_L2\n",
    "        Error_3[k]=Error_T(c,w,x)\n",
    "        if np.isnan(Error[k])==True:\n",
    "            break\n",
    "        #s=t.tensor([t.sign(net(c,w,x[i])) for i in range(N)])\n",
    "        plt.plot(x,a)\n",
    "        plt.xlabel(k/T)\n",
    "        plt.ylabel(\"N=\"+str(N)+\"...\"+\"m=\"+str(m)+\"...\"+\"r=\"+str(r))\n",
    "        if k==0:\n",
    "            fig, ax = plt.figure(), plt.axes(xlim=(0, R), ylim=(-0.5, 1.5))\n",
    "        else:\n",
    "            dummy_fig, ax = plt.figure(), plt.axes(xlim=(0, R), ylim=(-0.5, 1.5))\n",
    "            ax.set(animated=True)\n",
    "            ax.remove()\n",
    "            ax.figure = fig\n",
    "            fig.add_axes(ax)\n",
    "            plt.close(dummy_fig)\n",
    "        \n",
    "        plots.append([ax])\n",
    "\n",
    "    ani = animation.ArtistAnimation(fig, plots, interval=50, repeat_delay=20000)\n",
    "    ani.save(\"GPE_1copy.gif\")\n",
    "    winsound.Beep(Freq,Dur)\n",
    "    winsound.Beep(Freq,Dur)\n",
    "    return c,w,Error,Error_1,Error_2, Error_3"
   ]
  },
  {
   "cell_type": "code",
   "execution_count": 7,
   "id": "58243a6a",
   "metadata": {},
   "outputs": [],
   "source": [
    "n=10\n",
    "m=10\n",
    "T=200\n",
    "r=0.0001"
   ]
  },
  {
   "cell_type": "code",
   "execution_count": 8,
   "id": "c0e9e6ce",
   "metadata": {},
   "outputs": [
    {
     "name": "stderr",
     "output_type": "stream",
     "text": [
      "100%|████████████████████████████████████████████████████████████████████████████████| 200/200 [00:18<00:00, 11.00it/s]\n",
      "MovieWriter ffmpeg unavailable; using Pillow instead.\n"
     ]
    },
    {
     "data": {
      "image/png": "[encoded data removed]",
      "text/plain": [
       "<Figure size 432x288 with 1 Axes>"
      ]
     },
     "metadata": {
      "needs_background": "light"
     },
     "output_type": "display_data"
    },
    {
     "data": {
      "image/png": "[encoded data removed]",
      "text/plain": [
       "<Figure size 432x288 with 200 Axes>"
      ]
     },
     "metadata": {
      "needs_background": "light"
     },
     "output_type": "display_data"
    }
   ],
   "source": [
    "A=optimization(n,m,T,r)"
   ]
  },
  {
   "cell_type": "code",
   "execution_count": null,
   "id": "a870680b",
   "metadata": {},
   "outputs": [],
   "source": [
    "plt.plot(A[2]), A[2][-1]  #Energy"
   ]
  },
  {
   "cell_type": "code",
   "execution_count": null,
   "id": "c5b24b4c",
   "metadata": {},
   "outputs": [],
   "source": [
    "plt.plot(A[3][2500:]), A[3][-1]  #PINN"
   ]
  },
  {
   "cell_type": "code",
   "execution_count": null,
   "id": "4064b5a0",
   "metadata": {},
   "outputs": [],
   "source": [
    "plt.plot(A[4][150:]), A[4][-1] #L2"
   ]
  },
  {
   "cell_type": "code",
   "execution_count": null,
   "id": "abea42c2",
   "metadata": {},
   "outputs": [],
   "source": [
    "plt.plot(A[5][2000:]), A[5][-1] #Total Error"
   ]
  },
  {
   "cell_type": "code",
   "execution_count": null,
   "id": "53ba84c7",
   "metadata": {},
   "outputs": [],
   "source": [
    "x=t.tensor([(i/n)*t.pi  for i in range(n)])\n",
    "L2(A[0],A[1],x)"
   ]
  },
  {
   "cell_type": "code",
   "execution_count": null,
   "id": "46dd94dd",
   "metadata": {},
   "outputs": [],
   "source": [
    "plt.plot(x,t.tensor([net(A[0],A[1],x[i]) for i in range(n)]))\n",
    "plt.ylabel(\"N=\"+str(n)+ \".. \" +\"m=\"+str(m))"
   ]
  },
  {
   "cell_type": "code",
   "execution_count": null,
   "id": "053eb900",
   "metadata": {},
   "outputs": [],
   "source": [
    "eigenvalue(A[0],A[1],x)"
   ]
  },
  {
   "cell_type": "code",
   "execution_count": null,
   "id": "4bb022b9",
   "metadata": {},
   "outputs": [],
   "source": [
    "energy(A[0],A[1],x)"
   ]
  },
  {
   "cell_type": "code",
   "execution_count": null,
   "id": "c4be16e2",
   "metadata": {},
   "outputs": [],
   "source": [
    "t.sign(a)"
   ]
  },
  {
   "cell_type": "code",
   "execution_count": null,
   "id": "f7c545bf",
   "metadata": {},
   "outputs": [],
   "source": [
    "a=t.tensor([net(c,w,x[i]) for i in range(N)])\n",
    "Sa=t.sign(a)*t.sign(a)"
   ]
  },
  {
   "cell_type": "code",
   "execution_count": null,
   "id": "d7604f3a",
   "metadata": {},
   "outputs": [],
   "source": []
  },
  {
   "cell_type": "code",
   "execution_count": null,
   "id": "a445418b",
   "metadata": {},
   "outputs": [],
   "source": []
  }
 ],
 "metadata": {
  "kernelspec": {
   "display_name": "Python 3 (ipykernel)",
   "language": "python",
   "name": "python3"
  },
  "language_info": {
   "codemirror_mode": {
    "name": "ipython",
    "version": 3
   },
   "file_extension": ".py",
   "mimetype": "text/x-python",
   "name": "python",
   "nbconvert_exporter": "python",
   "pygments_lexer": "ipython3",
   "version": "3.9.7"
  }
 },
 "nbformat": 4,
 "nbformat_minor": 5
}
