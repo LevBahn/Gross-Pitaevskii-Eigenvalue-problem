{
 "cells": [
  {
   "cell_type": "code",
   "execution_count": 1,
   "id": "ede8adf7",
   "metadata": {},
   "outputs": [],
   "source": [
    "import numpy as np\n",
    "import torch as t\n",
    "import matplotlib.pyplot as plt\n",
    "import tqdm as tq\n",
    "from matplotlib import rc\n",
    "rc('animation', html='jshtml')\n",
    "import matplotlib.animation as animation\n",
    "import winsound\n",
    "Freq = 1000 # Set Frequency To 2500 Hertz\n",
    "Dur = 1000 # Set Duration To 1000 ms == 1 second"
   ]
  },
  {
   "cell_type": "code",
   "execution_count": null,
   "id": "4216a80a",
   "metadata": {},
   "outputs": [],
   "source": [
    "R=t.pi\n",
    "beta=1\n",
    "\n",
    "def V(x):\n",
    "    return t.sin(x)\n",
    "\n",
    "def L2(u):\n",
    "    N=t.tensor(u.size())\n",
    "    return t.sqrt(R*(t.sum(u**2)/N))\n",
    "\n",
    "def normalization(u):\n",
    "    return u/L2(u)\n",
    "\n",
    "def grad(u):\n",
    "    P=\n",
    "\n",
    "def optimization(u_0,r):\n",
    "    d"
   ]
  },
  {
   "cell_type": "code",
   "execution_count": 4,
   "id": "e721b02a",
   "metadata": {},
   "outputs": [],
   "source": [
    "a=t.tensor([1,2,3,4,5])"
   ]
  },
  {
   "cell_type": "code",
   "execution_count": 8,
   "id": "7fdd87fe",
   "metadata": {},
   "outputs": [
    {
     "data": {
      "text/plain": [
       "tensor([9])"
      ]
     },
     "execution_count": 8,
     "metadata": {},
     "output_type": "execute_result"
    }
   ],
   "source": [
    "t.tensor(a.size())+4"
   ]
  },
  {
   "cell_type": "code",
   "execution_count": null,
   "id": "3c5dcc6f",
   "metadata": {},
   "outputs": [],
   "source": []
  },
  {
   "cell_type": "code",
   "execution_count": null,
   "id": "46eb92f7",
   "metadata": {},
   "outputs": [],
   "source": []
  }
 ],
 "metadata": {
  "kernelspec": {
   "display_name": "Python 3 (ipykernel)",
   "language": "python",
   "name": "python3"
  },
  "language_info": {
   "codemirror_mode": {
    "name": "ipython",
    "version": 3
   },
   "file_extension": ".py",
   "mimetype": "text/x-python",
   "name": "python",
   "nbconvert_exporter": "python",
   "pygments_lexer": "ipython3",
   "version": "3.9.7"
  }
 },
 "nbformat": 4,
 "nbformat_minor": 5
}
