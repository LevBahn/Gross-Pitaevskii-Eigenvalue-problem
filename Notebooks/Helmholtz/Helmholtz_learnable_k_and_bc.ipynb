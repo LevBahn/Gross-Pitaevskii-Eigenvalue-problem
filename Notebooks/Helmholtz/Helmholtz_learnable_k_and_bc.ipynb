{
  "cells": [
    {
      "cell_type": "markdown",
      "id": "3nYdXyrr-Z7h",
      "metadata": {
        "id": "3nYdXyrr-Z7h"
      },
      "source": [
        "# Import Libraries"
      ]
    },
    {
      "cell_type": "code",
      "execution_count": 17,
      "id": "BMnx60Sj-Z7j",
      "metadata": {
        "colab": {
          "base_uri": "https://localhost:8080/"
        },
        "id": "BMnx60Sj-Z7j",
        "outputId": "49d7f2f8-d465-47e3-d436-b41d6a2d1c03"
      },
      "outputs": [
        {
          "output_type": "stream",
          "name": "stdout",
          "text": [
            "cuda\n"
          ]
        }
      ],
      "source": [
        "import torch\n",
        "import torch.nn as nn\n",
        "import torch.optim as optim\n",
        "import numpy as np\n",
        "import matplotlib.pyplot as plt\n",
        "from torch.utils.checkpoint import checkpoint\n",
        "\n",
        "# Check if GPU is available\n",
        "device = torch.device(\"cuda\" if torch.cuda.is_available() else \"cpu\")\n",
        "\n",
        "print(device)\n",
        "\n",
        "if device == 'cuda': print(torch.cuda.get_device_name())"
      ]
    },
    {
      "cell_type": "markdown",
      "id": "hglIb1ul-Z7n",
      "metadata": {
        "id": "hglIb1ul-Z7n"
      },
      "source": [
        "# Physics Informed Neural Network"
      ]
    },
    {
      "cell_type": "code",
      "execution_count": 18,
      "id": "NFVJh4jB-Z7o",
      "metadata": {
        "id": "NFVJh4jB-Z7o"
      },
      "outputs": [],
      "source": [
        "class PINN(nn.Module):\n",
        "    \"\"\"\n",
        "    Physics-Informed Neural Network (PINN) for solving PDEs using Riesz energy minimization.\n",
        "\n",
        "    Attributes\n",
        "    ----------\n",
        "    layers : nn.ModuleList\n",
        "        List of neural network layers.\n",
        "    ub : torch.Tensor\n",
        "        Upper bound for input normalization.\n",
        "    lb : torch.Tensor\n",
        "        Lower bound for input normalization.\n",
        "    adaptive_bc_scale : torch.nn.Parameter\n",
        "        Learnable scaling factor for boundary condition loss.\n",
        "    k : torch.nn.Parameter\n",
        "        Learnable parameter for the wave number.\n",
        "    \"\"\"\n",
        "    def __init__(self, layers, ub, lb):\n",
        "        \"\"\"\n",
        "        Initializes the PINN model with given layer sizes and boundary conditions.\n",
        "\n",
        "        Parameters\n",
        "        ----------\n",
        "        layers : list\n",
        "            List of integers specifying the number of units in each layer.\n",
        "        ub : list or numpy.ndarray\n",
        "            Upper bounds of the input domain for feature normalization.\n",
        "        lb : list or numpy.ndarray\n",
        "            Lower bounds of the input domain for feature normalization.\n",
        "        \"\"\"\n",
        "        super(PINN, self).__init__()\n",
        "        self.layers = nn.ModuleList()\n",
        "        self.ub = torch.tensor(ub, dtype=torch.float32, device=device)\n",
        "        self.lb = torch.tensor(lb, dtype=torch.float32, device=device)\n",
        "        self.adaptive_bc_scale = nn.Parameter(torch.tensor(10.0, device=device))  # Adaptive weighting for BC loss (lambda)\n",
        "        self.k = nn.Parameter(torch.tensor(np.pi, device=device))  # Initialize k as a learnable parameter\n",
        "\n",
        "        # Define network layers\n",
        "        for i in range(len(layers) - 1):\n",
        "            self.layers.append(nn.Linear(layers[i], layers[i + 1]))\n",
        "            if i < len(layers) - 2:\n",
        "                self.layers.append(nn.LeakyReLU())\n",
        "\n",
        "        self.activation = nn.LeakyReLU()\n",
        "        self.init_weights()\n",
        "\n",
        "    def init_weights(self):\n",
        "        \"\"\" Initialize weights using Xavier initialization. \"\"\"\n",
        "        for m in self.layers:\n",
        "            if isinstance(m, nn.Linear):\n",
        "                nn.init.xavier_normal_(m.weight)\n",
        "\n",
        "    def forward(self, x):\n",
        "        \"\"\"\n",
        "        Forward pass through the neural network.\n",
        "\n",
        "        Parameters\n",
        "        ----------\n",
        "        x : torch.Tensor\n",
        "            Input tensor for the neural network.\n",
        "\n",
        "        Returns\n",
        "        -------\n",
        "        torch.Tensor\n",
        "            Output of the neural network after forward pass.\n",
        "        \"\"\"\n",
        "\n",
        "        # Ensure lb and ub are broadcastable to the shape of x\n",
        "        lb = self.lb.view(1, -1)  # Ensure lb shape is (1, num_features)\n",
        "        ub = self.ub.view(1, -1)  # Ensure ub shape is (1, num_features)\n",
        "\n",
        "        # Normalize the inputs\n",
        "        x = (x - lb) / (ub - lb)\n",
        "\n",
        "        # Use gradient checkpointing for layers to save memory\n",
        "        for i, layer in enumerate(self.layers):\n",
        "            if i % 2 == 0:  # Apply checkpointing only to Linear layers\n",
        "                x = checkpoint(layer, x, use_reentrant=False)\n",
        "            else:\n",
        "                x = layer(x)\n",
        "\n",
        "        return x\n",
        "\n",
        "    def loss_BC(self, x_bc, y_bc):\n",
        "        \"\"\"\n",
        "        Computes the boundary condition (BC) loss.\n",
        "\n",
        "        Parameters\n",
        "        ----------\n",
        "        x_bc : torch.Tensor\n",
        "            Boundary condition input data.\n",
        "        y_bc : torch.Tensor\n",
        "            Boundary condition output (true) values.\n",
        "\n",
        "        Returns\n",
        "        -------\n",
        "        torch.Tensor\n",
        "            Scaled mean squared error (MSE) loss for boundary conditions.\n",
        "        \"\"\"\n",
        "        u_pred = self.forward(x_bc)\n",
        "        adaptive_scale = self.adaptive_bc_scale  # Adaptive scaling\n",
        "        bc_loss = adaptive_scale * torch.mean((u_pred - y_bc) ** 2)\n",
        "        return bc_loss\n",
        "\n",
        "    def riesz_loss(self, predictions, inputs):\n",
        "        \"\"\"\n",
        "        Computes the Riesz energy loss for regularization.\n",
        "\n",
        "        Parameters\n",
        "        ----------\n",
        "        predictions : torch.Tensor\n",
        "            Model predictions.\n",
        "        inputs : torch.Tensor\n",
        "            Input points.\n",
        "\n",
        "        Returns\n",
        "        -------\n",
        "        torch.Tensor\n",
        "            Riesz energy loss.\n",
        "        \"\"\"\n",
        "        if not inputs.requires_grad:\n",
        "            inputs = inputs.clone().detach().requires_grad_(True)\n",
        "        gradients = torch.autograd.grad(outputs=predictions, inputs=inputs,\n",
        "                                        grad_outputs=torch.ones_like(predictions),\n",
        "                                        create_graph=True, retain_graph=True)[0]\n",
        "        riesz_energy = torch.sum(gradients ** 2)\n",
        "        return riesz_energy\n",
        "\n",
        "    def pde_loss(self, inputs, predictions):\n",
        "        \"\"\"\n",
        "        Computes the Helmholtz PDE loss u_xx + u_yy - k^2 * u = 0.\n",
        "        Uses the learnable parameter k.\n",
        "\n",
        "        Parameters\n",
        "        ----------\n",
        "        inputs : torch.Tensor\n",
        "            Input points (x, y).\n",
        "        predictions : torch.Tensor\n",
        "            Predicted output from the network.\n",
        "\n",
        "        Returns\n",
        "        -------\n",
        "        torch.Tensor\n",
        "            Helmholtz PDE loss.\n",
        "        \"\"\"\n",
        "        u_x = torch.autograd.grad(outputs=predictions, inputs=inputs,\n",
        "                                  grad_outputs=torch.ones_like(predictions),\n",
        "                                  create_graph=True)[0]\n",
        "\n",
        "        u_xx = torch.autograd.grad(outputs=u_x[:, 0], inputs=inputs,\n",
        "                                   grad_outputs=torch.ones_like(u_x[:, 0]),\n",
        "                                   create_graph=True)[0][:, 0]\n",
        "\n",
        "        u_yy = torch.autograd.grad(outputs=u_x[:, 1], inputs=inputs,\n",
        "                                   grad_outputs=torch.ones_like(u_x[:, 1]),\n",
        "                                   create_graph=True)[0][:, 1]\n",
        "\n",
        "        # Helmholtz equation u_xx + u_yy - k^2 * u = 0 with learnable k\n",
        "        pde_residual = u_xx + u_yy - self.k ** 2 * predictions\n",
        "        pde_loss = torch.mean(pde_residual ** 2)\n",
        "\n",
        "        return pde_loss\n",
        "\n",
        "    def loss(self, x_bc, y_bc, x_to_train_f):\n",
        "        \"\"\"\n",
        "        Computes the total loss combining BC loss, PDE loss (Helmholtz), and Riesz loss.\n",
        "\n",
        "        Parameters\n",
        "        ----------\n",
        "        x_bc : torch.Tensor\n",
        "            Boundary condition input data.\n",
        "        y_bc : torch.Tensor\n",
        "            Boundary condition true values.\n",
        "        x_to_train_f : torch.Tensor\n",
        "            Input points for PDE training.\n",
        "\n",
        "        Returns\n",
        "        -------\n",
        "        torch.Tensor\n",
        "            Total loss combining BC, PDE, and Riesz losses.\n",
        "        \"\"\"\n",
        "        loss_u = self.adaptive_bc_scale * self.loss_BC(x_bc, y_bc)  # BC loss\n",
        "        predictions = self.forward(x_to_train_f)\n",
        "\n",
        "        # PDE loss (Helmholtz equation) with learnable k\n",
        "        loss_pde = self.pde_loss(x_to_train_f, predictions)\n",
        "\n",
        "        # Riesz energy loss for smoothness\n",
        "        loss_k = self.riesz_loss(predictions, x_to_train_f)\n",
        "\n",
        "        total_loss = loss_u + loss_pde + loss_k\n",
        "        return total_loss"
      ]
    },
    {
      "cell_type": "markdown",
      "source": [
        "# Training PINN"
      ],
      "metadata": {
        "id": "oRFVmKAiCuYW"
      },
      "id": "oRFVmKAiCuYW"
    },
    {
      "cell_type": "code",
      "source": [
        "def train_pinn(model, optimizer, scheduler, x_bc, y_bc, x_to_train_f, epochs):\n",
        "    \"\"\"\n",
        "    Training loop for the PINN model.\n",
        "\n",
        "    Parameters\n",
        "    ----------\n",
        "    model : PINN\n",
        "        PINN model to be trained.\n",
        "    optimizer : torch.optim.Optimizer\n",
        "        Optimizer for training.\n",
        "    scheduler : torch.optim.lr_scheduler\n",
        "        Learning rate scheduler.\n",
        "    x_bc : torch.Tensor\n",
        "        Boundary condition input data.\n",
        "    y_bc : torch.Tensor\n",
        "        Boundary condition output data.\n",
        "    x_to_train_f : torch.Tensor\n",
        "        Input points for PDE training.\n",
        "    epochs : int\n",
        "        Number of training epochs.\n",
        "    \"\"\"\n",
        "\n",
        "    scaler = torch.amp.GradScaler('cuda')  # Mixed precision training\n",
        "\n",
        "    for epoch in range(epochs):\n",
        "        model.train()\n",
        "        optimizer.zero_grad()\n",
        "\n",
        "        with torch.amp.autocast('cuda'):  # Use mixed precision for forward pass\n",
        "            loss = model.loss(x_bc, y_bc, x_to_train_f)\n",
        "\n",
        "        scaler.scale(loss).backward()\n",
        "\n",
        "        # Gradient clipping\n",
        "        torch.nn.utils.clip_grad_norm_(model.parameters(), max_norm=1.0)\n",
        "\n",
        "        scaler.step(optimizer)\n",
        "        scaler.update()\n",
        "        scheduler.step(loss)\n",
        "\n",
        "        if epoch % 100 == 0:\n",
        "            print(f'Epoch {epoch}/{epochs}, Loss: {loss.item()}, Learned Adaptive BC: {model.adaptive_bc_scale.item()}, '\n",
        "                  f'Learned k: {model.k.item()}')"
      ],
      "metadata": {
        "id": "QdFiIjnbCwPQ"
      },
      "id": "QdFiIjnbCwPQ",
      "execution_count": 19,
      "outputs": []
    },
    {
      "cell_type": "markdown",
      "id": "bOjuHdzAhib-",
      "metadata": {
        "id": "bOjuHdzAhib-"
      },
      "source": [
        "# *Solution Plot*"
      ]
    },
    {
      "cell_type": "code",
      "execution_count": 20,
      "id": "5fRTCiyL-Z7q",
      "metadata": {
        "id": "5fRTCiyL-Z7q"
      },
      "outputs": [],
      "source": [
        "def visualize_solution(model, x_train, y_train):\n",
        "    \"\"\"\n",
        "    Visualizes the predicted solution from the Physics-Informed Neural Network (PINN).\n",
        "\n",
        "    The plot shows the network's predicted solution over the 2D spatial domain.\n",
        "\n",
        "    Parameters\n",
        "    ----------\n",
        "    model : PINN\n",
        "        The trained PINN model used for predictions.\n",
        "    x_train : torch.Tensor\n",
        "        Training points used for prediction. Should be a tensor of shape (N, 1).\n",
        "    y_train : torch.Tensor\n",
        "        Training points used for prediction. Should be a tensor of shape (N, 1).\n",
        "    \"\"\"\n",
        "    # Flatten the grid of x_train and y_train\n",
        "    x_flat = x_train.reshape(-1, 1)\n",
        "    y_flat = y_train.reshape(-1, 1)\n",
        "\n",
        "    # Generate predictions using the model\n",
        "    with torch.no_grad():  # Don't track gradients for visualization\n",
        "        inputs = torch.cat([x_flat, y_flat], dim=1)  # Combine x and y into a 2D tensor\n",
        "        u_pred = model(inputs)  # Get the model's predictions\n",
        "\n",
        "    # Detach the predictions and convert to numpy\n",
        "    x_train = x_train.detach().cpu().numpy()\n",
        "    y_train = y_train.detach().cpu().numpy()\n",
        "    u_pred = u_pred.detach().cpu().numpy().reshape(x_train.shape)\n",
        "\n",
        "    # Create a grid\n",
        "    x_unique = np.unique(x_train)\n",
        "    y_unique = np.unique(y_train)\n",
        "    X, Y = np.meshgrid(x_unique, y_unique)\n",
        "\n",
        "    # Plotting the predicted solution\n",
        "    fig, ax = plt.subplots(figsize=(8, 6))\n",
        "\n",
        "    # Surface plot of predicted solution\n",
        "    c = ax.pcolor(X, Y, u_pred, cmap='jet')\n",
        "    fig.colorbar(c, ax=ax)\n",
        "\n",
        "    ax.set_xlabel(r'$x$ (Spatial Coordinate)', fontsize=12)\n",
        "    ax.set_ylabel(r'$y$ (Spatial Coordinate)', fontsize=12)\n",
        "\n",
        "    ax.set_title('Predicted Solution from PINN after Training\\n(Prediction over the Spatial Domain)', fontsize=14)\n",
        "    plt.tight_layout()\n",
        "    plt.show()"
      ]
    },
    {
      "cell_type": "markdown",
      "id": "7RmggB2e-Z7r",
      "metadata": {
        "id": "7RmggB2e-Z7r"
      },
      "source": [
        "# Main"
      ]
    },
    {
      "cell_type": "code",
      "execution_count": 21,
      "id": "l6Wiv5Zi-Z7r",
      "metadata": {
        "colab": {
          "base_uri": "https://localhost:8080/",
          "height": 841
        },
        "id": "l6Wiv5Zi-Z7r",
        "outputId": "75f6e8f0-99c9-4eab-dff6-b985f2cc9e62"
      },
      "outputs": [
        {
          "output_type": "stream",
          "name": "stderr",
          "text": [
            "/usr/local/lib/python3.10/dist-packages/torch/utils/checkpoint.py:1399: FutureWarning: `torch.cpu.amp.autocast(args...)` is deprecated. Please use `torch.amp.autocast('cpu', args...)` instead.\n",
            "  with device_autocast_ctx, torch.cpu.amp.autocast(**cpu_autocast_kwargs), recompute_context:  # type: ignore[attr-defined]\n"
          ]
        },
        {
          "output_type": "stream",
          "name": "stdout",
          "text": [
            "Epoch 0/1000, Loss: 162.41549682617188, Learned Adaptive BC: 10.0, Learned k: 3.1415927410125732\n",
            "Epoch 100/1000, Loss: 10.435744285583496, Learned Adaptive BC: 8.911660194396973, Learned k: 2.0462746620178223\n",
            "Epoch 200/1000, Loss: 4.841861248016357, Learned Adaptive BC: 7.365329265594482, Learned k: 0.9502338767051697\n",
            "Epoch 300/1000, Loss: 2.794200897216797, Learned Adaptive BC: 5.700206756591797, Learned k: 0.5095034241676331\n",
            "Epoch 400/1000, Loss: 1.6023340225219727, Learned Adaptive BC: 4.323230743408203, Learned k: 0.34880754351615906\n",
            "Epoch 500/1000, Loss: 0.8115590214729309, Learned Adaptive BC: 3.075453996658325, Learned k: 0.25803497433662415\n",
            "Epoch 600/1000, Loss: 0.3563166558742523, Learned Adaptive BC: 2.0346431732177734, Learned k: 0.2016325443983078\n",
            "Epoch 700/1000, Loss: 0.06824902445077896, Learned Adaptive BC: 0.8837726712226868, Learned k: 0.1467367708683014\n",
            "Epoch 800/1000, Loss: 2.050873445114121e-05, Learned Adaptive BC: -0.004209509585052729, Learned k: 0.06175634264945984\n",
            "Epoch 900/1000, Loss: 2.0147673751580442e-07, Learned Adaptive BC: -9.445672912988812e-05, Learned k: 0.0340682789683342\n"
          ]
        },
        {
          "output_type": "display_data",
          "data": {
            "text/plain": [
              "<Figure size 800x600 with 2 Axes>"
            ],
            "image/png": "[encoded data removed]"
          },
          "metadata": {}
        }
      ],
      "source": [
        "# Input parameters\n",
        "ub = np.array([1, 1])\n",
        "lb = np.array([0.0, 0.0])\n",
        "layers = [2, 40, 40, 40, 40, 1]  # Neural network layers\n",
        "epochs = 1000\n",
        "\n",
        "# Training data (boundary condition points)\n",
        "x_train = torch.linspace(0.0, 1.0, 100, device=device).view(-1, 1).requires_grad_(True)\n",
        "y_train = torch.linspace(0.0, 1.0, 100, device=device).view(-1, 1).requires_grad_(True)\n",
        "x_train, y_train = torch.meshgrid(x_train.squeeze(), y_train.squeeze(), indexing='ij')\n",
        "x_bc, y_bc = x_train.reshape(-1, 1), y_train.reshape(-1, 1)\n",
        "\n",
        "# Model initialization\n",
        "model = PINN(layers, ub=ub, lb=lb).to(device)\n",
        "optimizer = optim.Adam(model.parameters(), lr=0.01, weight_decay=1e-6)\n",
        "scheduler = torch.optim.lr_scheduler.ReduceLROnPlateau(optimizer, patience=200, factor=0.5, verbose=True)\n",
        "\n",
        "# Train the model\n",
        "train_pinn(model, optimizer, scheduler, x_bc, y_bc, torch.cat([x_bc, y_bc], dim=1), epochs)\n",
        "\n",
        "# Visualize solution\n",
        "visualize_solution(model, x_train, y_train)"
      ]
    }
  ],
  "metadata": {
    "accelerator": "GPU",
    "colab": {
      "gpuType": "T4",
      "provenance": []
    },
    "kernelspec": {
      "display_name": "Python 3",
      "name": "python3"
    },
    "language_info": {
      "codemirror_mode": {
        "name": "ipython",
        "version": 3
      },
      "file_extension": ".py",
      "mimetype": "text/x-python",
      "name": "python",
      "nbconvert_exporter": "python",
      "pygments_lexer": "ipython3",
      "version": "3.9.7"
    }
  },
  "nbformat": 4,
  "nbformat_minor": 5
}